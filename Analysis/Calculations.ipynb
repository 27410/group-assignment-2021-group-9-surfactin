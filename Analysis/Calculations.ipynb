{
 "cells": [
  {
   "cell_type": "markdown",
   "id": "17efbca6-1d3a-4000-8af4-8bcb72033df6",
   "metadata": {},
   "source": [
    "### Calculation file"
   ]
  },
  {
   "cell_type": "code",
   "execution_count": 2,
   "id": "2696b996-1506-4d12-9246-5744d6c37cb1",
   "metadata": {},
   "outputs": [],
   "source": [
    "%run model.ipynb #calling model"
   ]
  },
  {
   "cell_type": "markdown",
   "id": "152b205b-9c48-4b55-bd11-2d028f6ec4a1",
   "metadata": {},
   "source": [
    "#### Fluxes for all four surfactin reactions on glucose"
   ]
  },
  {
   "cell_type": "code",
   "execution_count": 5,
   "id": "20b330e9-8757-48f5-b609-3d583eb4afe5",
   "metadata": {},
   "outputs": [
    {
     "name": "stdout",
     "output_type": "stream",
     "text": [
      "SP_1 flux:\n",
      "0.07461282448997689\n"
     ]
    }
   ],
   "source": [
    "with model: #no changes to actual model\n",
    "    model.objective = model.reactions.SP_1 #making SP_1 the objective\n",
    "    print(\"SP_1 flux:\") #title for number\n",
    "    print(model.optimize().objective_value)"
   ]
  },
  {
   "cell_type": "code",
   "execution_count": 6,
   "id": "f2f3afdf-e840-4c13-be6b-e739baccee43",
   "metadata": {},
   "outputs": [
    {
     "name": "stdout",
     "output_type": "stream",
     "text": [
      "SP_2 flux:\n",
      "0.07195244919053917\n"
     ]
    }
   ],
   "source": [
    "with model: \n",
    "    model.objective = model.reactions.SP_2 #making SP_2 the objective\n",
    "    print(\"SP_2 flux:\") #title\n",
    "    print(model.optimize().objective_value)"
   ]
  },
  {
   "cell_type": "code",
   "execution_count": 7,
   "id": "3cc24f96-ca1e-4daf-9f1a-93070a97b14c",
   "metadata": {},
   "outputs": [
    {
     "name": "stdout",
     "output_type": "stream",
     "text": [
      "SP_3 flux:\n",
      "0.07012274371917811\n"
     ]
    }
   ],
   "source": [
    "with model:\n",
    "    model.objective = model.reactions.SP_3 #making SP_3 the objective\n",
    "    print(\"SP_3 flux:\") #title\n",
    "    print(model.optimize().objective_value)"
   ]
  },
  {
   "cell_type": "code",
   "execution_count": 8,
   "id": "5809a7dd-d334-4c6b-ba3f-dff582e02f12",
   "metadata": {},
   "outputs": [
    {
     "name": "stdout",
     "output_type": "stream",
     "text": [
      "SP_4 flux:\n",
      "0.07045103371786338\n"
     ]
    }
   ],
   "source": [
    "with model:\n",
    "    model.objective = model.reactions.SP_4 #making SP_4 the objective\n",
    "    print(\"SP_4 flux:\") #title\n",
    "    print(model.optimize().objective_value)"
   ]
  },
  {
   "cell_type": "code",
   "execution_count": 9,
   "id": "a2a4ae5e-eefc-4b5e-9a3d-a8d6652efbd8",
   "metadata": {},
   "outputs": [
    {
     "name": "stdout",
     "output_type": "stream",
     "text": [
      "DM_surfactin flux:\n",
      "0.07461282448997689\n"
     ]
    }
   ],
   "source": [
    "#Flux for surfactin production, so all reactions included \n",
    "with model:\n",
    "    model.objective = model.reactions.DM_surfactin_c #surfactin demanded\n",
    "    print(\"DM_surfactin flux:\") #title\n",
    "    print(model.optimize().objective_value)"
   ]
  },
  {
   "cell_type": "markdown",
   "id": "9381c39f-8662-4c2e-9275-251c26414126",
   "metadata": {},
   "source": [
    "#### Yield calculations on glucose"
   ]
  },
  {
   "cell_type": "code",
   "execution_count": 12,
   "id": "a8996be9-fcd2-40dc-b987-6a7c083a4c7f",
   "metadata": {},
   "outputs": [
    {
     "name": "stdout",
     "output_type": "stream",
     "text": [
      "Maximum productivity = 0.07461282448997689 mmol/gDW*h\n",
      "Maximum theoretical yield = 0.043889896758809936 mmol-surfactin/mmol-glucose\n"
     ]
    }
   ],
   "source": [
    "#First on glucose\n",
    "surfactin_production = model.optimize().objective_value #flux for surfactin\n",
    "print('Maximum productivity =', surfactin_production, 'mmol/gDW*h')\n",
    "   \n",
    "maximum_yield = surfactin_production / (-1*(model.reactions.EX_glc__D_e.flux)) #calculate yield\n",
    "print('Maximum theoretical yield =', maximum_yield, 'mmol-surfactin/mmol-glucose')"
   ]
  },
  {
   "cell_type": "markdown",
   "id": "9e5dd1bc-37ee-4f82-8d35-9209ce916b93",
   "metadata": {},
   "source": [
    "### Flux calculations for surfactin on sucrose"
   ]
  },
  {
   "cell_type": "code",
   "execution_count": 13,
   "id": "15ed2288-2cb1-417a-a1c2-eb02ab22ceeb",
   "metadata": {},
   "outputs": [],
   "source": [
    "%run model_sucrose.ipynb #calling sucrose model instead"
   ]
  },
  {
   "cell_type": "code",
   "execution_count": 14,
   "id": "f28a6ff4-5610-47c5-b724-dec976737c89",
   "metadata": {},
   "outputs": [
    {
     "name": "stdout",
     "output_type": "stream",
     "text": [
      "SP_1 flux:\n",
      "0.3436433767512154\n"
     ]
    }
   ],
   "source": [
    "with model:\n",
    "    model.objective = model.reactions.SP_1 #making SP_1 the objective\n",
    "    print(\"SP_1 flux:\") #title\n",
    "    print(model.optimize().objective_value)"
   ]
  },
  {
   "cell_type": "code",
   "execution_count": 15,
   "id": "e3437d7b-f3d1-4505-8a1d-80efd704703c",
   "metadata": {},
   "outputs": [
    {
     "name": "stdout",
     "output_type": "stream",
     "text": [
      "SP_2 flux:\n",
      "0.3436433767512145\n"
     ]
    }
   ],
   "source": [
    "with model:\n",
    "    model.objective = model.reactions.SP_2 #making SP_2 the objective\n",
    "    print(\"SP_2 flux:\") #title\n",
    "    print(model.optimize().objective_value)"
   ]
  },
  {
   "cell_type": "code",
   "execution_count": 16,
   "id": "0a82434c-a38e-4809-923d-88bffaecfaa4",
   "metadata": {},
   "outputs": [
    {
     "name": "stdout",
     "output_type": "stream",
     "text": [
      "SP_3 flux:\n",
      "0.3436433767512151\n"
     ]
    }
   ],
   "source": [
    "with model:\n",
    "    model.objective = model.reactions.SP_3 #making SP_3 the objective\n",
    "    print(\"SP_3 flux:\") #title\n",
    "    print(model.optimize().objective_value)"
   ]
  },
  {
   "cell_type": "code",
   "execution_count": 17,
   "id": "fdbe5b19-3660-4262-a307-36d991804696",
   "metadata": {},
   "outputs": [
    {
     "name": "stdout",
     "output_type": "stream",
     "text": [
      "SP_4 flux:\n",
      "0.34364337675121576\n"
     ]
    }
   ],
   "source": [
    "with model:\n",
    "    model.objective = model.reactions.SP_4 #making SP_4 the objective\n",
    "    print(\"SP_4 flux:\") #title\n",
    "    print(model.optimize().objective_value)"
   ]
  },
  {
   "cell_type": "code",
   "execution_count": 18,
   "id": "d853dda8-8a0f-451c-8b4c-d50a4daf5f81",
   "metadata": {},
   "outputs": [
    {
     "name": "stdout",
     "output_type": "stream",
     "text": [
      "DM_surfactin flux:\n",
      "0.34364337675121576\n"
     ]
    }
   ],
   "source": [
    "with model:\n",
    "    model.objective = model.reactions.DM_surfactin_c #whole surfactin production\n",
    "    print(\"DM_surfactin flux:\") #title\n",
    "    print(model.optimize().objective_value)"
   ]
  },
  {
   "cell_type": "markdown",
   "id": "cfa401b6-21c0-46f8-884c-0adae126b931",
   "metadata": {},
   "source": [
    "### Yield of surfactin on sucrose"
   ]
  },
  {
   "cell_type": "code",
   "execution_count": 19,
   "id": "6fa34e2e-1605-4a0e-a036-ad0b735c573d",
   "metadata": {},
   "outputs": [
    {
     "name": "stdout",
     "output_type": "stream",
     "text": [
      "Maximum productivity = 0.34364337675121576 mmol/gDW*h\n",
      "Maximum theoretical yield = 0.11319439350178667 mmol-surfactin/mmol-sucrose\n"
     ]
    }
   ],
   "source": [
    "#now on sucrose\n",
    "surfactin_production = model.optimize().objective_value #flux\n",
    "print('Maximum productivity =', surfactin_production, 'mmol/gDW*h')\n",
    "   \n",
    "maximum_yield = surfactin_production / (-1*(model.reactions.EX_sucr_e.flux)) #yield calculations\n",
    "print('Maximum theoretical yield =', maximum_yield, 'mmol-surfactin/mmol-sucrose')"
   ]
  },
  {
   "cell_type": "markdown",
   "id": "023eb439-e149-418e-8b1b-88c7877ec1f1",
   "metadata": {},
   "source": [
    "The article had 0.154 mol-surfactin/mol-sucrose after knock-in, this number is close. \\\n",
    "On top of that the surfactin yield is higher on sucrose than on glucose. "
   ]
  }
 ],
 "metadata": {
  "kernelspec": {
   "display_name": "Python 3 (ipykernel)",
   "language": "python",
   "name": "python3"
  },
  "language_info": {
   "codemirror_mode": {
    "name": "ipython",
    "version": 3
   },
   "file_extension": ".py",
   "mimetype": "text/x-python",
   "name": "python",
   "nbconvert_exporter": "python",
   "pygments_lexer": "ipython3",
   "version": "3.8.11"
  }
 },
 "nbformat": 4,
 "nbformat_minor": 5
}
