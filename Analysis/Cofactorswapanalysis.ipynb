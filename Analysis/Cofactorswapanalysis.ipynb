{
 "cells": [
  {
   "cell_type": "markdown",
   "id": "e53c39ac-c80a-49b3-943f-b3f2a68850d7",
   "metadata": {},
   "source": [
    "Trying to run analysis as a defined function for easy swapping between targets. "
   ]
  },
  {
   "cell_type": "code",
   "execution_count": 1,
   "id": "48824b43-ffa7-401a-9baf-0c813d23073c",
   "metadata": {},
   "outputs": [],
   "source": [
    "%run model_sucrose.ipynb #Getting model with sucrose as carbon source for modifications"
   ]
  },
  {
   "cell_type": "code",
   "execution_count": 2,
   "id": "06064560-60e0-42a9-8e51-65f585e091c0",
   "metadata": {},
   "outputs": [],
   "source": [
    "from cameo.strain_design.heuristic.evolutionary_based import CofactorSwapOptimization\n",
    "from cameo.strain_design.heuristic.evolutionary.objective_functions import product_yield\n",
    "\n",
    "from cameo.strain_design.heuristic.evolutionary.optimization import CofactorSwapOptimization, NADH_NADPH\n",
    "#Pulling relevant code from cameo. "
   ]
  },
  {
   "cell_type": "code",
   "execution_count": 3,
   "id": "7ca84869-11c9-4087-9aff-ff1277f2d8df",
   "metadata": {},
   "outputs": [],
   "source": [
    "import time\n",
    "def cofactor_optimization(model, reaction='HACD5'):\n",
    "    # Starting time for code\n",
    "    start = time.time()\n",
    "    \n",
    "    model.solver = \"glpk\" #Free software package\n",
    "    \n",
    "    biomass = model.reactions.BIOMASS_BS_10 #Reactions leading to biomass formation \n",
    "    biomass.lower_bound = 0.1 #Possible to change bounds, but does that make sense to do?\n",
    "    \n",
    "    model.objective = getattr(model.reactions, reaction) #Definition on what product we are demanding / looking for and setting it as model objective\n",
    "    \n",
    "    pyield = product_yield(demand, model.reactions.EX_sucr_e) #Setting the yield of surfactin based on the surcrose used\n",
    "    swap_opt = CofactorSwapOptimization(model=model, objective_function=pyield, plot=True, cofactor_id_swaps=(['nadp_c', 'nadph_c'], ['nad_c', 'nadh_c']))\n",
    "    \n",
    "    result = swap_opt.run(max_evaluations=100, max_size=5) #Running the analysis\n",
    "    \n",
    "    print('Total Time: %.1f' %(time.time()-start))\n",
    "    \n",
    "    return result"
   ]
  },
  {
   "cell_type": "code",
   "execution_count": 4,
   "id": "b60dc749-4365-4acf-9bb0-2c3f612f626f",
   "metadata": {},
   "outputs": [
    {
     "ename": "NameError",
     "evalue": "name 'demand' is not defined",
     "output_type": "error",
     "traceback": [
      "\u001b[1;31m---------------------------------------------------------------------------\u001b[0m",
      "\u001b[1;31mNameError\u001b[0m                                 Traceback (most recent call last)",
      "\u001b[1;32m~\\AppData\\Local\\Temp/ipykernel_6184/3981991013.py\u001b[0m in \u001b[0;36m<module>\u001b[1;34m\u001b[0m\n\u001b[1;32m----> 1\u001b[1;33m \u001b[0mcofactor_optimization\u001b[0m\u001b[1;33m(\u001b[0m\u001b[0mmodel\u001b[0m\u001b[1;33m,\u001b[0m \u001b[0mreaction\u001b[0m\u001b[1;33m=\u001b[0m\u001b[1;34m'HACD5'\u001b[0m\u001b[1;33m)\u001b[0m\u001b[1;33m\u001b[0m\u001b[1;33m\u001b[0m\u001b[0m\n\u001b[0m",
      "\u001b[1;32m~\\AppData\\Local\\Temp/ipykernel_6184/3481942138.py\u001b[0m in \u001b[0;36mcofactor_optimization\u001b[1;34m(model, reaction)\u001b[0m\n\u001b[0;32m     11\u001b[0m     \u001b[0mmodel\u001b[0m\u001b[1;33m.\u001b[0m\u001b[0mobjective\u001b[0m \u001b[1;33m=\u001b[0m \u001b[0mgetattr\u001b[0m\u001b[1;33m(\u001b[0m\u001b[0mmodel\u001b[0m\u001b[1;33m.\u001b[0m\u001b[0mreactions\u001b[0m\u001b[1;33m,\u001b[0m \u001b[0mreaction\u001b[0m\u001b[1;33m)\u001b[0m \u001b[1;31m#Definition on what product we are demanding / looking for and setting it as model objective\u001b[0m\u001b[1;33m\u001b[0m\u001b[1;33m\u001b[0m\u001b[0m\n\u001b[0;32m     12\u001b[0m \u001b[1;33m\u001b[0m\u001b[0m\n\u001b[1;32m---> 13\u001b[1;33m     \u001b[0mpyield\u001b[0m \u001b[1;33m=\u001b[0m \u001b[0mproduct_yield\u001b[0m\u001b[1;33m(\u001b[0m\u001b[0mdemand\u001b[0m\u001b[1;33m,\u001b[0m \u001b[0mmodel\u001b[0m\u001b[1;33m.\u001b[0m\u001b[0mreactions\u001b[0m\u001b[1;33m.\u001b[0m\u001b[0mEX_sucr_e\u001b[0m\u001b[1;33m)\u001b[0m \u001b[1;31m#Setting the yield of surfactin based on the surcrose used\u001b[0m\u001b[1;33m\u001b[0m\u001b[1;33m\u001b[0m\u001b[0m\n\u001b[0m\u001b[0;32m     14\u001b[0m     \u001b[0mswap_opt\u001b[0m \u001b[1;33m=\u001b[0m \u001b[0mCofactorSwapOptimization\u001b[0m\u001b[1;33m(\u001b[0m\u001b[0mmodel\u001b[0m\u001b[1;33m=\u001b[0m\u001b[0mmodel\u001b[0m\u001b[1;33m,\u001b[0m \u001b[0mobjective_function\u001b[0m\u001b[1;33m=\u001b[0m\u001b[0mpyield\u001b[0m\u001b[1;33m,\u001b[0m \u001b[0mplot\u001b[0m\u001b[1;33m=\u001b[0m\u001b[1;32mTrue\u001b[0m\u001b[1;33m,\u001b[0m \u001b[0mcofactor_id_swaps\u001b[0m\u001b[1;33m=\u001b[0m\u001b[1;33m(\u001b[0m\u001b[1;33m[\u001b[0m\u001b[1;34m'nadp_c'\u001b[0m\u001b[1;33m,\u001b[0m \u001b[1;34m'nadph_c'\u001b[0m\u001b[1;33m]\u001b[0m\u001b[1;33m,\u001b[0m \u001b[1;33m[\u001b[0m\u001b[1;34m'nad_c'\u001b[0m\u001b[1;33m,\u001b[0m \u001b[1;34m'nadh_c'\u001b[0m\u001b[1;33m]\u001b[0m\u001b[1;33m)\u001b[0m\u001b[1;33m)\u001b[0m\u001b[1;33m\u001b[0m\u001b[1;33m\u001b[0m\u001b[0m\n\u001b[0;32m     15\u001b[0m \u001b[1;33m\u001b[0m\u001b[0m\n",
      "\u001b[1;31mNameError\u001b[0m: name 'demand' is not defined"
     ]
    }
   ],
   "source": [
    "cofactor_optimization(model, reaction='HACD5')"
   ]
  },
  {
   "cell_type": "code",
   "execution_count": null,
   "id": "99022858-cb57-4c0d-acdb-dc284f14901c",
   "metadata": {},
   "outputs": [],
   "source": []
  }
 ],
 "metadata": {
  "kernelspec": {
   "display_name": "Python 3 (ipykernel)",
   "language": "python",
   "name": "python3"
  },
  "language_info": {
   "codemirror_mode": {
    "name": "ipython",
    "version": 3
   },
   "file_extension": ".py",
   "mimetype": "text/x-python",
   "name": "python",
   "nbconvert_exporter": "python",
   "pygments_lexer": "ipython3",
   "version": "3.8.11"
  }
 },
 "nbformat": 4,
 "nbformat_minor": 5
}
