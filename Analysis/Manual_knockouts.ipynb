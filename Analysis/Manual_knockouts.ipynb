{
 "cells": [
  {
   "cell_type": "code",
   "execution_count": 29,
   "id": "cb645c5b-5482-4799-8867-436b437517de",
   "metadata": {},
   "outputs": [],
   "source": [
    "%run model_sucrose.ipynb"
   ]
  },
  {
   "cell_type": "code",
   "execution_count": null,
   "id": "1c7a15c3-ebf3-43bd-93ac-bb8e0b227a52",
   "metadata": {},
   "outputs": [],
   "source": []
  },
  {
   "cell_type": "code",
   "execution_count": 30,
   "id": "e50ee7f9-0ac4-4501-a3d9-3ad69369d743",
   "metadata": {},
   "outputs": [
    {
     "data": {
      "text/plain": [
       "[<Reaction BETALDHx at 0x1ca5b23de80>,\n",
       " <Reaction LDH2 at 0x1ca5b4c6670>,\n",
       " <Reaction LDH_L at 0x1ca5b5086a0>,\n",
       " <Reaction VALDHr at 0x1ca5b786b80>]"
      ]
     },
     "execution_count": 30,
     "metadata": {},
     "output_type": "execute_result"
    }
   ],
   "source": [
    "model.reactions.query(\"LDH\")"
   ]
  },
  {
   "cell_type": "code",
   "execution_count": 31,
   "id": "0d3a01a0-14dd-48f5-b54b-0cad87f0f76e",
   "metadata": {},
   "outputs": [
    {
     "name": "stdout",
     "output_type": "stream",
     "text": [
      "ATPPRT's bounds inside the with statement\n",
      "0 (0, 0)\n",
      "Mutant growth rate [mmol gDW^-1 h^-1]:  0.3571428571428562\n",
      "Max. succinate production [mmol gDW^-1 h^-1]: 0.3571428571428562\n",
      "Theoretical max. yield [mmol-succ / mmol-ac]: 0.12499999999999994\n"
     ]
    }
   ],
   "source": [
    "with model:\n",
    "    model.objective = model.reactions.SP_1\n",
    "    model.reactions.LDH_L.bounds = 0, 0\n",
    "    print(\"ATPPRT's bounds inside the with statement\")\n",
    "    print(model.reactions.LDH_L.lower_bound, model.reactions.LDH_L.bounds)\n",
    "    print('Mutant growth rate [mmol gDW^-1 h^-1]: ', model.optimize().objective_value)\n",
    "    with model:\n",
    "        model.objective = model.reactions.SP_1\n",
    "        surfactin_production = model.optimize().objective_value\n",
    "        print(\"Max. succinate production [mmol gDW^-1 h^-1]:\", surfactin_production)\n",
    "        print(\"Theoretical max. yield [mmol-succ / mmol-ac]:\", surfactin_production / (-1*model.reactions.EX_sucr_e.flux))"
   ]
  },
  {
   "cell_type": "code",
   "execution_count": 6,
   "id": "12948258-69a3-4caf-a93d-f2297ab15249",
   "metadata": {},
   "outputs": [
    {
     "data": {
      "text/plain": [
       "{<Metabolite lac__L_c at 0x1ca59489be0>: -1.0,\n",
       " <Metabolite nad_c at 0x1ca5949dd90>: -1.0,\n",
       " <Metabolite h_c at 0x1ca5945ad30>: 1.0,\n",
       " <Metabolite nadh_c at 0x1ca5949dfd0>: 1.0,\n",
       " <Metabolite pyr_c at 0x1ca595053d0>: 1.0}"
      ]
     },
     "execution_count": 6,
     "metadata": {},
     "output_type": "execute_result"
    }
   ],
   "source": [
    "model.reactions.LDH_L.metabolites"
   ]
  },
  {
   "cell_type": "code",
   "execution_count": 8,
   "id": "682f85e7-c8f0-460b-b331-4894d8a3d780",
   "metadata": {},
   "outputs": [
    {
     "data": {
      "text/plain": [
       "[<Reaction APTA1i at 0x1ca59909490>,\n",
       " <Reaction ASPTA at 0x1ca599f5e50>,\n",
       " <Reaction GF6PTA at 0x1ca59b938b0>,\n",
       " <Reaction PTAr at 0x1ca59ddafd0>,\n",
       " <Reaction PTA2 at 0x1ca59ddaca0>]"
      ]
     },
     "execution_count": 8,
     "metadata": {},
     "output_type": "execute_result"
    }
   ],
   "source": [
    "model.reactions.query(\"PTA\")"
   ]
  },
  {
   "cell_type": "code",
   "execution_count": null,
   "id": "8adfe738-d379-4c0b-b92e-c430bd723f05",
   "metadata": {},
   "outputs": [],
   "source": []
  }
 ],
 "metadata": {
  "kernelspec": {
   "display_name": "Python 3 (ipykernel)",
   "language": "python",
   "name": "python3"
  },
  "language_info": {
   "codemirror_mode": {
    "name": "ipython",
    "version": 3
   },
   "file_extension": ".py",
   "mimetype": "text/x-python",
   "name": "python",
   "nbconvert_exporter": "python",
   "pygments_lexer": "ipython3",
   "version": "3.8.11"
  }
 },
 "nbformat": 4,
 "nbformat_minor": 5
}
