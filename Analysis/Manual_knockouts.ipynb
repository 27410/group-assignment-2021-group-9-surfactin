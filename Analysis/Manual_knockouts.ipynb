{
 "cells": [
  {
   "cell_type": "code",
   "execution_count": 68,
   "id": "cb645c5b-5482-4799-8867-436b437517de",
   "metadata": {},
   "outputs": [],
   "source": [
    "%run model_sucrose.ipynb"
   ]
  },
  {
   "cell_type": "markdown",
   "id": "c7186a34-ee4c-4aa6-8cce-bd34260cdff9",
   "metadata": {},
   "source": [
    "Knocking out reactions mentioned in the paper by Wu et al (Wu et al., 2019):\n",
    "- LDH which converts pyruvate to lactate\n",
    "- PTA which converts Acetyl-CoA to Acetyl phosphate"
   ]
  },
  {
   "cell_type": "markdown",
   "id": "cd5740e3-f417-4e43-9bcc-5ccb7bec9f13",
   "metadata": {},
   "source": [
    "### Finding knockout targets"
   ]
  },
  {
   "cell_type": "markdown",
   "id": "86c87cfd-7cca-473c-8367-9a0af1202058",
   "metadata": {},
   "source": [
    "#### Finding the LDH reaction:"
   ]
  },
  {
   "cell_type": "code",
   "execution_count": 69,
   "id": "e50ee7f9-0ac4-4501-a3d9-3ad69369d743",
   "metadata": {},
   "outputs": [
    {
     "data": {
      "text/plain": [
       "[<Reaction BETALDHx at 0x1ca5e3cdf70>,\n",
       " <Reaction LDH2 at 0x1ca5e66ddf0>,\n",
       " <Reaction LDH_L at 0x1ca5e680ee0>,\n",
       " <Reaction VALDHr at 0x1ca5e8e6d60>]"
      ]
     },
     "execution_count": 89,
     "metadata": {},
     "output_type": "execute_result"
    }
   ],
   "source": [
    "model.reactions.query(\"LDH\")"
   ]
  },
  {
   "cell_type": "markdown",
   "id": "18a2912f-7d19-433c-a06b-345809aadf86",
   "metadata": {},
   "source": [
    "Checking if LDH_L is the one producing lactate"
   ]
  },
  {
   "cell_type": "code",
   "execution_count": 70,
   "id": "d61936a5-e67d-40fa-ba90-ba1528af5b41",
   "metadata": {},
   "outputs": [
    {
     "data": {
      "text/plain": [
       "{<Metabolite lac__L_c at 0x1ca5e075280>: -1.0,\n",
       " <Metabolite nad_c at 0x1ca5e07e700>: -1.0,\n",
       " <Metabolite h_c at 0x1ca5e0706a0>: 1.0,\n",
       " <Metabolite nadh_c at 0x1ca5e07e940>: 1.0,\n",
       " <Metabolite pyr_c at 0x1ca5e08cd00>: 1.0}"
      ]
     },
     "execution_count": 90,
     "metadata": {},
     "output_type": "execute_result"
    }
   ],
   "source": [
    "model.reactions.LDH_L.metabolites"
   ]
  },
  {
   "cell_type": "code",
   "execution_count": 71,
   "id": "220b4712-a5d9-4801-99c7-3e6253d17dc9",
   "metadata": {},
   "outputs": [
    {
     "data": {
      "text/plain": [
       "'L-Lactate'"
      ]
     },
     "execution_count": 91,
     "metadata": {},
     "output_type": "execute_result"
    }
   ],
   "source": [
    "model.metabolites.lac__L_c.name"
   ]
  },
  {
   "cell_type": "markdown",
   "id": "a08634c2-d5c0-4b9c-a01f-fc066fb953ed",
   "metadata": {},
   "source": [
    "Yes. Seems like LDH_L is the reaction we're looking for."
   ]
  },
  {
   "cell_type": "markdown",
   "id": "55c1e1d8-d373-4a7a-8e81-51dd07b2a63c",
   "metadata": {
    "tags": []
   },
   "source": [
    "#### Finding the PTA reaction"
   ]
  },
  {
   "cell_type": "code",
   "execution_count": 72,
   "id": "3dd0bbb1-3f35-4f02-a4b0-7dae2c40c194",
   "metadata": {},
   "outputs": [
    {
     "data": {
      "text/plain": [
       "[<Reaction APTA1i at 0x1ca5e330d30>,\n",
       " <Reaction ASPTA at 0x1ca5e3cdc70>,\n",
       " <Reaction GF6PTA at 0x1ca5e50a910>,\n",
       " <Reaction PTAr at 0x1ca5e729eb0>,\n",
       " <Reaction PTA2 at 0x1ca5e729d00>]"
      ]
     },
     "execution_count": 92,
     "metadata": {},
     "output_type": "execute_result"
    }
   ],
   "source": [
    "model.reactions.query(\"PTA\")"
   ]
  },
  {
   "cell_type": "markdown",
   "id": "93810315-2d9f-4254-9f11-23c0667ee7ee",
   "metadata": {},
   "source": [
    "Checking if PTAr is the reaction Acetyl phosphate:"
   ]
  },
  {
   "cell_type": "code",
   "execution_count": 73,
   "id": "ebe4cf89-9b18-4be2-af50-bd15e87c7674",
   "metadata": {},
   "outputs": [
    {
     "data": {
      "text/plain": [
       "{<Metabolite accoa_c at 0x1ca5e0311f0>: -1.0,\n",
       " <Metabolite pi_c at 0x1ca5e07a9d0>: -1.0,\n",
       " <Metabolite actp_c at 0x1ca5e03c850>: 1.0,\n",
       " <Metabolite coa_c at 0x1ca5e01d460>: 1.0}"
      ]
     },
     "execution_count": 93,
     "metadata": {},
     "output_type": "execute_result"
    }
   ],
   "source": [
    "model.reactions.PTAr.metabolites"
   ]
  },
  {
   "cell_type": "code",
   "execution_count": 74,
   "id": "4b373d4c-9dbb-4fde-b6b6-99665d0563b8",
   "metadata": {},
   "outputs": [
    {
     "data": {
      "text/plain": [
       "'Acetyl phosphate'"
      ]
     },
     "execution_count": 94,
     "metadata": {},
     "output_type": "execute_result"
    }
   ],
   "source": [
    "model.metabolites.actp_c.name"
   ]
  },
  {
   "cell_type": "markdown",
   "id": "b4b2bf7b-6772-4159-882b-80117152d68e",
   "metadata": {},
   "source": [
    "Yes. Seems like PTAr is the reaction we're looking for."
   ]
  },
  {
   "cell_type": "markdown",
   "id": "0da153be-d303-4cbf-915e-48b4bc0c791c",
   "metadata": {},
   "source": [
    "### Knocking out reactions"
   ]
  },
  {
   "cell_type": "markdown",
   "id": "a4c5d902-d3dc-4a85-b1d6-c007a89257bf",
   "metadata": {},
   "source": [
    "Now we'll try knocking it out each of the reactions and see what happens to the growth and surfactin yield:"
   ]
  },
  {
   "cell_type": "markdown",
   "id": "22075d89-09aa-425c-bd37-1cce71ac9ada",
   "metadata": {},
   "source": [
    "Knockout of lac__L_c:"
   ]
  },
  {
   "cell_type": "code",
   "execution_count": 97,
   "id": "0d3a01a0-14dd-48f5-b54b-0cad87f0f76e",
   "metadata": {},
   "outputs": [
    {
     "name": "stdout",
     "output_type": "stream",
     "text": [
      "ATPPRT's bounds inside the with statement\n",
      "0 (0, 0)\n",
      "Mutant growth rate [mmol gDW^-1 h^-1]:  0.3436433767512154\n",
      "Max. succinate production [mmol gDW^-1 h^-1]: 0.3436433767512154\n",
      "Theoretical max. yield [mmol-succ / mmol-ac]: 0.12001049195903496\n"
     ]
    }
   ],
   "source": [
    "with model:\n",
    "    model.objective = model.reactions.SP_1\n",
    "    model.reactions.LDH_L.bounds = 0, 0\n",
    "    print(\"ATPPRT's bounds inside the with statement\")\n",
    "    print(model.reactions.LDH_L.lower_bound, model.reactions.LDH_L.bounds)\n",
    "    print('Mutant growth rate [mmol gDW^-1 h^-1]: ', model.optimize().objective_value)\n",
    "    with model:\n",
    "        model.objective = model.reactions.SP_1\n",
    "        surfactin_production = model.optimize().objective_value\n",
    "        print(\"Max. succinate production [mmol gDW^-1 h^-1]:\", surfactin_production)\n",
    "        print(\"Theoretical max. yield [mmol-succ / mmol-ac]:\", surfactin_production / (-1*model.reactions.EX_sucr_e.flux))"
   ]
  },
  {
   "cell_type": "markdown",
   "id": "49da2e80-2ffb-4510-8c62-240f3597393d",
   "metadata": {},
   "source": [
    "Knockout of PTAr:"
   ]
  },
  {
   "cell_type": "code",
   "execution_count": 98,
   "id": "6be04045-782f-4a35-8e19-703a544de776",
   "metadata": {},
   "outputs": [
    {
     "name": "stdout",
     "output_type": "stream",
     "text": [
      "ATPPRT's bounds inside the with statement\n",
      "0 (0, 0)\n",
      "Mutant growth rate [mmol gDW^-1 h^-1]:  0.3436433767512154\n",
      "Max. succinate production [mmol gDW^-1 h^-1]: 0.3436433767512154\n",
      "Theoretical max. yield [mmol-succ / mmol-ac]: 0.11996699542671414\n"
     ]
    }
   ],
   "source": [
    "with model:\n",
    "    model.objective = model.reactions.SP_1\n",
    "    model.reactions.PTAr.bounds = 0, 0\n",
    "    print(\"ATPPRT's bounds inside the with statement\")\n",
    "    print(model.reactions.PTAr.lower_bound, model.reactions.PTAr.bounds)\n",
    "    print('Mutant growth rate [mmol gDW^-1 h^-1]: ', model.optimize().objective_value)\n",
    "    with model:\n",
    "        model.objective = model.reactions.SP_1\n",
    "        surfactin_production = model.optimize().objective_value\n",
    "        print(\"Max. succinate production [mmol gDW^-1 h^-1]:\", surfactin_production)\n",
    "        print(\"Theoretical max. yield [mmol-succ / mmol-ac]:\", surfactin_production / (-1*model.reactions.EX_sucr_e.flux))"
   ]
  },
  {
   "cell_type": "markdown",
   "id": "ea7bc30f-f618-4d8d-b45a-e4c9062b79d4",
   "metadata": {},
   "source": [
    "In both cases we see that the yield get's a little higher. "
   ]
  }
 ],
 "metadata": {
  "kernelspec": {
   "display_name": "Python 3 (ipykernel)",
   "language": "python",
   "name": "python3"
  },
  "language_info": {
   "codemirror_mode": {
    "name": "ipython",
    "version": 3
   },
   "file_extension": ".py",
   "mimetype": "text/x-python",
   "name": "python",
   "nbconvert_exporter": "python",
   "pygments_lexer": "ipython3",
   "version": "3.8.11"
  }
 },
 "nbformat": 4,
 "nbformat_minor": 5
}
