{
 "cells": [
  {
   "cell_type": "code",
   "execution_count": 96,
   "id": "cb645c5b-5482-4799-8867-436b437517de",
   "metadata": {},
   "outputs": [],
   "source": [
    "%run model_sucrose.ipynb"
   ]
  },
  {
   "cell_type": "markdown",
   "id": "c7186a34-ee4c-4aa6-8cce-bd34260cdff9",
   "metadata": {},
   "source": [
    "Knocking out reactions mentioned in the paper by Wu et al (Wu et al., 2019):\n",
    "- LDH which converts pyruvate to lactate\n",
    "- PTA which converts Acetyl-CoA to Acetyl phosphate"
   ]
  },
  {
   "cell_type": "markdown",
   "id": "cd5740e3-f417-4e43-9bcc-5ccb7bec9f13",
   "metadata": {},
   "source": [
    "### Finding knockout targets"
   ]
  },
  {
   "cell_type": "markdown",
   "id": "86c87cfd-7cca-473c-8367-9a0af1202058",
   "metadata": {},
   "source": [
    "#### Finding the LDH reaction:"
   ]
  },
  {
   "cell_type": "code",
   "execution_count": 97,
   "id": "e50ee7f9-0ac4-4501-a3d9-3ad69369d743",
   "metadata": {},
   "outputs": [
    {
     "data": {
      "text/plain": [
       "[<Reaction BETALDHx at 0x1f606403910>,\n",
       " <Reaction LDH2 at 0x1f6066d9760>,\n",
       " <Reaction LDH_L at 0x1f606700e80>,\n",
       " <Reaction VALDHr at 0x1f606953df0>]"
      ]
     },
     "execution_count": 97,
     "metadata": {},
     "output_type": "execute_result"
    }
   ],
   "source": [
    "model.reactions.query(\"LDH\")"
   ]
  },
  {
   "cell_type": "markdown",
   "id": "18a2912f-7d19-433c-a06b-345809aadf86",
   "metadata": {},
   "source": [
    "Checking if LDH_L is the one producing lactate"
   ]
  },
  {
   "cell_type": "code",
   "execution_count": 98,
   "id": "d61936a5-e67d-40fa-ba90-ba1528af5b41",
   "metadata": {},
   "outputs": [
    {
     "data": {
      "text/plain": [
       "{<Metabolite lac__L_c at 0x1f605eca850>: -1.0,\n",
       " <Metabolite nad_c at 0x1f605ee1a00>: -1.0,\n",
       " <Metabolite h_c at 0x1f605e9b9a0>: 1.0,\n",
       " <Metabolite nadh_c at 0x1f605ee1c40>: 1.0,\n",
       " <Metabolite pyr_c at 0x1f605f2a370>: 1.0}"
      ]
     },
     "execution_count": 98,
     "metadata": {},
     "output_type": "execute_result"
    }
   ],
   "source": [
    "model.reactions.LDH_L.metabolites"
   ]
  },
  {
   "cell_type": "code",
   "execution_count": 99,
   "id": "220b4712-a5d9-4801-99c7-3e6253d17dc9",
   "metadata": {},
   "outputs": [
    {
     "data": {
      "text/plain": [
       "'L-Lactate'"
      ]
     },
     "execution_count": 99,
     "metadata": {},
     "output_type": "execute_result"
    }
   ],
   "source": [
    "model.metabolites.lac__L_c.name"
   ]
  },
  {
   "cell_type": "markdown",
   "id": "a08634c2-d5c0-4b9c-a01f-fc066fb953ed",
   "metadata": {},
   "source": [
    "Yes. Seems like LDH_L is the reaction we're looking for."
   ]
  },
  {
   "cell_type": "markdown",
   "id": "55c1e1d8-d373-4a7a-8e81-51dd07b2a63c",
   "metadata": {
    "tags": []
   },
   "source": [
    "#### Finding the PTA reaction"
   ]
  },
  {
   "cell_type": "code",
   "execution_count": 100,
   "id": "3dd0bbb1-3f35-4f02-a4b0-7dae2c40c194",
   "metadata": {},
   "outputs": [
    {
     "data": {
      "text/plain": [
       "[<Reaction APTA1i at 0x1f60630f9d0>,\n",
       " <Reaction ASPTA at 0x1f606403eb0>,\n",
       " <Reaction GF6PTA at 0x1f60658ae20>,\n",
       " <Reaction PTAr at 0x1f606793e80>,\n",
       " <Reaction PTA2 at 0x1f6067a9f70>]"
      ]
     },
     "execution_count": 100,
     "metadata": {},
     "output_type": "execute_result"
    }
   ],
   "source": [
    "model.reactions.query(\"PTA\")"
   ]
  },
  {
   "cell_type": "markdown",
   "id": "93810315-2d9f-4254-9f11-23c0667ee7ee",
   "metadata": {},
   "source": [
    "Checking if PTAr is the reaction Acetyl phosphate:"
   ]
  },
  {
   "cell_type": "code",
   "execution_count": 101,
   "id": "ebe4cf89-9b18-4be2-af50-bd15e87c7674",
   "metadata": {},
   "outputs": [
    {
     "data": {
      "text/plain": [
       "{<Metabolite accoa_c at 0x1f605d79550>: -1.0,\n",
       " <Metabolite pi_c at 0x1f605ecacd0>: -1.0,\n",
       " <Metabolite actp_c at 0x1f605d99b50>: 1.0,\n",
       " <Metabolite coa_c at 0x1f605db4760>: 1.0}"
      ]
     },
     "execution_count": 101,
     "metadata": {},
     "output_type": "execute_result"
    }
   ],
   "source": [
    "model.reactions.PTAr.metabolites"
   ]
  },
  {
   "cell_type": "code",
   "execution_count": 102,
   "id": "4b373d4c-9dbb-4fde-b6b6-99665d0563b8",
   "metadata": {},
   "outputs": [
    {
     "data": {
      "text/plain": [
       "'Acetyl phosphate'"
      ]
     },
     "execution_count": 102,
     "metadata": {},
     "output_type": "execute_result"
    }
   ],
   "source": [
    "model.metabolites.actp_c.name"
   ]
  },
  {
   "cell_type": "markdown",
   "id": "b4b2bf7b-6772-4159-882b-80117152d68e",
   "metadata": {},
   "source": [
    "Yes. Seems like PTAr is the reaction we're looking for."
   ]
  },
  {
   "cell_type": "markdown",
   "id": "0da153be-d303-4cbf-915e-48b4bc0c791c",
   "metadata": {},
   "source": [
    "### Knocking out reactions"
   ]
  },
  {
   "cell_type": "markdown",
   "id": "a4c5d902-d3dc-4a85-b1d6-c007a89257bf",
   "metadata": {},
   "source": [
    "Now we'll try knocking it out each of the reactions and see what happens to the growth and surfactin yield:"
   ]
  },
  {
   "cell_type": "markdown",
   "id": "22075d89-09aa-425c-bd37-1cce71ac9ada",
   "metadata": {},
   "source": [
    "Knockout of LDH_L:"
   ]
  },
  {
   "cell_type": "code",
   "execution_count": 103,
   "id": "0d3a01a0-14dd-48f5-b54b-0cad87f0f76e",
   "metadata": {},
   "outputs": [
    {
     "name": "stdout",
     "output_type": "stream",
     "text": [
      "LDH_L's bounds inside the with statement:\n",
      "0 (0, 0)\n",
      "Mutant growth rate [mmol gDW^-1 h^-1]:  0.6241848146321101\n",
      "Theoretical max. yield [mmol-succ / mmol-ac]: 0.11749294187350894\n"
     ]
    }
   ],
   "source": [
    "with model.copy():\n",
    "    model.reactions.LDH_L.bounds = 0, 0\n",
    "    print(\"LDH_L's bounds inside the with statement:\")\n",
    "    print(model.reactions.LDH_L.lower_bound, model.reactions.LDH_L.bounds)\n",
    "    model.objective = model.reactions.BIOMASS_BS_10\n",
    "    print('Mutant growth rate [mmol gDW^-1 h^-1]: ', model.optimize().objective_value)\n",
    "    model.objective = model.reactions.SP_1\n",
    "    surfactin_production = model.optimize().objective_value\n",
    "    print(\"Theoretical max. yield [mmol-succ / mmol-ac]:\", surfactin_production / (-1*model.reactions.EX_sucr_e.flux))"
   ]
  },
  {
   "cell_type": "markdown",
   "id": "49da2e80-2ffb-4510-8c62-240f3597393d",
   "metadata": {},
   "source": [
    "Knockout of PTAr:"
   ]
  },
  {
   "cell_type": "code",
   "execution_count": 104,
   "id": "34eb622a-9343-410c-ba53-4a69aeb4d826",
   "metadata": {},
   "outputs": [
    {
     "data": {
      "text/html": [
       "\n",
       "        <table>\n",
       "            <tr>\n",
       "                <td><strong>Name</strong></td>\n",
       "                <td>iYO844</td>\n",
       "            </tr><tr>\n",
       "                <td><strong>Memory address</strong></td>\n",
       "                <td>0x01f606bb5c10</td>\n",
       "            </tr><tr>\n",
       "                <td><strong>Number of metabolites</strong></td>\n",
       "                <td>991</td>\n",
       "            </tr><tr>\n",
       "                <td><strong>Number of reactions</strong></td>\n",
       "                <td>1255</td>\n",
       "            </tr><tr>\n",
       "                <td><strong>Number of groups</strong></td>\n",
       "                <td>0</td>\n",
       "            </tr><tr>\n",
       "                <td><strong>Objective expression</strong></td>\n",
       "                <td>1.0*SP_1 - 1.0*SP_1_reverse_84700</td>\n",
       "            </tr><tr>\n",
       "                <td><strong>Compartments</strong></td>\n",
       "                <td>cytosol, extracellular space</td>\n",
       "            </tr>\n",
       "          </table>"
      ],
      "text/plain": [
       "<Model iYO844 at 0x1f606bb5c10>"
      ]
     },
     "execution_count": 104,
     "metadata": {},
     "output_type": "execute_result"
    }
   ],
   "source": [
    "model.copy()"
   ]
  },
  {
   "cell_type": "code",
   "execution_count": 105,
   "id": "6be04045-782f-4a35-8e19-703a544de776",
   "metadata": {},
   "outputs": [
    {
     "name": "stdout",
     "output_type": "stream",
     "text": [
      "LDH_L's bounds inside the with statement:\n",
      "0 (0, 0)\n",
      "Mutant growth rate [mmol gDW^-1 h^-1]:  0.6241848146321086\n",
      "Theoretical max. yield [mmol-succ / mmol-ac]: 0.11763020637816453\n"
     ]
    }
   ],
   "source": [
    "with model:\n",
    "    model.reactions.PTAr.bounds = 0, 0\n",
    "    print(\"LDH_L's bounds inside the with statement:\")\n",
    "    print(model.reactions.PTAr.lower_bound, model.reactions.PTAr.bounds)\n",
    "    model.objective = model.reactions.BIOMASS_BS_10\n",
    "    print('Mutant growth rate [mmol gDW^-1 h^-1]: ', model.optimize().objective_value)\n",
    "    model.objective = model.reactions.SP_1\n",
    "    surfactin_production = model.optimize().objective_value\n",
    "    print(\"Theoretical max. yield [mmol-succ / mmol-ac]:\", surfactin_production / (-1*model.reactions.EX_sucr_e.flux))"
   ]
  },
  {
   "cell_type": "markdown",
   "id": "ea7bc30f-f618-4d8d-b45a-e4c9062b79d4",
   "metadata": {},
   "source": [
    "In both cases we see an increase in yield"
   ]
  },
  {
   "cell_type": "code",
   "execution_count": 106,
   "id": "ab0a0230-9d6d-47e3-accf-0b1d4550b579",
   "metadata": {},
   "outputs": [
    {
     "name": "stdout",
     "output_type": "stream",
     "text": [
      "LDH_L's bounds inside the with statement:\n",
      "0 (0, 0)\n",
      "0 (0, 0)\n",
      "Mutant growth rate [mmol gDW^-1 h^-1]:  0.624184814632109\n",
      "Theoretical max. yield [mmol-succ / mmol-ac]: 0.11731806782561004\n"
     ]
    }
   ],
   "source": [
    "with model:\n",
    "    model.reactions.LDH_L.bounds = 0, 0\n",
    "    model.reactions.PTAr.bounds = 0, 0\n",
    "    print(\"LDH_L's bounds inside the with statement:\")\n",
    "    print(model.reactions.LDH_L.lower_bound, model.reactions.LDH_L.bounds)\n",
    "    print(model.reactions.PTAr.lower_bound, model.reactions.PTAr.bounds)\n",
    "    model.objective = model.reactions.BIOMASS_BS_10\n",
    "    print('Mutant growth rate [mmol gDW^-1 h^-1]: ', model.optimize().objective_value)\n",
    "    model.objective = model.reactions.SP_1\n",
    "    surfactin_production = model.optimize().objective_value\n",
    "    print(\"Theoretical max. yield [mmol-succ / mmol-ac]:\", surfactin_production / (-1*model.reactions.EX_sucr_e.flux))"
   ]
  },
  {
   "cell_type": "code",
   "execution_count": null,
   "id": "4c731075-b8de-4ef5-b01a-12c887b4e4a4",
   "metadata": {},
   "outputs": [],
   "source": []
  },
  {
   "cell_type": "code",
   "execution_count": null,
   "id": "d56ad7d1-034e-4092-b252-f93cb0d5d8bc",
   "metadata": {},
   "outputs": [],
   "source": []
  }
 ],
 "metadata": {
  "kernelspec": {
   "display_name": "Python 3 (ipykernel)",
   "language": "python",
   "name": "python3"
  },
  "language_info": {
   "codemirror_mode": {
    "name": "ipython",
    "version": 3
   },
   "file_extension": ".py",
   "mimetype": "text/x-python",
   "name": "python",
   "nbconvert_exporter": "python",
   "pygments_lexer": "ipython3",
   "version": "3.8.11"
  }
 },
 "nbformat": 4,
 "nbformat_minor": 5
}
