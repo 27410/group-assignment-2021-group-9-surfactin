{
 "cells": [
  {
   "cell_type": "code",
   "execution_count": 2,
   "id": "7e6d444f-b64c-4238-82e4-1258b9714d05",
   "metadata": {},
   "outputs": [],
   "source": [
    "%run model_sucrose.ipynb"
   ]
  },
  {
   "cell_type": "markdown",
   "id": "3760a59b-1b6b-4c22-88b7-cd3c647ae814",
   "metadata": {},
   "source": [
    "Computing gene knockout strategies using the OptGene algorithm. The OptGene algorithm is based on an evolutionary approach which suggests several potential knockouts of different genes meaning that it is possible to screen for a fitting mutant among these options (Rocha et al., 2008). "
   ]
  },
  {
   "cell_type": "markdown",
   "id": "fabd6d79-d1bd-4173-9171-914cbe427f23",
   "metadata": {},
   "source": [
    "## Preparations"
   ]
  },
  {
   "cell_type": "markdown",
   "id": "8122d49f-61a2-48b1-9fdf-d4cb341534e8",
   "metadata": {},
   "source": [
    "Import the packages which are necessary for OptGene:"
   ]
  },
  {
   "cell_type": "code",
   "execution_count": 21,
   "id": "7828d40d-41fd-4b5c-9f06-cb21d5fd8988",
   "metadata": {},
   "outputs": [],
   "source": [
    "import cameo"
   ]
  },
  {
   "cell_type": "code",
   "execution_count": 22,
   "id": "8e835cba-8bcb-48fb-b5c1-362685f7ee59",
   "metadata": {},
   "outputs": [],
   "source": [
    "from cameo.strain_design.heuristic.evolutionary_based import OptGene"
   ]
  },
  {
   "cell_type": "code",
   "execution_count": 23,
   "id": "21c450c7-21b1-4200-8def-3c379bc997c9",
   "metadata": {},
   "outputs": [],
   "source": [
    "from cameo import models"
   ]
  },
  {
   "cell_type": "markdown",
   "id": "e6d4d4e1-037b-4a3a-bd4f-2b1330da18a4",
   "metadata": {},
   "source": [
    "Basing algorithms upon the surfactin reaction which is based in the fatty acid that is most utilized. Looking at the reaction stoichiometry again:"
   ]
  },
  {
   "cell_type": "code",
   "execution_count": 43,
   "id": "88c0015e-bbeb-4a32-86e4-e837df23917d",
   "metadata": {},
   "outputs": [
    {
     "name": "stdout",
     "output_type": "stream",
     "text": [
      "SP_1: 3hddcoa_c + asp__L_c + atp_c + glu__L_c + 4 leu__L_c + nadph_c + val__L_c --> adp_c + nadp_c + surfactin_c\n"
     ]
    }
   ],
   "source": [
    "print(model.reactions.SP_1)"
   ]
  },
  {
   "cell_type": "markdown",
   "id": "8867199c-c802-4236-b89d-562f2caa3646",
   "metadata": {},
   "source": [
    "Finding the other reaction metabolite names that are needed:"
   ]
  },
  {
   "cell_type": "code",
   "execution_count": 44,
   "id": "f8bea7aa-884c-4da9-b37c-0803c3499c49",
   "metadata": {},
   "outputs": [
    {
     "data": {
      "text/plain": [
       "[<Reaction BIOMASS_BS_10 at 0x1cf9b238f10>]"
      ]
     },
     "execution_count": 44,
     "metadata": {},
     "output_type": "execute_result"
    }
   ],
   "source": [
    "model.reactions.query(\"biomass\",\"name\") #Biomass reaction name"
   ]
  },
  {
   "cell_type": "code",
   "execution_count": 45,
   "id": "8ab5470e-ab1d-4c97-be34-8885b7ff846b",
   "metadata": {},
   "outputs": [
    {
     "data": {
      "text/plain": [
       "[<Metabolite sucr_c at 0x1cf9142d430>, <Metabolite sucr_e at 0x1cf9142d580>]"
      ]
     },
     "execution_count": 45,
     "metadata": {},
     "output_type": "execute_result"
    }
   ],
   "source": [
    "model.metabolites.query(\"sucr\") #Glucose metabolite name"
   ]
  },
  {
   "cell_type": "markdown",
   "id": "737a8e73-28fa-49c2-afcf-44843033f3d4",
   "metadata": {},
   "source": [
    "Changing objective to surfactin:"
   ]
  },
  {
   "cell_type": "code",
   "execution_count": 46,
   "id": "beec407b-9ad6-42d2-9012-1c66e096f0a6",
   "metadata": {},
   "outputs": [],
   "source": [
    "model.objective = model.reactions.SP_1"
   ]
  },
  {
   "cell_type": "markdown",
   "id": "16c3478a-040d-4f87-a912-cc2052e6be53",
   "metadata": {},
   "source": [
    "Import the packages which are necessary for OptGene:"
   ]
  },
  {
   "cell_type": "markdown",
   "id": "0a3dcb6a-ee95-4de8-aca7-deb7d7c8b271",
   "metadata": {},
   "source": [
    "## OptGene Algorithm"
   ]
  },
  {
   "cell_type": "markdown",
   "id": "3a8e55e3-fc9b-48dc-a48e-cb33525d22a1",
   "metadata": {},
   "source": [
    "Running the OptGene algorithm to search for gene or reaction knockouts:"
   ]
  },
  {
   "cell_type": "code",
   "execution_count": 50,
   "id": "c9268db6-506a-4b90-81cc-114b044b0e46",
   "metadata": {},
   "outputs": [],
   "source": [
    "optgene = OptGene(model)"
   ]
  },
  {
   "cell_type": "code",
   "execution_count": 51,
   "id": "bfc1f0e2-bc49-4f31-9958-01bd61195d95",
   "metadata": {},
   "outputs": [
    {
     "name": "stdout",
     "output_type": "stream",
     "text": [
      "Starting optimization at Wed, 24 Nov 2021 23:07:41\n"
     ]
    },
    {
     "data": {
      "application/vnd.jupyter.widget-view+json": {
       "model_id": "eeac6e97990848d98b20251719661b88",
       "version_major": 2,
       "version_minor": 0
      },
      "text/plain": [
       "HBox()"
      ]
     },
     "metadata": {},
     "output_type": "display_data"
    },
    {
     "name": "stdout",
     "output_type": "stream",
     "text": [
      "Finished after 00:12:59\n"
     ]
    }
   ],
   "source": [
    "result_optgene = optgene.run(target=\"SP_1\", #Reaction\n",
    "                     biomass=\"BIOMASS_BS_10\", #Reaction\n",
    "                     substrate=\"sucr_e\", #Metabolite\n",
    "                     max_evaluations=20000, max_knockouts=3, plot=False)"
   ]
  },
  {
   "cell_type": "code",
   "execution_count": 52,
   "id": "61de7c9b-f34f-4921-93d8-3d551b5198ce",
   "metadata": {},
   "outputs": [
    {
     "data": {
      "application/vnd.jupyter.widget-view+json": {
       "model_id": "bda277bcd24a46268fa00fc0cb45f5d6",
       "version_major": 2,
       "version_minor": 0
      },
      "text/plain": [
       "HBox()"
      ]
     },
     "metadata": {},
     "output_type": "display_data"
    },
    {
     "data": {
      "text/html": [
       "\n",
       "        <h3>OptGene Result</h3>\n",
       "        <ul>\n",
       "            <li>Simulation: fba<br/></li>\n",
       "            <li>Objective Function: $$bpcy = \\frac{(BIOMASS\\_BS\\_10 * SP\\_1)}{EX\\_sucr\\_e}$$<br/></li>\n",
       "        </ul>\n",
       "        <div>\n",
       "<style scoped>\n",
       "    .dataframe tbody tr th:only-of-type {\n",
       "        vertical-align: middle;\n",
       "    }\n",
       "\n",
       "    .dataframe tbody tr th {\n",
       "        vertical-align: top;\n",
       "    }\n",
       "\n",
       "    .dataframe thead th {\n",
       "        text-align: right;\n",
       "    }\n",
       "</style>\n",
       "<table border=\"1\" class=\"dataframe\">\n",
       "  <thead>\n",
       "    <tr style=\"text-align: right;\">\n",
       "      <th></th>\n",
       "      <th>reactions</th>\n",
       "      <th>genes</th>\n",
       "      <th>size</th>\n",
       "      <th>fva_min</th>\n",
       "      <th>fva_max</th>\n",
       "      <th>target_flux</th>\n",
       "      <th>biomass_flux</th>\n",
       "      <th>yield</th>\n",
       "      <th>fitness</th>\n",
       "    </tr>\n",
       "  </thead>\n",
       "  <tbody>\n",
       "    <tr>\n",
       "      <th>0</th>\n",
       "      <td>(CYTB_B3,)</td>\n",
       "      <td>((BSU38140,), (BSU38160,), (BSU38150,), (BSU38...</td>\n",
       "      <td>1</td>\n",
       "      <td>0.0</td>\n",
       "      <td>0.003571</td>\n",
       "      <td>0.0</td>\n",
       "      <td>0.624185</td>\n",
       "      <td>0.0</td>\n",
       "      <td>0.0</td>\n",
       "    </tr>\n",
       "    <tr>\n",
       "      <th>1</th>\n",
       "      <td>(GART,)</td>\n",
       "      <td>((BSU02230,),)</td>\n",
       "      <td>1</td>\n",
       "      <td>0.0</td>\n",
       "      <td>0.003571</td>\n",
       "      <td>0.0</td>\n",
       "      <td>0.624185</td>\n",
       "      <td>0.0</td>\n",
       "      <td>0.0</td>\n",
       "    </tr>\n",
       "    <tr>\n",
       "      <th>2</th>\n",
       "      <td>(CYTB_B3, CDGPT_BS)</td>\n",
       "      <td>((BSU38160, BSU16920),)</td>\n",
       "      <td>2</td>\n",
       "      <td>0.0</td>\n",
       "      <td>0.343651</td>\n",
       "      <td>0.0</td>\n",
       "      <td>0.023593</td>\n",
       "      <td>0.0</td>\n",
       "      <td>0.0</td>\n",
       "    </tr>\n",
       "    <tr>\n",
       "      <th>3</th>\n",
       "      <td>(CYTB_B3, UGT2_BS, UGT_BS, UGT1_BS)</td>\n",
       "      <td>((BSU38160, BSU21920),)</td>\n",
       "      <td>2</td>\n",
       "      <td>0.0</td>\n",
       "      <td>0.343740</td>\n",
       "      <td>0.0</td>\n",
       "      <td>0.023593</td>\n",
       "      <td>0.0</td>\n",
       "      <td>0.0</td>\n",
       "    </tr>\n",
       "    <tr>\n",
       "      <th>4</th>\n",
       "      <td>(UGT1_BS, UGT2_BS, UGT_BS, CYTB_B3)</td>\n",
       "      <td>((BSU21920, BSU38170),)</td>\n",
       "      <td>2</td>\n",
       "      <td>0.0</td>\n",
       "      <td>0.343740</td>\n",
       "      <td>0.0</td>\n",
       "      <td>0.023593</td>\n",
       "      <td>0.0</td>\n",
       "      <td>0.0</td>\n",
       "    </tr>\n",
       "    <tr>\n",
       "      <th>5</th>\n",
       "      <td>(UGT1_BS, UGT_BS, CYTB_B3, CDGPT_BS, UGT2_BS)</td>\n",
       "      <td>((BSU38160, BSU16920, BSU21920),)</td>\n",
       "      <td>3</td>\n",
       "      <td>0.0</td>\n",
       "      <td>0.343740</td>\n",
       "      <td>0.0</td>\n",
       "      <td>0.023593</td>\n",
       "      <td>0.0</td>\n",
       "      <td>0.0</td>\n",
       "    </tr>\n",
       "  </tbody>\n",
       "</table>\n",
       "</div>\n",
       "        "
      ],
      "text/plain": [
       "<cameo.strain_design.heuristic.evolutionary_based.OptGeneResult at 0x1cf98eda820>"
      ]
     },
     "execution_count": 52,
     "metadata": {},
     "output_type": "execute_result"
    }
   ],
   "source": [
    "result_optgene"
   ]
  },
  {
   "cell_type": "markdown",
   "id": "c5aa83c1-c22b-4bcc-9d4c-3c3398f096d6",
   "metadata": {},
   "source": [
    "Several suggestions of reactions and genes were suggested by the OptGene algorithm."
   ]
  },
  {
   "cell_type": "markdown",
   "id": "3794d581-7cbc-4b28-ba60-b3831a3e7441",
   "metadata": {},
   "source": [
    "Double checking these result by manually knock outs and computng the surfactin yield:"
   ]
  },
  {
   "cell_type": "code",
   "execution_count": 14,
   "id": "7759ebca-e02b-4077-b851-0430c85e9c8c",
   "metadata": {},
   "outputs": [
    {
     "name": "stdout",
     "output_type": "stream",
     "text": [
      "CYTB_B3's bounds inside the with statement:\n",
      "0 (0, 0)\n",
      "Maximum productivity = 0.3436433767512171 mmol/gDW*h\n",
      "Maximum theoretical yield = 0.12160567339856444 mmol-surfactin/mmol-sucrose\n"
     ]
    }
   ],
   "source": [
    "with model as mutant0:\n",
    "    mutant0.reactions.CYTB_B3.bounds = 0, 0\n",
    "    print(\"CYTB_B3's bounds inside the with statement:\")\n",
    "    print(mutant0.reactions.CYTB_B3.lower_bound, mutant0.reactions.CYTB_B3.bounds)\n",
    "    mutant0.objective=mutant0.reactions.DM_surfactin_c\n",
    "    surfactin_production = mutant0.optimize().objective_value #flux\n",
    "    print('Maximum productivity =', surfactin_production, 'mmol/gDW*h')\n",
    "    maximum_yield = surfactin_production / (-1*(mutant0.reactions.EX_sucr_e.flux)) #yield calculations\n",
    "    print('Maximum theoretical yield =', maximum_yield, 'mmol-surfactin/mmol-sucrose')\n"
   ]
  },
  {
   "cell_type": "code",
   "execution_count": 19,
   "id": "7c6c92a0-34e7-4614-9b7c-7354719f0020",
   "metadata": {},
   "outputs": [
    {
     "name": "stdout",
     "output_type": "stream",
     "text": [
      "Maximum productivity = 0.3436433767512166 mmol/gDW*h\n",
      "Maximum theoretical yield = 0.1217679725107815 mmol-surfactin/mmol-sucrose\n"
     ]
    }
   ],
   "source": [
    "with model as mutant1:\n",
    "    mutant1.genes.BSU02230.knock_out()\n",
    "    print(\"Maximum productivity =\", mutant1.slim_optimize(), 'mmol/gDW*h')\n",
    "    mutant1.objective = mutant1.reactions.DM_surfactin_c\n",
    "    surfactin_production = mutant1.optimize().objective_value\n",
    "    print(\"Maximum theoretical yield =\", surfactin_production / (-1*mutant1.reactions.EX_sucr_e.flux), 'mmol-surfactin/mmol-sucrose')"
   ]
  },
  {
   "cell_type": "code",
   "execution_count": 20,
   "id": "bf9ba423-4b42-4d6a-8101-f98bcc925a78",
   "metadata": {},
   "outputs": [
    {
     "name": "stdout",
     "output_type": "stream",
     "text": [
      "Maximum productivity = 0.34374044623728484 mmol/gDW*h\n",
      "Maximum theoretical yield = 0.12195609188978644 mmol-surfactin/mmol-sucrose\n"
     ]
    }
   ],
   "source": [
    "with model as mutant2:\n",
    "    mutant2.genes.BSU21920.knock_out()\n",
    "    mutant2.genes.BSU16920.knock_out()\n",
    "    print(\"Maximum productivity =\", mutant2.slim_optimize(), 'mmol/gDW*h')\n",
    "    mutant2.objective = mutant2.reactions.DM_surfactin_c\n",
    "    surfactin_production = mutant2.optimize().objective_value\n",
    "    print(\"Maximum theoretical yield =\", surfactin_production / (-1*mutant2.reactions.EX_sucr_e.flux), 'mmol-surfactin/mmol-sucrose')"
   ]
  },
  {
   "cell_type": "code",
   "execution_count": 25,
   "id": "86d647bb-9f6b-454b-9fcf-601972a42f23",
   "metadata": {},
   "outputs": [
    {
     "name": "stdout",
     "output_type": "stream",
     "text": [
      "Maximum productivity = 0.34374044623728583 mmol/gDW*h\n",
      "Maximum theoretical yield = 0.12037141448071839 mmol-surfactin/mmol-sucrose\n"
     ]
    }
   ],
   "source": [
    "with model as mutant3:\n",
    "    mutant3.genes.BSU38160.knock_out()\n",
    "    mutant3.genes.BSU21920.knock_out()\n",
    "    print(\"Maximum productivity =\", mutant3.slim_optimize(), 'mmol/gDW*h')\n",
    "    mutant3.objective = mutant3.reactions.DM_surfactin_c\n",
    "    surfactin_production = mutant3.optimize().objective_value\n",
    "    print(\"Maximum theoretical yield =\", surfactin_production / (-1*mutant3.reactions.EX_sucr_e.flux), 'mmol-surfactin/mmol-sucrose')"
   ]
  },
  {
   "cell_type": "code",
   "execution_count": 26,
   "id": "328d3f0e-d570-4d1a-9e43-a3760d06dd17",
   "metadata": {},
   "outputs": [
    {
     "name": "stdout",
     "output_type": "stream",
     "text": [
      "Maximum productivity = 0.34374044623728583 mmol/gDW*h\n",
      "Maximum theoretical yield = 0.12037141448071839 mmol-surfactin/mmol-sucrose\n"
     ]
    }
   ],
   "source": [
    "with model as mutant4:\n",
    "    mutant4.genes.BSU21920.knock_out()\n",
    "    mutant4.genes.BSU38170.knock_out()\n",
    "    print(\"Maximum productivity =\", mutant4.slim_optimize(), 'mmol/gDW*h')\n",
    "    mutant4.objective = mutant4.reactions.DM_surfactin_c\n",
    "    surfactin_production = mutant4.optimize().objective_value\n",
    "    print(\"Maximum theoretical yield =\", surfactin_production / (-1*mutant4.reactions.EX_sucr_e.flux), 'mmol-surfactin/mmol-sucrose')"
   ]
  },
  {
   "cell_type": "code",
   "execution_count": 27,
   "id": "7bf01182-96b1-4018-9d88-57a24961a31b",
   "metadata": {},
   "outputs": [
    {
     "name": "stdout",
     "output_type": "stream",
     "text": [
      "Maximum productivity = 0.3437404462372878 mmol/gDW*h\n",
      "Maximum theoretical yield = 0.12048121707873301 mmol-surfactin/mmol-sucrose\n"
     ]
    }
   ],
   "source": [
    "with model as mutant5:\n",
    "    mutant5.genes.BSU38160.knock_out()\n",
    "    mutant5.genes.BSU16920.knock_out()\n",
    "    mutant5.genes.BSU21920.knock_out()\n",
    "    print(\"Maximum productivity =\", mutant5.slim_optimize(), 'mmol/gDW*h')\n",
    "    mutant5.objective = mutant5.reactions.DM_surfactin_c\n",
    "    surfactin_production = mutant5.optimize().objective_value\n",
    "    print(\"Maximum theoretical yield =\", surfactin_production / (-1*mutant5.reactions.EX_sucr_e.flux), 'mmol-surfactin/mmol-sucrose')"
   ]
  },
  {
   "cell_type": "markdown",
   "id": "be9c7738-6c2a-4d08-807c-f1d269ef9123",
   "metadata": {},
   "source": [
    "We see that computing each of these knockout suggestions leads to an increase in surfactin yield. The knockouts by mutant2 seems to have given the biggest increase in yield."
   ]
  }
 ],
 "metadata": {
  "kernelspec": {
   "display_name": "Python 3 (ipykernel)",
   "language": "python",
   "name": "python3"
  },
  "language_info": {
   "codemirror_mode": {
    "name": "ipython",
    "version": 3
   },
   "file_extension": ".py",
   "mimetype": "text/x-python",
   "name": "python",
   "nbconvert_exporter": "python",
   "pygments_lexer": "ipython3",
   "version": "3.8.11"
  }
 },
 "nbformat": 4,
 "nbformat_minor": 5
}
