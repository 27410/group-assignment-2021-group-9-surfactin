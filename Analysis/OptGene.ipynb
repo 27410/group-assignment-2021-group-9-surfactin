{
 "cells": [
  {
   "cell_type": "code",
   "execution_count": 42,
   "id": "7e6d444f-b64c-4238-82e4-1258b9714d05",
   "metadata": {},
   "outputs": [],
   "source": [
    "%run model_sucrose.ipynb"
   ]
  },
  {
   "cell_type": "markdown",
   "id": "3760a59b-1b6b-4c22-88b7-cd3c647ae814",
   "metadata": {},
   "source": [
    "Computing gene knockout strategies using the OptGene algorithm"
   ]
  },
  {
   "cell_type": "markdown",
   "id": "fabd6d79-d1bd-4173-9171-914cbe427f23",
   "metadata": {},
   "source": [
    "### Preparations"
   ]
  },
  {
   "cell_type": "markdown",
   "id": "e6d4d4e1-037b-4a3a-bd4f-2b1330da18a4",
   "metadata": {},
   "source": [
    "Basing algorithms upon the surfactin reaction which is based in the fatty acid that is most utilized. Looking at the reaction stoichiometry again:"
   ]
  },
  {
   "cell_type": "code",
   "execution_count": 43,
   "id": "88c0015e-bbeb-4a32-86e4-e837df23917d",
   "metadata": {},
   "outputs": [
    {
     "name": "stdout",
     "output_type": "stream",
     "text": [
      "SP_1: 3hddcoa_c + asp__L_c + atp_c + glu__L_c + 4 leu__L_c + nadph_c + val__L_c --> adp_c + nadp_c + surfactin_c\n"
     ]
    }
   ],
   "source": [
    "print(model.reactions.SP_1)"
   ]
  },
  {
   "cell_type": "markdown",
   "id": "8867199c-c802-4236-b89d-562f2caa3646",
   "metadata": {},
   "source": [
    "Finding the other reaction metabolite names that are needed:"
   ]
  },
  {
   "cell_type": "code",
   "execution_count": 44,
   "id": "f8bea7aa-884c-4da9-b37c-0803c3499c49",
   "metadata": {},
   "outputs": [
    {
     "data": {
      "text/plain": [
       "[<Reaction BIOMASS_BS_10 at 0x1cf9b238f10>]"
      ]
     },
     "execution_count": 44,
     "metadata": {},
     "output_type": "execute_result"
    }
   ],
   "source": [
    "model.reactions.query(\"biomass\",\"name\") #Biomass reaction name"
   ]
  },
  {
   "cell_type": "code",
   "execution_count": 45,
   "id": "8ab5470e-ab1d-4c97-be34-8885b7ff846b",
   "metadata": {},
   "outputs": [
    {
     "data": {
      "text/plain": [
       "[<Metabolite sucr_c at 0x1cf9142d430>, <Metabolite sucr_e at 0x1cf9142d580>]"
      ]
     },
     "execution_count": 45,
     "metadata": {},
     "output_type": "execute_result"
    }
   ],
   "source": [
    "model.metabolites.query(\"sucr\") #Glucose metabolite name"
   ]
  },
  {
   "cell_type": "markdown",
   "id": "737a8e73-28fa-49c2-afcf-44843033f3d4",
   "metadata": {},
   "source": [
    "Changing objective to surfactin"
   ]
  },
  {
   "cell_type": "code",
   "execution_count": 46,
   "id": "beec407b-9ad6-42d2-9012-1c66e096f0a6",
   "metadata": {},
   "outputs": [],
   "source": [
    "model.objective = model.reactions.SP_1"
   ]
  },
  {
   "cell_type": "markdown",
   "id": "16c3478a-040d-4f87-a912-cc2052e6be53",
   "metadata": {},
   "source": [
    "Import the packages which are necessary for OptGene:"
   ]
  },
  {
   "cell_type": "code",
   "execution_count": 47,
   "id": "0a9b398c-cdbe-4691-b8f2-496df378b8e1",
   "metadata": {},
   "outputs": [],
   "source": [
    "import cameo #after pip install cameo in terminal"
   ]
  },
  {
   "cell_type": "code",
   "execution_count": 48,
   "id": "de9904ca-adfd-436d-aebb-f7fe57b54489",
   "metadata": {},
   "outputs": [],
   "source": [
    "from cameo.strain_design.heuristic.evolutionary_based import OptGene"
   ]
  },
  {
   "cell_type": "code",
   "execution_count": 49,
   "id": "706e869a-5f9f-49f6-a2f6-d27f083055b1",
   "metadata": {},
   "outputs": [],
   "source": [
    "from cameo import models"
   ]
  },
  {
   "cell_type": "markdown",
   "id": "0a3dcb6a-ee95-4de8-aca7-deb7d7c8b271",
   "metadata": {},
   "source": [
    "### OptGene Algorithm"
   ]
  },
  {
   "cell_type": "markdown",
   "id": "3a8e55e3-fc9b-48dc-a48e-cb33525d22a1",
   "metadata": {},
   "source": [
    "Running the OptGene algorithm to search for gene or reaction knockouts:"
   ]
  },
  {
   "cell_type": "code",
   "execution_count": 50,
   "id": "c9268db6-506a-4b90-81cc-114b044b0e46",
   "metadata": {},
   "outputs": [],
   "source": [
    "optgene = OptGene(model)"
   ]
  },
  {
   "cell_type": "code",
   "execution_count": 51,
   "id": "bfc1f0e2-bc49-4f31-9958-01bd61195d95",
   "metadata": {},
   "outputs": [
    {
     "name": "stdout",
     "output_type": "stream",
     "text": [
      "Starting optimization at Wed, 24 Nov 2021 23:07:41\n"
     ]
    },
    {
     "data": {
      "application/vnd.jupyter.widget-view+json": {
       "model_id": "eeac6e97990848d98b20251719661b88",
       "version_major": 2,
       "version_minor": 0
      },
      "text/plain": [
       "HBox()"
      ]
     },
     "metadata": {},
     "output_type": "display_data"
    },
    {
     "name": "stdout",
     "output_type": "stream",
     "text": [
      "Finished after 00:12:59\n"
     ]
    }
   ],
   "source": [
    "result_optgene = optgene.run(target=\"SP_1\", #Reaction\n",
    "                     biomass=\"BIOMASS_BS_10\", #Reaction\n",
    "                     substrate=\"sucr_e\", #Metabolite\n",
    "                     max_evaluations=20000, max_knockouts=3, plot=False)"
   ]
  },
  {
   "cell_type": "code",
   "execution_count": 52,
   "id": "61de7c9b-f34f-4921-93d8-3d551b5198ce",
   "metadata": {},
   "outputs": [
    {
     "data": {
      "application/vnd.jupyter.widget-view+json": {
       "model_id": "bda277bcd24a46268fa00fc0cb45f5d6",
       "version_major": 2,
       "version_minor": 0
      },
      "text/plain": [
       "HBox()"
      ]
     },
     "metadata": {},
     "output_type": "display_data"
    },
    {
     "data": {
      "text/html": [
       "\n",
       "        <h3>OptGene Result</h3>\n",
       "        <ul>\n",
       "            <li>Simulation: fba<br/></li>\n",
       "            <li>Objective Function: $$bpcy = \\frac{(BIOMASS\\_BS\\_10 * SP\\_1)}{EX\\_sucr\\_e}$$<br/></li>\n",
       "        </ul>\n",
       "        <div>\n",
       "<style scoped>\n",
       "    .dataframe tbody tr th:only-of-type {\n",
       "        vertical-align: middle;\n",
       "    }\n",
       "\n",
       "    .dataframe tbody tr th {\n",
       "        vertical-align: top;\n",
       "    }\n",
       "\n",
       "    .dataframe thead th {\n",
       "        text-align: right;\n",
       "    }\n",
       "</style>\n",
       "<table border=\"1\" class=\"dataframe\">\n",
       "  <thead>\n",
       "    <tr style=\"text-align: right;\">\n",
       "      <th></th>\n",
       "      <th>reactions</th>\n",
       "      <th>genes</th>\n",
       "      <th>size</th>\n",
       "      <th>fva_min</th>\n",
       "      <th>fva_max</th>\n",
       "      <th>target_flux</th>\n",
       "      <th>biomass_flux</th>\n",
       "      <th>yield</th>\n",
       "      <th>fitness</th>\n",
       "    </tr>\n",
       "  </thead>\n",
       "  <tbody>\n",
       "    <tr>\n",
       "      <th>0</th>\n",
       "      <td>(CYTB_B3,)</td>\n",
       "      <td>((BSU38140,), (BSU38160,), (BSU38150,), (BSU38...</td>\n",
       "      <td>1</td>\n",
       "      <td>0.0</td>\n",
       "      <td>0.003571</td>\n",
       "      <td>0.0</td>\n",
       "      <td>0.624185</td>\n",
       "      <td>0.0</td>\n",
       "      <td>0.0</td>\n",
       "    </tr>\n",
       "    <tr>\n",
       "      <th>1</th>\n",
       "      <td>(GART,)</td>\n",
       "      <td>((BSU02230,),)</td>\n",
       "      <td>1</td>\n",
       "      <td>0.0</td>\n",
       "      <td>0.003571</td>\n",
       "      <td>0.0</td>\n",
       "      <td>0.624185</td>\n",
       "      <td>0.0</td>\n",
       "      <td>0.0</td>\n",
       "    </tr>\n",
       "    <tr>\n",
       "      <th>2</th>\n",
       "      <td>(CYTB_B3, CDGPT_BS)</td>\n",
       "      <td>((BSU38160, BSU16920),)</td>\n",
       "      <td>2</td>\n",
       "      <td>0.0</td>\n",
       "      <td>0.343651</td>\n",
       "      <td>0.0</td>\n",
       "      <td>0.023593</td>\n",
       "      <td>0.0</td>\n",
       "      <td>0.0</td>\n",
       "    </tr>\n",
       "    <tr>\n",
       "      <th>3</th>\n",
       "      <td>(CYTB_B3, UGT2_BS, UGT_BS, UGT1_BS)</td>\n",
       "      <td>((BSU38160, BSU21920),)</td>\n",
       "      <td>2</td>\n",
       "      <td>0.0</td>\n",
       "      <td>0.343740</td>\n",
       "      <td>0.0</td>\n",
       "      <td>0.023593</td>\n",
       "      <td>0.0</td>\n",
       "      <td>0.0</td>\n",
       "    </tr>\n",
       "    <tr>\n",
       "      <th>4</th>\n",
       "      <td>(UGT1_BS, UGT2_BS, UGT_BS, CYTB_B3)</td>\n",
       "      <td>((BSU21920, BSU38170),)</td>\n",
       "      <td>2</td>\n",
       "      <td>0.0</td>\n",
       "      <td>0.343740</td>\n",
       "      <td>0.0</td>\n",
       "      <td>0.023593</td>\n",
       "      <td>0.0</td>\n",
       "      <td>0.0</td>\n",
       "    </tr>\n",
       "    <tr>\n",
       "      <th>5</th>\n",
       "      <td>(UGT1_BS, UGT_BS, CYTB_B3, CDGPT_BS, UGT2_BS)</td>\n",
       "      <td>((BSU38160, BSU16920, BSU21920),)</td>\n",
       "      <td>3</td>\n",
       "      <td>0.0</td>\n",
       "      <td>0.343740</td>\n",
       "      <td>0.0</td>\n",
       "      <td>0.023593</td>\n",
       "      <td>0.0</td>\n",
       "      <td>0.0</td>\n",
       "    </tr>\n",
       "  </tbody>\n",
       "</table>\n",
       "</div>\n",
       "        "
      ],
      "text/plain": [
       "<cameo.strain_design.heuristic.evolutionary_based.OptGeneResult at 0x1cf98eda820>"
      ]
     },
     "execution_count": 52,
     "metadata": {},
     "output_type": "execute_result"
    }
   ],
   "source": [
    "result_optgene"
   ]
  },
  {
   "cell_type": "markdown",
   "id": "c5aa83c1-c22b-4bcc-9d4c-3c3398f096d6",
   "metadata": {},
   "source": [
    "No optimization suggestions were obtained from Optgene. "
   ]
  },
  {
   "cell_type": "markdown",
   "id": "3794d581-7cbc-4b28-ba60-b3831a3e7441",
   "metadata": {},
   "source": [
    "Double checking this result by manually knocking out this reaction and finding surfactin yield:"
   ]
  },
  {
   "cell_type": "code",
   "execution_count": 63,
   "id": "7759ebca-e02b-4077-b851-0430c85e9c8c",
   "metadata": {},
   "outputs": [
    {
     "name": "stdout",
     "output_type": "stream",
     "text": [
      "LDH_L's bounds inside the with statement:\n",
      "0 (0, 0)\n",
      "Mutant growth rate [mmol gDW^-1 h^-1]:  0.3436433767512144\n",
      "Theoretical max. yield [mmol-succ / mmol-ac]: 0.12073337894167445\n"
     ]
    }
   ],
   "source": [
    "with model as mutant0:\n",
    "    mutant0.reactions.CYTB_B3.bounds = 0, 0\n",
    "    print(\"LDH_L's bounds inside the with statement:\")\n",
    "    print(mutant0.reactions.CYTB_B3.lower_bound, mutant0.reactions.CYTB_B3.bounds)\n",
    "    print('Mutant growth rate [mmol gDW^-1 h^-1]: ', mutant0.optimize().objective_value)\n",
    "    mutant0.objective = mutant0.reactions.SP_1\n",
    "    surfactin_production = mutant0.optimize().objective_value\n",
    "    print(\"Theoretical max. yield [mmol-succ / mmol-ac]:\", surfactin_production / (-1*mutant0.reactions.EX_sucr_e.flux))\n"
   ]
  },
  {
   "cell_type": "code",
   "execution_count": 66,
   "id": "7c6c92a0-34e7-4614-9b7c-7354719f0020",
   "metadata": {},
   "outputs": [
    {
     "name": "stdout",
     "output_type": "stream",
     "text": [
      "Flux: 0.3436433767512144\n",
      "Max. surfactin production [mmol gDW^-1 h^-1]: 0.3436433767512144\n",
      "Theoretical max. yield [mmol-surfactin / mmol-sucrose]: 0.12073337894167445\n"
     ]
    }
   ],
   "source": [
    "with model as mutant1:\n",
    "    mutant1.genes.BSU02230.knock_out()\n",
    "    print(\"Flux:\",mutant1.slim_optimize())\n",
    "    mutant1.objective = mutant1.reactions.SP_1\n",
    "    surfactin_production = mutant1.optimize().objective_value\n",
    "    print(\"Max. surfactin production [mmol gDW^-1 h^-1]:\", surfactin_production)\n",
    "    print(\"Theoretical max. yield [mmol-surfactin / mmol-sucrose]:\", surfactin_production / (-1*mutant1.reactions.EX_sucr_e.flux))"
   ]
  },
  {
   "cell_type": "code",
   "execution_count": 30,
   "id": "bf9ba423-4b42-4d6a-8101-f98bcc925a78",
   "metadata": {},
   "outputs": [
    {
     "name": "stdout",
     "output_type": "stream",
     "text": [
      "Flux: 0.07568534919274368\n",
      "Max. surfactin production [mmol gDW^-1 h^-1]: 0.07568534919274368\n",
      "Theoretical max. yield [mmol-surfactin / mmol-sucrose]: 0.0445207936427904\n"
     ]
    }
   ],
   "source": [
    "with model as mutant2:\n",
    "    mutant2.genes.BSU21920.knock_out()\n",
    "    mutant2.genes.BSU16920.knock_out()\n",
    "    print(\"Flux:\", mutant2.slim_optimize())\n",
    "    surfactin_production = model.optimize().objective_value\n",
    "    print(\"Max. surfactin production [mmol gDW^-1 h^-1]:\", surfactin_production)\n",
    "    print(\"Theoretical max. yield [mmol-surfactin / mmol-sucrose]:\", surfactin_production / (-1*model.reactions.EX_glc__D_e.flux))"
   ]
  },
  {
   "cell_type": "code",
   "execution_count": 25,
   "id": "4c553133-48f6-43ed-b3a9-6d6d032221e6",
   "metadata": {},
   "outputs": [
    {
     "name": "stdout",
     "output_type": "stream",
     "text": [
      "IPDDI's bounds inside the with statement\n",
      "0 (0, 0)\n",
      "Mutant growth rate [mmol gDW^-1 h^-1]:  0.07461282448997686\n",
      "Max. surfactin production [mmol gDW^-1 h^-1]: 0.07461282448997686\n"
     ]
    },
    {
     "ename": "ZeroDivisionError",
     "evalue": "float division by zero",
     "output_type": "error",
     "traceback": [
      "\u001b[1;31m---------------------------------------------------------------------------\u001b[0m",
      "\u001b[1;31mZeroDivisionError\u001b[0m                         Traceback (most recent call last)",
      "\u001b[1;32m~\\AppData\\Local\\Temp/ipykernel_2988/495632546.py\u001b[0m in \u001b[0;36m<module>\u001b[1;34m\u001b[0m\n\u001b[0;32m      8\u001b[0m         \u001b[0msurfactin_production\u001b[0m \u001b[1;33m=\u001b[0m \u001b[0mmodel\u001b[0m\u001b[1;33m.\u001b[0m\u001b[0moptimize\u001b[0m\u001b[1;33m(\u001b[0m\u001b[1;33m)\u001b[0m\u001b[1;33m.\u001b[0m\u001b[0mobjective_value\u001b[0m\u001b[1;33m\u001b[0m\u001b[1;33m\u001b[0m\u001b[0m\n\u001b[0;32m      9\u001b[0m         \u001b[0mprint\u001b[0m\u001b[1;33m(\u001b[0m\u001b[1;34m\"Max. surfactin production [mmol gDW^-1 h^-1]:\"\u001b[0m\u001b[1;33m,\u001b[0m \u001b[0msurfactin_production\u001b[0m\u001b[1;33m)\u001b[0m\u001b[1;33m\u001b[0m\u001b[1;33m\u001b[0m\u001b[0m\n\u001b[1;32m---> 10\u001b[1;33m         \u001b[0mprint\u001b[0m\u001b[1;33m(\u001b[0m\u001b[1;34m\"Theoretical max. yield [mmol-surfactin / mmol-sucrose]:\"\u001b[0m\u001b[1;33m,\u001b[0m \u001b[0msurfactin_production\u001b[0m \u001b[1;33m/\u001b[0m \u001b[1;33m(\u001b[0m\u001b[1;33m-\u001b[0m\u001b[1;36m1\u001b[0m\u001b[1;33m*\u001b[0m\u001b[0mmodel\u001b[0m\u001b[1;33m.\u001b[0m\u001b[0mreactions\u001b[0m\u001b[1;33m.\u001b[0m\u001b[0mEX_sucr_e\u001b[0m\u001b[1;33m.\u001b[0m\u001b[0mflux\u001b[0m\u001b[1;33m)\u001b[0m\u001b[1;33m)\u001b[0m\u001b[1;33m\u001b[0m\u001b[1;33m\u001b[0m\u001b[0m\n\u001b[0m",
      "\u001b[1;31mZeroDivisionError\u001b[0m: float division by zero"
     ]
    }
   ],
   "source": [
    "with model:\n",
    "    model.reactions.FDH.bounds = 0, 0\n",
    "    print(\"IPDDI's bounds inside the with statement\")\n",
    "    print(model.reactions.FDH.lower_bound, model.reactions.FDH.bounds)\n",
    "    print('Mutant growth rate [mmol gDW^-1 h^-1]: ', model.optimize().objective_value)\n",
    "    with model:\n",
    "        model.objective = model.reactions.SP_1\n",
    "        surfactin_production = model.optimize().objective_value\n",
    "        print(\"Max. surfactin production [mmol gDW^-1 h^-1]:\", surfactin_production)\n",
    "        print(\"Theoretical max. yield [mmol-surfactin / mmol-sucrose]:\", surfactin_production / (-1*model.reactions.EX_sucr_e.flux))\n"
   ]
  },
  {
   "cell_type": "markdown",
   "id": "be9c7738-6c2a-4d08-807c-f1d269ef9123",
   "metadata": {},
   "source": [
    "It seems that the OptKnock algorithm has suggested a few knockoutS that leads to an increase in yield."
   ]
  }
 ],
 "metadata": {
  "kernelspec": {
   "display_name": "Python 3 (ipykernel)",
   "language": "python",
   "name": "python3"
  },
  "language_info": {
   "codemirror_mode": {
    "name": "ipython",
    "version": 3
   },
   "file_extension": ".py",
   "mimetype": "text/x-python",
   "name": "python",
   "nbconvert_exporter": "python",
   "pygments_lexer": "ipython3",
   "version": "3.8.11"
  }
 },
 "nbformat": 4,
 "nbformat_minor": 5
}
