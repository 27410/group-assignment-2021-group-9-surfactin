{
 "cells": [
  {
   "cell_type": "code",
   "execution_count": 1,
   "id": "ac303d7f-d7dc-4f0d-b179-5cb8ebf65190",
   "metadata": {},
   "outputs": [],
   "source": [
    "%run model_sucrose.ipynb #importing model on sucrose media"
   ]
  },
  {
   "cell_type": "markdown",
   "id": "4541e1df-2040-425c-b302-01f8797ad239",
   "metadata": {},
   "source": [
    "### Production pathway modelling"
   ]
  },
  {
   "cell_type": "code",
   "execution_count": 2,
   "id": "68862b4f-3108-464c-90c4-14ec070d1e2c",
   "metadata": {},
   "outputs": [],
   "source": [
    "from cameo import models\n",
    "from cameo.strain_design import pathway_prediction"
   ]
  },
  {
   "cell_type": "markdown",
   "id": "d6eca5f0-b317-478a-a376-31ff452e4f80",
   "metadata": {},
   "source": [
    "Finding surfactin pathway"
   ]
  },
  {
   "cell_type": "code",
   "execution_count": 3,
   "id": "ebab2bb1-6e1a-4fce-b030-39932193b29d",
   "metadata": {},
   "outputs": [],
   "source": [
    "predictor = pathway_prediction.PathwayPredictor(model)"
   ]
  },
  {
   "cell_type": "code",
   "execution_count": null,
   "id": "de3f8c13-fa60-41f3-8a6e-8ca2021390ec",
   "metadata": {},
   "outputs": [],
   "source": [
    "pathways = predictor.run(product=\"surfactin_c\") #trying for surfactin pathway"
   ]
  },
  {
   "cell_type": "code",
   "execution_count": null,
   "id": "3138ffaa-5898-4b16-8d3a-168ef10e5516",
   "metadata": {},
   "outputs": [],
   "source": [
    "pathways = predictor.run(product=\"tdcoa_c\") #trying for fatty acid from SP_2"
   ]
  },
  {
   "cell_type": "code",
   "execution_count": null,
   "id": "d0d13485-ebb3-4191-831d-8091cfbd9e6a",
   "metadata": {},
   "outputs": [],
   "source": [
    "pathways = predictor.run(product=\"3hddcoa_c\") #trying for fatty acid from SP_1 "
   ]
  },
  {
   "cell_type": "markdown",
   "id": "e7c4ec22-4881-4307-904b-d4da39c88013",
   "metadata": {},
   "source": [
    "No results given"
   ]
  },
  {
   "cell_type": "code",
   "execution_count": null,
   "id": "70adf020-a888-424f-8a8f-c28c3fcd8d9b",
   "metadata": {},
   "outputs": [],
   "source": []
  }
 ],
 "metadata": {
  "kernelspec": {
   "display_name": "Python 3 (ipykernel)",
   "language": "python",
   "name": "python3"
  },
  "language_info": {
   "codemirror_mode": {
    "name": "ipython",
    "version": 3
   },
   "file_extension": ".py",
   "mimetype": "text/x-python",
   "name": "python",
   "nbconvert_exporter": "python",
   "pygments_lexer": "ipython3",
   "version": "3.8.11"
  }
 },
 "nbformat": 4,
 "nbformat_minor": 5
}
