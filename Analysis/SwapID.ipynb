{
 "cells": [
  {
   "cell_type": "markdown",
   "id": "549d05e3-0bb1-46a1-b16c-2a9b1b72a976",
   "metadata": {},
   "source": [
    "Importing the model from Data folder"
   ]
  },
  {
   "cell_type": "markdown",
   "id": "6fe6c935-284e-471f-8bff-00ec7ea8a095",
   "metadata": {},
   "source": [
    "Trying the same at model report. "
   ]
  },
  {
   "cell_type": "code",
   "execution_count": 1,
   "id": "8ffacd10-8de1-4e4d-9226-fd5e87cb0951",
   "metadata": {},
   "outputs": [],
   "source": [
    "%run model_sucrose.ipynb #Getting model with sucrose as carbon source for modifications"
   ]
  },
  {
   "cell_type": "code",
   "execution_count": 2,
   "id": "4850576d-9cc7-40df-a264-0d5119fd25e8",
   "metadata": {},
   "outputs": [],
   "source": [
    "from cameo.strain_design.heuristic.evolutionary_based import CofactorSwapOptimization\n",
    "from cameo.strain_design.heuristic.evolutionary.objective_functions import product_yield\n",
    "\n",
    "from cameo.strain_design.heuristic.evolutionary.optimization import CofactorSwapOptimization, NADH_NADPH\n",
    "#Pulling relevant code from cameo. "
   ]
  },
  {
   "cell_type": "code",
   "execution_count": 3,
   "id": "3c4458c7-2246-4c1c-abf1-ad8470de9d24",
   "metadata": {},
   "outputs": [],
   "source": [
    "model.solver = \"glpk\" #Free software package"
   ]
  },
  {
   "cell_type": "code",
   "execution_count": 4,
   "id": "bb027297-0de8-4f01-87dc-f3d7682cabda",
   "metadata": {},
   "outputs": [],
   "source": [
    "biomass = model.reactions.BIOMASS_BS_10 #Reactions leading to biomass formation. "
   ]
  },
  {
   "cell_type": "code",
   "execution_count": 5,
   "id": "3e96ec32-4222-4c83-89f7-8a7b71ff885b",
   "metadata": {},
   "outputs": [],
   "source": [
    "biomass.lower_bound = 0.1 #Possible to change bounds, but does that make sense to do?"
   ]
  },
  {
   "cell_type": "code",
   "execution_count": 13,
   "id": "46fbdac9-d5a7-444c-a2cb-6c6f5f20e46a",
   "metadata": {},
   "outputs": [],
   "source": [
    "demand = model.reactions.HACD5 #Definition on what product we are demanding / looking for"
   ]
  },
  {
   "cell_type": "code",
   "execution_count": 14,
   "id": "cb04e445-11ff-4425-98e2-ff83a3f8e292",
   "metadata": {},
   "outputs": [],
   "source": [
    "model.objective = demand #Setting our demand as the objective of this."
   ]
  },
  {
   "cell_type": "code",
   "execution_count": 15,
   "id": "1d55e9d7-2426-48ff-8e55-005e83af013f",
   "metadata": {},
   "outputs": [],
   "source": [
    "product_yield = product_yield(demand, model.reactions.EX_sucr_e) #Setting the yield of surfactin based on the surcrose used"
   ]
  },
  {
   "cell_type": "code",
   "execution_count": 16,
   "id": "98b89567-6558-484b-8699-b86ea1291110",
   "metadata": {},
   "outputs": [],
   "source": [
    "#CofactorSwapOptimization? #Details of CofactorSwapOptimization - not needed "
   ]
  },
  {
   "cell_type": "code",
   "execution_count": 17,
   "id": "1a002ea1-7991-4bde-9752-daf10ba1aea1",
   "metadata": {},
   "outputs": [],
   "source": [
    "swap_opt = CofactorSwapOptimization(model=model, objective_function=product_yield, plot=True, cofactor_id_swaps=(['nadp_c', 'nadph_c'], ['nad_c', 'nadh_c']))"
   ]
  },
  {
   "cell_type": "code",
   "execution_count": 18,
   "id": "0b2372a7-fbc3-4eab-9e6a-6cfcd42d229c",
   "metadata": {},
   "outputs": [
    {
     "name": "stdout",
     "output_type": "stream",
     "text": [
      "Starting optimization at Tue, 23 Nov 2021 10:47:53\n"
     ]
    },
    {
     "data": {
      "application/vnd.jupyter.widget-view+json": {
       "model_id": "61a69a5f93c54cfb9768641288b5ae0e",
       "version_major": 2,
       "version_minor": 0
      },
      "text/plain": [
       "HBox()"
      ]
     },
     "metadata": {},
     "output_type": "display_data"
    },
    {
     "name": "stdout",
     "output_type": "stream",
     "text": [
      "Finished after 00:03:43\n",
      "Wall time: 4min 41s\n"
     ]
    }
   ],
   "source": [
    "%%time\n",
    "result = swap_opt.run(max_evaluations=2000, max_size=5) #Running the analysis"
   ]
  },
  {
   "cell_type": "code",
   "execution_count": 19,
   "id": "f40b922d-0fb5-47fa-b4df-a7fccb9d4814",
   "metadata": {},
   "outputs": [
    {
     "data": {
      "text/html": [
       "\n",
       "        <h4>Result:</h4>\n",
       "        <ul>\n",
       "            <li>model: iYO844</li>\n",
       "            <li>heuristic: GA</li>\n",
       "            <li>objective function: $$yield = \\frac{HACD5}{EX\\_sucr\\_e}$$</li>\n",
       "            <li>simulation method: pfba</li>\n",
       "            <li>target type: cofactor-swap</li>\n",
       "        <ul>\n",
       "        <div>\n",
       "<style scoped>\n",
       "    .dataframe tbody tr th:only-of-type {\n",
       "        vertical-align: middle;\n",
       "    }\n",
       "\n",
       "    .dataframe tbody tr th {\n",
       "        vertical-align: top;\n",
       "    }\n",
       "\n",
       "    .dataframe thead th {\n",
       "        text-align: right;\n",
       "    }\n",
       "</style>\n",
       "<table border=\"1\" class=\"dataframe\">\n",
       "  <thead>\n",
       "    <tr style=\"text-align: right;\">\n",
       "      <th></th>\n",
       "      <th>index</th>\n",
       "      <th>targets</th>\n",
       "      <th>fitness</th>\n",
       "    </tr>\n",
       "  </thead>\n",
       "  <tbody>\n",
       "    <tr>\n",
       "      <th>0</th>\n",
       "      <td>0</td>\n",
       "      <td>(G6PDH2r, KAS6, GND, MDH)</td>\n",
       "      <td>0.470781</td>\n",
       "    </tr>\n",
       "    <tr>\n",
       "      <th>1</th>\n",
       "      <td>1</td>\n",
       "      <td>(G6PDH2r, GND, MDH, UAPGR)</td>\n",
       "      <td>0.470773</td>\n",
       "    </tr>\n",
       "    <tr>\n",
       "      <th>2</th>\n",
       "      <td>2</td>\n",
       "      <td>(G6PDH2r, KAS1, GND, MDH)</td>\n",
       "      <td>0.470750</td>\n",
       "    </tr>\n",
       "    <tr>\n",
       "      <th>3</th>\n",
       "      <td>3</td>\n",
       "      <td>(G6PDH2r, OIVD2, GND, MDH)</td>\n",
       "      <td>0.470747</td>\n",
       "    </tr>\n",
       "    <tr>\n",
       "      <th>4</th>\n",
       "      <td>4</td>\n",
       "      <td>(G6PDH2r, GND, MDH)</td>\n",
       "      <td>0.470743</td>\n",
       "    </tr>\n",
       "    <tr>\n",
       "      <th>5</th>\n",
       "      <td>17</td>\n",
       "      <td>(SSALy, MTHFD, GND, MDH)</td>\n",
       "      <td>0.468519</td>\n",
       "    </tr>\n",
       "    <tr>\n",
       "      <th>6</th>\n",
       "      <td>18</td>\n",
       "      <td>(HACD2, SSALy, MDH, GND)</td>\n",
       "      <td>0.468518</td>\n",
       "    </tr>\n",
       "    <tr>\n",
       "      <th>7</th>\n",
       "      <td>19</td>\n",
       "      <td>(OIVD1r, ACOAD4_1, GND, MDH)</td>\n",
       "      <td>0.468496</td>\n",
       "    </tr>\n",
       "    <tr>\n",
       "      <th>8</th>\n",
       "      <td>20</td>\n",
       "      <td>(HACD2, OIVD2, GND, MDH)</td>\n",
       "      <td>0.468483</td>\n",
       "    </tr>\n",
       "    <tr>\n",
       "      <th>9</th>\n",
       "      <td>21</td>\n",
       "      <td>(G6PDH2r, ACOAD2, OIVD2, MDH)</td>\n",
       "      <td>0.468483</td>\n",
       "    </tr>\n",
       "    <tr>\n",
       "      <th>10</th>\n",
       "      <td>22</td>\n",
       "      <td>(ACOAD3, GND, MDH)</td>\n",
       "      <td>0.468479</td>\n",
       "    </tr>\n",
       "    <tr>\n",
       "      <th>11</th>\n",
       "      <td>23</td>\n",
       "      <td>(MDH, GND, ACOAD3)</td>\n",
       "      <td>0.468479</td>\n",
       "    </tr>\n",
       "    <tr>\n",
       "      <th>12</th>\n",
       "      <td>24</td>\n",
       "      <td>(ACOAD4_1, GND, MDH)</td>\n",
       "      <td>0.468479</td>\n",
       "    </tr>\n",
       "    <tr>\n",
       "      <th>13</th>\n",
       "      <td>25</td>\n",
       "      <td>(HACD2, GND, MDH)</td>\n",
       "      <td>0.468479</td>\n",
       "    </tr>\n",
       "    <tr>\n",
       "      <th>14</th>\n",
       "      <td>26</td>\n",
       "      <td>(ACOAD4_1, MDH, GND)</td>\n",
       "      <td>0.468479</td>\n",
       "    </tr>\n",
       "    <tr>\n",
       "      <th>15</th>\n",
       "      <td>27</td>\n",
       "      <td>(G6PDH2r, MDH, HACD1_1)</td>\n",
       "      <td>0.468479</td>\n",
       "    </tr>\n",
       "    <tr>\n",
       "      <th>16</th>\n",
       "      <td>29</td>\n",
       "      <td>(G6PDH2r, DHDPRy, TRDR, AKGDH)</td>\n",
       "      <td>0.468476</td>\n",
       "    </tr>\n",
       "    <tr>\n",
       "      <th>17</th>\n",
       "      <td>32</td>\n",
       "      <td>(MTHFD, GND, MDH, KARA2)</td>\n",
       "      <td>0.468468</td>\n",
       "    </tr>\n",
       "    <tr>\n",
       "      <th>18</th>\n",
       "      <td>34</td>\n",
       "      <td>(G6PDH2r, TRDR, AKGDH, KAS6)</td>\n",
       "      <td>0.468427</td>\n",
       "    </tr>\n",
       "    <tr>\n",
       "      <th>19</th>\n",
       "      <td>35</td>\n",
       "      <td>(G6PDH2r, MTHFD, MDH, KAS1, HISTD)</td>\n",
       "      <td>0.468412</td>\n",
       "    </tr>\n",
       "    <tr>\n",
       "      <th>20</th>\n",
       "      <td>36</td>\n",
       "      <td>(MTHFD, GND, MDH, HISTD)</td>\n",
       "      <td>0.468405</td>\n",
       "    </tr>\n",
       "    <tr>\n",
       "      <th>21</th>\n",
       "      <td>37</td>\n",
       "      <td>(G6PDH2r, DHFR, TRDR, AKGDH)</td>\n",
       "      <td>0.468397</td>\n",
       "    </tr>\n",
       "    <tr>\n",
       "      <th>22</th>\n",
       "      <td>38</td>\n",
       "      <td>(MTHFD, MTHFR3, GND, MDH)</td>\n",
       "      <td>0.468391</td>\n",
       "    </tr>\n",
       "    <tr>\n",
       "      <th>23</th>\n",
       "      <td>39</td>\n",
       "      <td>(G6PDH2r, TRDR, AKGDH)</td>\n",
       "      <td>0.468390</td>\n",
       "    </tr>\n",
       "    <tr>\n",
       "      <th>24</th>\n",
       "      <td>40</td>\n",
       "      <td>(MTHFD, OIVD3, GND, MDH)</td>\n",
       "      <td>0.468390</td>\n",
       "    </tr>\n",
       "    <tr>\n",
       "      <th>25</th>\n",
       "      <td>43</td>\n",
       "      <td>(G6PDH2r, AKGDH, TRDR)</td>\n",
       "      <td>0.468390</td>\n",
       "    </tr>\n",
       "    <tr>\n",
       "      <th>26</th>\n",
       "      <td>49</td>\n",
       "      <td>(G6PDH2r, KAS1, MTHFD, MDH)</td>\n",
       "      <td>0.468364</td>\n",
       "    </tr>\n",
       "    <tr>\n",
       "      <th>27</th>\n",
       "      <td>50</td>\n",
       "      <td>(MTHFD, GND, MDH)</td>\n",
       "      <td>0.468358</td>\n",
       "    </tr>\n",
       "    <tr>\n",
       "      <th>28</th>\n",
       "      <td>55</td>\n",
       "      <td>(MTHFD, MDH, GND)</td>\n",
       "      <td>0.468358</td>\n",
       "    </tr>\n",
       "    <tr>\n",
       "      <th>29</th>\n",
       "      <td>56</td>\n",
       "      <td>(G6PDH2r, MTHFD, MDH)</td>\n",
       "      <td>0.468358</td>\n",
       "    </tr>\n",
       "    <tr>\n",
       "      <th>30</th>\n",
       "      <td>64</td>\n",
       "      <td>(ACOAD2, GND, MDH)</td>\n",
       "      <td>0.467918</td>\n",
       "    </tr>\n",
       "    <tr>\n",
       "      <th>31</th>\n",
       "      <td>66</td>\n",
       "      <td>(GND, MDH, ACOAD3)</td>\n",
       "      <td>0.467918</td>\n",
       "    </tr>\n",
       "    <tr>\n",
       "      <th>32</th>\n",
       "      <td>67</td>\n",
       "      <td>(G6PDH2r, MDH, HACD2)</td>\n",
       "      <td>0.467918</td>\n",
       "    </tr>\n",
       "    <tr>\n",
       "      <th>33</th>\n",
       "      <td>72</td>\n",
       "      <td>(G6PDH2r, AKGDH)</td>\n",
       "      <td>0.467463</td>\n",
       "    </tr>\n",
       "    <tr>\n",
       "      <th>34</th>\n",
       "      <td>77</td>\n",
       "      <td>(G6PDH2r, KAS3, SHK3Dr)</td>\n",
       "      <td>0.467414</td>\n",
       "    </tr>\n",
       "    <tr>\n",
       "      <th>35</th>\n",
       "      <td>81</td>\n",
       "      <td>(HSDy, GND)</td>\n",
       "      <td>0.467386</td>\n",
       "    </tr>\n",
       "    <tr>\n",
       "      <th>36</th>\n",
       "      <td>82</td>\n",
       "      <td>(G6PDH2r, KAS3, UAPGR, HXAND)</td>\n",
       "      <td>0.467367</td>\n",
       "    </tr>\n",
       "    <tr>\n",
       "      <th>37</th>\n",
       "      <td>83</td>\n",
       "      <td>(G6PDH2r, DHDPRy, PPND)</td>\n",
       "      <td>0.467344</td>\n",
       "    </tr>\n",
       "    <tr>\n",
       "      <th>38</th>\n",
       "      <td>84</td>\n",
       "      <td>(G6PDH2r, OIVD2, KAS3, HXAND)</td>\n",
       "      <td>0.467340</td>\n",
       "    </tr>\n",
       "    <tr>\n",
       "      <th>39</th>\n",
       "      <td>85</td>\n",
       "      <td>(G6PDH2r, KAS11, SHK3Dr)</td>\n",
       "      <td>0.467339</td>\n",
       "    </tr>\n",
       "    <tr>\n",
       "      <th>40</th>\n",
       "      <td>86</td>\n",
       "      <td>(G6PDH2r, KAS3, HXAND)</td>\n",
       "      <td>0.467336</td>\n",
       "    </tr>\n",
       "    <tr>\n",
       "      <th>41</th>\n",
       "      <td>88</td>\n",
       "      <td>(G6PDH2r, KAS12, KAS1)</td>\n",
       "      <td>0.467321</td>\n",
       "    </tr>\n",
       "    <tr>\n",
       "      <th>42</th>\n",
       "      <td>89</td>\n",
       "      <td>(G6PDH2r, KAS12)</td>\n",
       "      <td>0.467315</td>\n",
       "    </tr>\n",
       "    <tr>\n",
       "      <th>43</th>\n",
       "      <td>91</td>\n",
       "      <td>(KAS12, GND)</td>\n",
       "      <td>0.467315</td>\n",
       "    </tr>\n",
       "    <tr>\n",
       "      <th>44</th>\n",
       "      <td>92</td>\n",
       "      <td>(G6PDH2r, KAS3)</td>\n",
       "      <td>0.467312</td>\n",
       "    </tr>\n",
       "  </tbody>\n",
       "</table>\n",
       "</div>"
      ],
      "text/plain": [
       "<cameo.strain_design.heuristic.evolutionary.optimization.TargetOptimizationResult at 0x1ba6b43d7c0>"
      ]
     },
     "execution_count": 19,
     "metadata": {},
     "output_type": "execute_result"
    }
   ],
   "source": [
    "result #Showing the result of the analysis"
   ]
  },
  {
   "cell_type": "raw",
   "id": "f762fb52-87f4-424d-953d-17f8fb86fe14",
   "metadata": {},
   "source": [
    "There seems to be plenty of targets, if we do not focus on surfactin, but rather reactions leading to its precursors. "
   ]
  },
  {
   "cell_type": "code",
   "execution_count": 22,
   "id": "d02fe56d-da62-406b-ba15-2889c5edfcf8",
   "metadata": {},
   "outputs": [
    {
     "data": {
      "text/html": [
       "\n",
       "        <table>\n",
       "            <tr>\n",
       "                <td><strong>Reaction identifier</strong></td><td>G6PDH2r</td>\n",
       "            </tr><tr>\n",
       "                <td><strong>Name</strong></td><td>Glucose 6-phosphate dehydrogenase</td>\n",
       "            </tr><tr>\n",
       "                <td><strong>Memory address</strong></td>\n",
       "                <td>0x01ba68e2ce80</td>\n",
       "            </tr><tr>\n",
       "                <td><strong>Stoichiometry</strong></td>\n",
       "                <td>\n",
       "                    <p style='text-align:right'>g6p_c + nadp_c --> 6pgl_c + h_c + nadph_c</p>\n",
       "                    <p style='text-align:right'>D-Glucose 6-phosphate + Nicotinamide adenine dinucleotide phosphate --> 6-phospho-D-glucono-1,5-lactone + H+ + Nicotinamide adenine dinucleotide phosphate - reduced</p>\n",
       "                </td>\n",
       "            </tr><tr>\n",
       "                <td><strong>GPR</strong></td><td>BSU23850</td>\n",
       "            </tr><tr>\n",
       "                <td><strong>Lower bound</strong></td><td>0.0</td>\n",
       "            </tr><tr>\n",
       "                <td><strong>Upper bound</strong></td><td>999999.0</td>\n",
       "            </tr>\n",
       "        </table>\n",
       "        "
      ],
      "text/plain": [
       "<Reaction G6PDH2r at 0x1ba68e2ce80>"
      ]
     },
     "execution_count": 22,
     "metadata": {},
     "output_type": "execute_result"
    }
   ],
   "source": [
    "model.reactions.G6PDH2r"
   ]
  },
  {
   "cell_type": "code",
   "execution_count": 23,
   "id": "56292706-244c-4ba4-9a10-dd1ae84cf9c2",
   "metadata": {},
   "outputs": [
    {
     "data": {
      "text/html": [
       "\n",
       "        <table>\n",
       "            <tr>\n",
       "                <td><strong>Reaction identifier</strong></td><td>MDH</td>\n",
       "            </tr><tr>\n",
       "                <td><strong>Name</strong></td><td>Malate dehydrogenase</td>\n",
       "            </tr><tr>\n",
       "                <td><strong>Memory address</strong></td>\n",
       "                <td>0x01ba6905bdc0</td>\n",
       "            </tr><tr>\n",
       "                <td><strong>Stoichiometry</strong></td>\n",
       "                <td>\n",
       "                    <p style='text-align:right'>mal__L_c + nad_c <=> h_c + nadh_c + oaa_c</p>\n",
       "                    <p style='text-align:right'>L-Malate + Nicotinamide adenine dinucleotide <=> H+ + Nicotinamide adenine dinucleotide - reduced + Oxaloacetate</p>\n",
       "                </td>\n",
       "            </tr><tr>\n",
       "                <td><strong>GPR</strong></td><td>BSU29120</td>\n",
       "            </tr><tr>\n",
       "                <td><strong>Lower bound</strong></td><td>-999999.0</td>\n",
       "            </tr><tr>\n",
       "                <td><strong>Upper bound</strong></td><td>999999.0</td>\n",
       "            </tr>\n",
       "        </table>\n",
       "        "
      ],
      "text/plain": [
       "<Reaction MDH at 0x1ba6905bdc0>"
      ]
     },
     "execution_count": 23,
     "metadata": {},
     "output_type": "execute_result"
    }
   ],
   "source": [
    "model.reactions.MDH"
   ]
  },
  {
   "cell_type": "code",
   "execution_count": null,
   "id": "e8b6d059-7d7a-4ecc-a490-7a3cb6064d40",
   "metadata": {},
   "outputs": [],
   "source": []
  }
 ],
 "metadata": {
  "kernelspec": {
   "display_name": "Python 3 (ipykernel)",
   "language": "python",
   "name": "python3"
  },
  "language_info": {
   "codemirror_mode": {
    "name": "ipython",
    "version": 3
   },
   "file_extension": ".py",
   "mimetype": "text/x-python",
   "name": "python",
   "nbconvert_exporter": "python",
   "pygments_lexer": "ipython3",
   "version": "3.8.11"
  }
 },
 "nbformat": 4,
 "nbformat_minor": 5
}
