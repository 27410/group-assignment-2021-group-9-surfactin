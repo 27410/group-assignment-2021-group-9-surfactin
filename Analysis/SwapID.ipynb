{
 "cells": [
  {
   "cell_type": "markdown",
   "id": "6fe6c935-284e-471f-8bff-00ec7ea8a095",
   "metadata": {
    "tags": []
   },
   "source": [
    "Cofactor swap analysis was performed following the guide provided by DTU Biosustain. "
   ]
  },
  {
   "cell_type": "markdown",
   "id": "0f81e467-27b3-4e99-8fb2-681658091f2c",
   "metadata": {},
   "source": [
    "## Cofactor Swap Analysis"
   ]
  },
  {
   "cell_type": "markdown",
   "id": "549d05e3-0bb1-46a1-b16c-2a9b1b72a976",
   "metadata": {},
   "source": [
    "The model with sucrose as carbon source is used for this analysis, since it is the better carbon source for surfactin production. "
   ]
  },
  {
   "cell_type": "code",
   "execution_count": 1,
   "id": "8ffacd10-8de1-4e4d-9226-fd5e87cb0951",
   "metadata": {},
   "outputs": [],
   "source": [
    "%run model_sucrose.ipynb #Getting model with sucrose as carbon source for modifications"
   ]
  },
  {
   "cell_type": "markdown",
   "id": "a1854600-9c18-4b0f-b59e-fdf48a57e8d4",
   "metadata": {},
   "source": [
    "Relevant packages from cameo.bio is imported to use for the analysis. "
   ]
  },
  {
   "cell_type": "code",
   "execution_count": 2,
   "id": "4850576d-9cc7-40df-a264-0d5119fd25e8",
   "metadata": {},
   "outputs": [],
   "source": [
    "from cameo.strain_design.heuristic.evolutionary_based import CofactorSwapOptimization\n",
    "from cameo.strain_design.heuristic.evolutionary.objective_functions import product_yield\n",
    "\n",
    "from cameo.strain_design.heuristic.evolutionary.optimization import CofactorSwapOptimization, NADH_NADPH\n",
    "#Pulling relevant code from cameo. "
   ]
  },
  {
   "cell_type": "code",
   "execution_count": 3,
   "id": "3c4458c7-2246-4c1c-abf1-ad8470de9d24",
   "metadata": {},
   "outputs": [],
   "source": [
    "model.solver = \"glpk\" #Free software package"
   ]
  },
  {
   "cell_type": "markdown",
   "id": "53346261-a8d9-4c55-8a77-e0d8a7c33d5d",
   "metadata": {},
   "source": []
  },
  {
   "cell_type": "code",
   "execution_count": 4,
   "id": "bb027297-0de8-4f01-87dc-f3d7682cabda",
   "metadata": {},
   "outputs": [],
   "source": [
    "biomass = model.reactions.BIOMASS_BS_10 #Reactions leading to biomass formation "
   ]
  },
  {
   "cell_type": "code",
   "execution_count": 5,
   "id": "3e96ec32-4222-4c83-89f7-8a7b71ff885b",
   "metadata": {},
   "outputs": [],
   "source": [
    "biomass.lower_bound = 0.1 #Possible to change bounds, but does that make sense to do?"
   ]
  },
  {
   "cell_type": "code",
   "execution_count": 6,
   "id": "46fbdac9-d5a7-444c-a2cb-6c6f5f20e46a",
   "metadata": {},
   "outputs": [],
   "source": [
    "demand = model.reactions.HACD5 #Definition on what product we are demanding / looking for"
   ]
  },
  {
   "cell_type": "code",
   "execution_count": 7,
   "id": "cb04e445-11ff-4425-98e2-ff83a3f8e292",
   "metadata": {},
   "outputs": [],
   "source": [
    "model.objective = demand #Setting our demand as the objective of this, ie. objectives for the algorithm to maximize."
   ]
  },
  {
   "cell_type": "code",
   "execution_count": 8,
   "id": "1d55e9d7-2426-48ff-8e55-005e83af013f",
   "metadata": {},
   "outputs": [],
   "source": [
    "p_yield = product_yield(demand, model.reactions.EX_sucr_e) #Setting the yield of surfactin based on the surcrose used"
   ]
  },
  {
   "cell_type": "code",
   "execution_count": 9,
   "id": "98b89567-6558-484b-8699-b86ea1291110",
   "metadata": {},
   "outputs": [],
   "source": [
    "#CofactorSwapOptimization? #Details of CofactorSwapOptimization - not needed "
   ]
  },
  {
   "cell_type": "code",
   "execution_count": 10,
   "id": "1a002ea1-7991-4bde-9752-daf10ba1aea1",
   "metadata": {},
   "outputs": [],
   "source": [
    "swap_opt = CofactorSwapOptimization(model=model, objective_function=p_yield, plot=True, cofactor_id_swaps=(['nadp_c', 'nadph_c'], ['nad_c', 'nadh_c']))"
   ]
  },
  {
   "cell_type": "code",
   "execution_count": 11,
   "id": "0b2372a7-fbc3-4eab-9e6a-6cfcd42d229c",
   "metadata": {},
   "outputs": [
    {
     "name": "stdout",
     "output_type": "stream",
     "text": [
      "Starting optimization at Tue, 23 Nov 2021 12:21:30\n"
     ]
    },
    {
     "data": {
      "application/vnd.jupyter.widget-view+json": {
       "model_id": "8c04049088ef4af6be016a6d7e350121",
       "version_major": 2,
       "version_minor": 0
      },
      "text/plain": [
       "HBox()"
      ]
     },
     "metadata": {},
     "output_type": "display_data"
    },
    {
     "name": "stdout",
     "output_type": "stream",
     "text": [
      "Finished after 00:00:17\n",
      "Wall time: 35.1 s\n"
     ]
    }
   ],
   "source": [
    "%%time\n",
    "result = swap_opt.run(max_evaluations=100, max_size=5) #Running the analysis"
   ]
  },
  {
   "cell_type": "code",
   "execution_count": 12,
   "id": "f40b922d-0fb5-47fa-b4df-a7fccb9d4814",
   "metadata": {},
   "outputs": [
    {
     "data": {
      "text/html": [
       "\n",
       "        <h4>Result:</h4>\n",
       "        <ul>\n",
       "            <li>model: iYO844</li>\n",
       "            <li>heuristic: GA</li>\n",
       "            <li>objective function: $$yield = \\frac{HACD5}{EX\\_sucr\\_e}$$</li>\n",
       "            <li>simulation method: pfba</li>\n",
       "            <li>target type: cofactor-swap</li>\n",
       "        <ul>\n",
       "        <div>\n",
       "<style scoped>\n",
       "    .dataframe tbody tr th:only-of-type {\n",
       "        vertical-align: middle;\n",
       "    }\n",
       "\n",
       "    .dataframe tbody tr th {\n",
       "        vertical-align: top;\n",
       "    }\n",
       "\n",
       "    .dataframe thead th {\n",
       "        text-align: right;\n",
       "    }\n",
       "</style>\n",
       "<table border=\"1\" class=\"dataframe\">\n",
       "  <thead>\n",
       "    <tr style=\"text-align: right;\">\n",
       "      <th></th>\n",
       "      <th>index</th>\n",
       "      <th>targets</th>\n",
       "      <th>fitness</th>\n",
       "    </tr>\n",
       "  </thead>\n",
       "  <tbody>\n",
       "    <tr>\n",
       "      <th>0</th>\n",
       "      <td>0</td>\n",
       "      <td>(DHDPRy, GND)</td>\n",
       "      <td>0.467311</td>\n",
       "    </tr>\n",
       "    <tr>\n",
       "      <th>1</th>\n",
       "      <td>1</td>\n",
       "      <td>(GAPD,)</td>\n",
       "      <td>0.466592</td>\n",
       "    </tr>\n",
       "    <tr>\n",
       "      <th>2</th>\n",
       "      <td>2</td>\n",
       "      <td>(GND,)</td>\n",
       "      <td>0.465225</td>\n",
       "    </tr>\n",
       "    <tr>\n",
       "      <th>3</th>\n",
       "      <td>3</td>\n",
       "      <td>(PGCD, GLXO1)</td>\n",
       "      <td>0.465215</td>\n",
       "    </tr>\n",
       "    <tr>\n",
       "      <th>4</th>\n",
       "      <td>4</td>\n",
       "      <td>(AGPR, MDH)</td>\n",
       "      <td>0.465213</td>\n",
       "    </tr>\n",
       "    <tr>\n",
       "      <th>5</th>\n",
       "      <td>5</td>\n",
       "      <td>(KARA2, IPMD)</td>\n",
       "      <td>0.465197</td>\n",
       "    </tr>\n",
       "    <tr>\n",
       "      <th>6</th>\n",
       "      <td>6</td>\n",
       "      <td>(MDH,)</td>\n",
       "      <td>0.465191</td>\n",
       "    </tr>\n",
       "    <tr>\n",
       "      <th>7</th>\n",
       "      <td>7</td>\n",
       "      <td>(OIVD2, PGCD)</td>\n",
       "      <td>0.464926</td>\n",
       "    </tr>\n",
       "    <tr>\n",
       "      <th>8</th>\n",
       "      <td>8</td>\n",
       "      <td>(PGCD,)</td>\n",
       "      <td>0.464924</td>\n",
       "    </tr>\n",
       "    <tr>\n",
       "      <th>9</th>\n",
       "      <td>9</td>\n",
       "      <td>(SULR_1, UAPGR)</td>\n",
       "      <td>0.464890</td>\n",
       "    </tr>\n",
       "    <tr>\n",
       "      <th>10</th>\n",
       "      <td>11</td>\n",
       "      <td>(TRDR,)</td>\n",
       "      <td>0.464272</td>\n",
       "    </tr>\n",
       "    <tr>\n",
       "      <th>11</th>\n",
       "      <td>12</td>\n",
       "      <td>(DPR,)</td>\n",
       "      <td>0.464252</td>\n",
       "    </tr>\n",
       "    <tr>\n",
       "      <th>12</th>\n",
       "      <td>13</td>\n",
       "      <td>(AGPR, HSDy)</td>\n",
       "      <td>0.464046</td>\n",
       "    </tr>\n",
       "    <tr>\n",
       "      <th>13</th>\n",
       "      <td>14</td>\n",
       "      <td>(HISTD, SHK3Dr)</td>\n",
       "      <td>0.464008</td>\n",
       "    </tr>\n",
       "    <tr>\n",
       "      <th>14</th>\n",
       "      <td>15</td>\n",
       "      <td>(KAS1, DHDPRy)</td>\n",
       "      <td>0.464006</td>\n",
       "    </tr>\n",
       "    <tr>\n",
       "      <th>15</th>\n",
       "      <td>16</td>\n",
       "      <td>(KAS12,)</td>\n",
       "      <td>0.464005</td>\n",
       "    </tr>\n",
       "    <tr>\n",
       "      <th>16</th>\n",
       "      <td>17</td>\n",
       "      <td>(KAS3,)</td>\n",
       "      <td>0.464004</td>\n",
       "    </tr>\n",
       "    <tr>\n",
       "      <th>17</th>\n",
       "      <td>18</td>\n",
       "      <td>(DHDPRy,)</td>\n",
       "      <td>0.464004</td>\n",
       "    </tr>\n",
       "    <tr>\n",
       "      <th>18</th>\n",
       "      <td>19</td>\n",
       "      <td>(SHK3Dr,)</td>\n",
       "      <td>0.463995</td>\n",
       "    </tr>\n",
       "    <tr>\n",
       "      <th>19</th>\n",
       "      <td>21</td>\n",
       "      <td>(AGPR,)</td>\n",
       "      <td>0.463981</td>\n",
       "    </tr>\n",
       "    <tr>\n",
       "      <th>20</th>\n",
       "      <td>23</td>\n",
       "      <td>(KAS11,)</td>\n",
       "      <td>0.463980</td>\n",
       "    </tr>\n",
       "    <tr>\n",
       "      <th>21</th>\n",
       "      <td>24</td>\n",
       "      <td>(G5SD,)</td>\n",
       "      <td>0.463978</td>\n",
       "    </tr>\n",
       "    <tr>\n",
       "      <th>22</th>\n",
       "      <td>25</td>\n",
       "      <td>(P5CR,)</td>\n",
       "      <td>0.463978</td>\n",
       "    </tr>\n",
       "    <tr>\n",
       "      <th>23</th>\n",
       "      <td>27</td>\n",
       "      <td>(MTHFR3,)</td>\n",
       "      <td>0.463973</td>\n",
       "    </tr>\n",
       "    <tr>\n",
       "      <th>24</th>\n",
       "      <td>28</td>\n",
       "      <td>(OIVD3,)</td>\n",
       "      <td>0.463973</td>\n",
       "    </tr>\n",
       "    <tr>\n",
       "      <th>25</th>\n",
       "      <td>29</td>\n",
       "      <td>(IMPD,)</td>\n",
       "      <td>0.463970</td>\n",
       "    </tr>\n",
       "    <tr>\n",
       "      <th>26</th>\n",
       "      <td>30</td>\n",
       "      <td>(OIVD1r,)</td>\n",
       "      <td>0.463968</td>\n",
       "    </tr>\n",
       "    <tr>\n",
       "      <th>27</th>\n",
       "      <td>33</td>\n",
       "      <td>(ACTD2,)</td>\n",
       "      <td>0.463964</td>\n",
       "    </tr>\n",
       "    <tr>\n",
       "      <th>28</th>\n",
       "      <td>35</td>\n",
       "      <td>(BIOMASS_BS_10,)</td>\n",
       "      <td>0.463963</td>\n",
       "    </tr>\n",
       "    <tr>\n",
       "      <th>29</th>\n",
       "      <td>36</td>\n",
       "      <td>(DXPRIi,)</td>\n",
       "      <td>0.463963</td>\n",
       "    </tr>\n",
       "    <tr>\n",
       "      <th>30</th>\n",
       "      <td>37</td>\n",
       "      <td>(KAS4,)</td>\n",
       "      <td>0.463741</td>\n",
       "    </tr>\n",
       "  </tbody>\n",
       "</table>\n",
       "</div>"
      ],
      "text/plain": [
       "<cameo.strain_design.heuristic.evolutionary.optimization.TargetOptimizationResult at 0x21ed91ffb50>"
      ]
     },
     "execution_count": 12,
     "metadata": {},
     "output_type": "execute_result"
    }
   ],
   "source": [
    "result #Showing the result of the analysis"
   ]
  },
  {
   "cell_type": "raw",
   "id": "f762fb52-87f4-424d-953d-17f8fb86fe14",
   "metadata": {},
   "source": [
    "There seems to be plenty of targets for cofactor swap, if we focus on precursors of surfactin. In this, we've tested with the reaction HACD5, which is the reaction creating 3hddcoa_c, which is one of the four fatty acids. "
   ]
  },
  {
   "cell_type": "code",
   "execution_count": 13,
   "id": "d02fe56d-da62-406b-ba15-2889c5edfcf8",
   "metadata": {},
   "outputs": [
    {
     "data": {
      "text/html": [
       "\n",
       "        <table>\n",
       "            <tr>\n",
       "                <td><strong>Reaction identifier</strong></td><td>GND</td>\n",
       "            </tr><tr>\n",
       "                <td><strong>Name</strong></td><td>Phosphogluconate dehydrogenase</td>\n",
       "            </tr><tr>\n",
       "                <td><strong>Memory address</strong></td>\n",
       "                <td>0x024854f0adf0</td>\n",
       "            </tr><tr>\n",
       "                <td><strong>Stoichiometry</strong></td>\n",
       "                <td>\n",
       "                    <p style='text-align:right'>6pgc_c + nadp_c <=> co2_c + nadph_c + ru5p__D_c</p>\n",
       "                    <p style='text-align:right'>6-Phospho-D-gluconate + Nicotinamide adenine dinucleotide phosphate <=> CO2 CO2 + Nicotinamide adenine dinucleotide phosphate - reduced + D-Ribulose 5-phosphate</p>\n",
       "                </td>\n",
       "            </tr><tr>\n",
       "                <td><strong>GPR</strong></td><td>BSU23860</td>\n",
       "            </tr><tr>\n",
       "                <td><strong>Lower bound</strong></td><td>-999999.0</td>\n",
       "            </tr><tr>\n",
       "                <td><strong>Upper bound</strong></td><td>999999.0</td>\n",
       "            </tr>\n",
       "        </table>\n",
       "        "
      ],
      "text/plain": [
       "<Reaction GND at 0x24854f0adf0>"
      ]
     },
     "execution_count": 13,
     "metadata": {},
     "output_type": "execute_result"
    }
   ],
   "source": [
    "model.reactions.GND"
   ]
  },
  {
   "cell_type": "code",
   "execution_count": 14,
   "id": "bf7a6590-6d48-44fe-b34a-1abcdf172eec",
   "metadata": {},
   "outputs": [
    {
     "data": {
      "text/html": [
       "\n",
       "        <table>\n",
       "            <tr>\n",
       "                <td><strong>Reaction identifier</strong></td><td>G6PDH2r</td>\n",
       "            </tr><tr>\n",
       "                <td><strong>Name</strong></td><td>Glucose 6-phosphate dehydrogenase</td>\n",
       "            </tr><tr>\n",
       "                <td><strong>Memory address</strong></td>\n",
       "                <td>0x024854912b20</td>\n",
       "            </tr><tr>\n",
       "                <td><strong>Stoichiometry</strong></td>\n",
       "                <td>\n",
       "                    <p style='text-align:right'>g6p_c + nadp_c --> 6pgl_c + h_c + nadph_c</p>\n",
       "                    <p style='text-align:right'>D-Glucose 6-phosphate + Nicotinamide adenine dinucleotide phosphate --> 6-phospho-D-glucono-1,5-lactone + H+ + Nicotinamide adenine dinucleotide phosphate - reduced</p>\n",
       "                </td>\n",
       "            </tr><tr>\n",
       "                <td><strong>GPR</strong></td><td>BSU23850</td>\n",
       "            </tr><tr>\n",
       "                <td><strong>Lower bound</strong></td><td>0.0</td>\n",
       "            </tr><tr>\n",
       "                <td><strong>Upper bound</strong></td><td>999999.0</td>\n",
       "            </tr>\n",
       "        </table>\n",
       "        "
      ],
      "text/plain": [
       "<Reaction G6PDH2r at 0x24854912b20>"
      ]
     },
     "execution_count": 14,
     "metadata": {},
     "output_type": "execute_result"
    }
   ],
   "source": [
    "model.reactions.G6PDH2r"
   ]
  },
  {
   "cell_type": "code",
   "execution_count": 15,
   "id": "57502c3f-a3be-4a11-b395-c44dc090b302",
   "metadata": {},
   "outputs": [],
   "source": [
    "del (demand)"
   ]
  },
  {
   "cell_type": "code",
   "execution_count": 16,
   "id": "ed3a6482-c565-4ac7-adbb-3f5d29bd8e67",
   "metadata": {},
   "outputs": [],
   "source": [
    "demand = model.reactions.PANTS #Definition on what product we are demanding / looking for"
   ]
  },
  {
   "cell_type": "code",
   "execution_count": 17,
   "id": "47ba6134-9b48-40ce-a3c3-c370ea25857a",
   "metadata": {},
   "outputs": [],
   "source": [
    "model.objective = demand"
   ]
  },
  {
   "cell_type": "code",
   "execution_count": 18,
   "id": "8b79ec01-2a78-4381-a087-0def4e98ae75",
   "metadata": {},
   "outputs": [
    {
     "ename": "TypeError",
     "evalue": "__call__() missing 1 required positional argument: 'targets'",
     "output_type": "error",
     "traceback": [
      "\u001b[1;31m---------------------------------------------------------------------------\u001b[0m",
      "\u001b[1;31mTypeError\u001b[0m                                 Traceback (most recent call last)",
      "\u001b[1;32m~\\AppData\\Local\\Temp/ipykernel_23428/2130286982.py\u001b[0m in \u001b[0;36m<module>\u001b[1;34m\u001b[0m\n\u001b[1;32m----> 1\u001b[1;33m \u001b[0mproduct_yield\u001b[0m \u001b[1;33m=\u001b[0m \u001b[0mproduct_yield\u001b[0m\u001b[1;33m(\u001b[0m\u001b[0mdemand\u001b[0m\u001b[1;33m,\u001b[0m \u001b[0mmodel\u001b[0m\u001b[1;33m.\u001b[0m\u001b[0mreactions\u001b[0m\u001b[1;33m.\u001b[0m\u001b[0mEX_sucr_e\u001b[0m\u001b[1;33m)\u001b[0m \u001b[1;31m#Setting the yield of ...\u001b[0m\u001b[1;33m\u001b[0m\u001b[1;33m\u001b[0m\u001b[0m\n\u001b[0m",
      "\u001b[1;31mTypeError\u001b[0m: __call__() missing 1 required positional argument: 'targets'"
     ]
    }
   ],
   "source": [
    "product_yield = product_yield(demand, model.reactions.EX_sucr_e) #Setting the yield of ..."
   ]
  },
  {
   "cell_type": "code",
   "execution_count": 23,
   "id": "87b44aa7-1ea6-4c5b-89d0-27d8e705eb25",
   "metadata": {},
   "outputs": [
    {
     "ename": "NameError",
     "evalue": "name 'product_yield1' is not defined",
     "output_type": "error",
     "traceback": [
      "\u001b[1;31m---------------------------------------------------------------------------\u001b[0m",
      "\u001b[1;31mNameError\u001b[0m                                 Traceback (most recent call last)",
      "\u001b[1;32m~\\AppData\\Local\\Temp/ipykernel_23168/1097596501.py\u001b[0m in \u001b[0;36m<module>\u001b[1;34m\u001b[0m\n\u001b[1;32m----> 1\u001b[1;33m \u001b[0mswap_opt\u001b[0m \u001b[1;33m=\u001b[0m \u001b[0mCofactorSwapOptimization\u001b[0m\u001b[1;33m(\u001b[0m\u001b[0mmodel\u001b[0m\u001b[1;33m=\u001b[0m\u001b[0mmodel\u001b[0m\u001b[1;33m,\u001b[0m \u001b[0mobjective_function\u001b[0m\u001b[1;33m=\u001b[0m\u001b[0mproduct_yield1\u001b[0m\u001b[1;33m,\u001b[0m \u001b[0mplot\u001b[0m\u001b[1;33m=\u001b[0m\u001b[1;32mTrue\u001b[0m\u001b[1;33m,\u001b[0m \u001b[0mcofactor_id_swaps\u001b[0m\u001b[1;33m=\u001b[0m\u001b[1;33m(\u001b[0m\u001b[1;33m[\u001b[0m\u001b[1;34m'nadp_c'\u001b[0m\u001b[1;33m,\u001b[0m \u001b[1;34m'nadph_c'\u001b[0m\u001b[1;33m]\u001b[0m\u001b[1;33m,\u001b[0m \u001b[1;33m[\u001b[0m\u001b[1;34m'nad_c'\u001b[0m\u001b[1;33m,\u001b[0m \u001b[1;34m'nadh_c'\u001b[0m\u001b[1;33m]\u001b[0m\u001b[1;33m)\u001b[0m\u001b[1;33m)\u001b[0m\u001b[1;33m\u001b[0m\u001b[1;33m\u001b[0m\u001b[0m\n\u001b[0m",
      "\u001b[1;31mNameError\u001b[0m: name 'product_yield1' is not defined"
     ]
    }
   ],
   "source": [
    "swap_opt = CofactorSwapOptimization(model=model, objective_function=product_yield1, plot=True, cofactor_id_swaps=(['nadp_c', 'nadph_c'], ['nad_c', 'nadh_c']))"
   ]
  },
  {
   "cell_type": "code",
   "execution_count": null,
   "id": "80fd1549-1958-4cb6-b5d8-b84285e46638",
   "metadata": {},
   "outputs": [],
   "source": [
    "%%time\n",
    "result1 = swap_opt.run(max_evaluations=2000, max_size=5)"
   ]
  },
  {
   "cell_type": "code",
   "execution_count": null,
   "id": "11df566d-e05f-4941-9cdc-a0ba367486ff",
   "metadata": {},
   "outputs": [],
   "source": [
    "result1"
   ]
  }
 ],
 "metadata": {
  "kernelspec": {
   "display_name": "Python 3 (ipykernel)",
   "language": "python",
   "name": "python3"
  },
  "language_info": {
   "codemirror_mode": {
    "name": "ipython",
    "version": 3
   },
   "file_extension": ".py",
   "mimetype": "text/x-python",
   "name": "python",
   "nbconvert_exporter": "python",
   "pygments_lexer": "ipython3",
   "version": "3.8.11"
  }
 },
 "nbformat": 4,
 "nbformat_minor": 5
}
