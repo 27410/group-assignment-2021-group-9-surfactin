{
 "cells": [
  {
   "cell_type": "markdown",
   "id": "549d05e3-0bb1-46a1-b16c-2a9b1b72a976",
   "metadata": {},
   "source": [
    "Importing the model from Data folder"
   ]
  },
  {
   "cell_type": "code",
   "execution_count": 9,
   "id": "8ffacd10-8de1-4e4d-9226-fd5e87cb0951",
   "metadata": {},
   "outputs": [],
   "source": [
    "from cobra.io import read_sbml_model"
   ]
  },
  {
   "cell_type": "code",
   "execution_count": 10,
   "id": "21b6511f-64f4-4335-b038-6a1ee838e8d0",
   "metadata": {},
   "outputs": [],
   "source": [
    "model = read_sbml_model('iYO844.xml')"
   ]
  },
  {
   "cell_type": "markdown",
   "id": "85ba3fd7-e1c1-4a6c-80d5-5a1dcb3ac57f",
   "metadata": {},
   "source": [
    "Overview of the model:"
   ]
  },
  {
   "cell_type": "code",
   "execution_count": 3,
   "id": "113ff4c0-28b1-4ab0-a2e7-58d9026907f1",
   "metadata": {},
   "outputs": [
    {
     "data": {
      "text/html": [
       "\n",
       "        <table>\n",
       "            <tr>\n",
       "                <td><strong>Name</strong></td>\n",
       "                <td>iYO844</td>\n",
       "            </tr><tr>\n",
       "                <td><strong>Memory address</strong></td>\n",
       "                <td>0x02972b11e5e0</td>\n",
       "            </tr><tr>\n",
       "                <td><strong>Number of metabolites</strong></td>\n",
       "                <td>990</td>\n",
       "            </tr><tr>\n",
       "                <td><strong>Number of reactions</strong></td>\n",
       "                <td>1250</td>\n",
       "            </tr><tr>\n",
       "                <td><strong>Number of groups</strong></td>\n",
       "                <td>0</td>\n",
       "            </tr><tr>\n",
       "                <td><strong>Objective expression</strong></td>\n",
       "                <td>1.0*BIOMASS_BS_10 - 1.0*BIOMASS_BS_10_reverse_8788b</td>\n",
       "            </tr><tr>\n",
       "                <td><strong>Compartments</strong></td>\n",
       "                <td>cytosol, extracellular space</td>\n",
       "            </tr>\n",
       "          </table>"
      ],
      "text/plain": [
       "<Model iYO844 at 0x2972b11e5e0>"
      ]
     },
     "execution_count": 3,
     "metadata": {},
     "output_type": "execute_result"
    }
   ],
   "source": [
    "model"
   ]
  },
  {
   "cell_type": "markdown",
   "id": "3e7bb600-558a-4f93-bd15-7337e4b41db8",
   "metadata": {},
   "source": [
    "Adding surfactin to the model"
   ]
  },
  {
   "cell_type": "code",
   "execution_count": 4,
   "id": "47b20133-6dc8-4808-b448-164f97faa285",
   "metadata": {},
   "outputs": [],
   "source": [
    "from cobra import Reaction, Metabolite"
   ]
  },
  {
   "cell_type": "markdown",
   "id": "f09d703b-894c-4456-b595-bd6747505e7a",
   "metadata": {},
   "source": [
    "There will be 4 different reactions due to there being 4 different fatty acids that can make up the fatty acid part of surfactin."
   ]
  },
  {
   "cell_type": "code",
   "execution_count": 5,
   "id": "53e055ee-778b-4642-af28-86f71302134e",
   "metadata": {},
   "outputs": [],
   "source": [
    "new_reaction = Reaction('SP_1') #Surfactin Production reaction 1 "
   ]
  },
  {
   "cell_type": "code",
   "execution_count": 6,
   "id": "dd4c2e87-24f2-47ce-a390-031fbe718374",
   "metadata": {},
   "outputs": [],
   "source": [
    "surfactin = Metabolite(id='surfactin_c', compartment='c') "
   ]
  },
  {
   "cell_type": "code",
   "execution_count": 7,
   "id": "7d2797a4-0ca7-4fab-a4af-c07352e049f3",
   "metadata": {},
   "outputs": [],
   "source": [
    "new_reaction.add_metabolites({model.metabolites.glu__L_c: -1,\n",
    "                              model.metabolites.leu__L_c: -4,\n",
    "                              model.metabolites.val__L_c:-1, \n",
    "                              model.metabolites.asp__L_c: -1,\n",
    "                              model.metabolites.nadph_c:-1,\n",
    "                              model.metabolites.get_by_id('3hddcoa_c'):-1,\n",
    "                              model.metabolites.atp_c:-1,\n",
    "                              model.metabolites.adp_c:1,\n",
    "                              model.metabolites.nadp_c:1,\n",
    "                              surfactin: 1 \n",
    "                             })"
   ]
  },
  {
   "cell_type": "code",
   "execution_count": 8,
   "id": "955ec68d-a78d-4039-9581-383e836df361",
   "metadata": {},
   "outputs": [],
   "source": [
    "model.add_reactions([new_reaction])"
   ]
  },
  {
   "cell_type": "code",
   "execution_count": 9,
   "id": "39652080-994b-4594-a6b7-4954a6607ce5",
   "metadata": {},
   "outputs": [],
   "source": [
    "new_reaction2 = Reaction('SP_2') "
   ]
  },
  {
   "cell_type": "code",
   "execution_count": 10,
   "id": "9ba29048-698f-41fd-8e55-bb62baf73623",
   "metadata": {},
   "outputs": [],
   "source": [
    "new_reaction2.add_metabolites({model.metabolites.glu__L_c: -1,\n",
    "                              model.metabolites.leu__L_c: -4,\n",
    "                              model.metabolites.val__L_c:-1, \n",
    "                              model.metabolites.asp__L_c: -1,\n",
    "                              model.metabolites.nadph_c:-1,\n",
    "                              model.metabolites.tdcoa_c:-1,\n",
    "                              model.metabolites.atp_c:-1,\n",
    "                              model.metabolites.adp_c:1,\n",
    "                              model.metabolites.nadp_c:1,\n",
    "                              surfactin: 1 \n",
    "                             })"
   ]
  },
  {
   "cell_type": "code",
   "execution_count": 11,
   "id": "3978c5e2-2207-4fb2-a15a-29304124d703",
   "metadata": {},
   "outputs": [],
   "source": [
    "model.add_reactions([new_reaction2])"
   ]
  },
  {
   "cell_type": "code",
   "execution_count": 12,
   "id": "60feacb6-5bb8-46b2-a1df-079178c1819f",
   "metadata": {},
   "outputs": [],
   "source": [
    "new_reaction3= Reaction('SP_3')"
   ]
  },
  {
   "cell_type": "code",
   "execution_count": 13,
   "id": "5648b975-9e60-4414-98c6-9141993db566",
   "metadata": {},
   "outputs": [],
   "source": [
    "new_reaction3.add_metabolites({model.metabolites.glu__L_c: -1,\n",
    "                              model.metabolites.leu__L_c: -4,\n",
    "                              model.metabolites.val__L_c:-1, \n",
    "                              model.metabolites.asp__L_c: -1,\n",
    "                              model.metabolites.nadph_c:-1,\n",
    "                              model.metabolites.get_by_id('3hhdcoa_c'):-1,\n",
    "                              model.metabolites.atp_c:-1,\n",
    "                              model.metabolites.adp_c:1,\n",
    "                              model.metabolites.nadp_c:1,\n",
    "                              surfactin: 1 \n",
    "                             })"
   ]
  },
  {
   "cell_type": "code",
   "execution_count": 14,
   "id": "8ccfe08d-d570-4d6e-8d5c-4dd6ab383661",
   "metadata": {},
   "outputs": [],
   "source": [
    "model.add_reactions([new_reaction3])"
   ]
  },
  {
   "cell_type": "code",
   "execution_count": 15,
   "id": "dbd8d1aa-3a8f-4262-9a98-961fa1afcb06",
   "metadata": {},
   "outputs": [],
   "source": [
    "new_reaction4= Reaction('SP_4')"
   ]
  },
  {
   "cell_type": "code",
   "execution_count": 16,
   "id": "8e5b275d-1158-465e-8f6a-d1fea9a38db1",
   "metadata": {},
   "outputs": [],
   "source": [
    "new_reaction4.add_metabolites({model.metabolites.glu__L_c: -1,\n",
    "                              model.metabolites.leu__L_c: -4,\n",
    "                              model.metabolites.val__L_c:-1, \n",
    "                              model.metabolites.asp__L_c: -1,\n",
    "                              model.metabolites.nadph_c:-1,\n",
    "                              model.metabolites.get_by_id('3ohdcoa_c'):-1,\n",
    "                              model.metabolites.atp_c:-1,\n",
    "                              model.metabolites.adp_c:1,\n",
    "                              model.metabolites.nadp_c:1,\n",
    "                              surfactin: 1 \n",
    "                             })"
   ]
  },
  {
   "cell_type": "code",
   "execution_count": 17,
   "id": "73264c5a-be84-4fcd-a514-86c6e4fcff54",
   "metadata": {},
   "outputs": [],
   "source": [
    "model.add_reactions([new_reaction4])"
   ]
  },
  {
   "cell_type": "markdown",
   "id": "b82432c1-5543-46fc-9439-5380874ba092",
   "metadata": {},
   "source": [
    "Demanding surfactin production from the model"
   ]
  },
  {
   "cell_type": "code",
   "execution_count": 18,
   "id": "af084d40-c37d-4066-a9e3-cc68f1aad9da",
   "metadata": {},
   "outputs": [
    {
     "data": {
      "text/html": [
       "\n",
       "        <table>\n",
       "            <tr>\n",
       "                <td><strong>Reaction identifier</strong></td><td>DM_surfactin_c</td>\n",
       "            </tr><tr>\n",
       "                <td><strong>Name</strong></td><td>demand</td>\n",
       "            </tr><tr>\n",
       "                <td><strong>Memory address</strong></td>\n",
       "                <td>0x019f91896b80</td>\n",
       "            </tr><tr>\n",
       "                <td><strong>Stoichiometry</strong></td>\n",
       "                <td>\n",
       "                    <p style='text-align:right'>surfactin_c --></p>\n",
       "                    <p style='text-align:right'>--></p>\n",
       "                </td>\n",
       "            </tr><tr>\n",
       "                <td><strong>GPR</strong></td><td></td>\n",
       "            </tr><tr>\n",
       "                <td><strong>Lower bound</strong></td><td>0</td>\n",
       "            </tr><tr>\n",
       "                <td><strong>Upper bound</strong></td><td>1000.0</td>\n",
       "            </tr>\n",
       "        </table>\n",
       "        "
      ],
      "text/plain": [
       "<Reaction DM_surfactin_c at 0x19f91896b80>"
      ]
     },
     "execution_count": 18,
     "metadata": {},
     "output_type": "execute_result"
    }
   ],
   "source": [
    "model.add_boundary(model.metabolites.surfactin_c, type='demand') #forcing surfactin production"
   ]
  },
  {
   "cell_type": "code",
   "execution_count": 19,
   "id": "02554d5b-5916-4da3-a01c-d556a843b40e",
   "metadata": {},
   "outputs": [
    {
     "data": {
      "text/html": [
       "<strong><em>Optimal</em> solution with objective value 0.118</strong><br><div>\n",
       "<style scoped>\n",
       "    .dataframe tbody tr th:only-of-type {\n",
       "        vertical-align: middle;\n",
       "    }\n",
       "\n",
       "    .dataframe tbody tr th {\n",
       "        vertical-align: top;\n",
       "    }\n",
       "\n",
       "    .dataframe thead th {\n",
       "        text-align: right;\n",
       "    }\n",
       "</style>\n",
       "<table border=\"1\" class=\"dataframe\">\n",
       "  <thead>\n",
       "    <tr style=\"text-align: right;\">\n",
       "      <th></th>\n",
       "      <th>fluxes</th>\n",
       "      <th>reduced_costs</th>\n",
       "    </tr>\n",
       "  </thead>\n",
       "  <tbody>\n",
       "    <tr>\n",
       "      <th>EX_etha_e</th>\n",
       "      <td>0.0</td>\n",
       "      <td>-0.066773</td>\n",
       "    </tr>\n",
       "    <tr>\n",
       "      <th>EX_drib_e</th>\n",
       "      <td>0.0</td>\n",
       "      <td>-0.150240</td>\n",
       "    </tr>\n",
       "    <tr>\n",
       "      <th>EX_csn_e</th>\n",
       "      <td>0.0</td>\n",
       "      <td>-0.129837</td>\n",
       "    </tr>\n",
       "    <tr>\n",
       "      <th>EX_5mtr_e</th>\n",
       "      <td>0.0</td>\n",
       "      <td>-0.224433</td>\n",
       "    </tr>\n",
       "    <tr>\n",
       "      <th>EX_dtmp_e</th>\n",
       "      <td>0.0</td>\n",
       "      <td>-0.337577</td>\n",
       "    </tr>\n",
       "    <tr>\n",
       "      <th>...</th>\n",
       "      <td>...</td>\n",
       "      <td>...</td>\n",
       "    </tr>\n",
       "    <tr>\n",
       "      <th>SP_1</th>\n",
       "      <td>0.0</td>\n",
       "      <td>-1.331759</td>\n",
       "    </tr>\n",
       "    <tr>\n",
       "      <th>SP_2</th>\n",
       "      <td>0.0</td>\n",
       "      <td>-1.426355</td>\n",
       "    </tr>\n",
       "    <tr>\n",
       "      <th>SP_3</th>\n",
       "      <td>0.0</td>\n",
       "      <td>-1.494983</td>\n",
       "    </tr>\n",
       "    <tr>\n",
       "      <th>SP_4</th>\n",
       "      <td>0.0</td>\n",
       "      <td>-1.481999</td>\n",
       "    </tr>\n",
       "    <tr>\n",
       "      <th>DM_surfactin_c</th>\n",
       "      <td>0.0</td>\n",
       "      <td>0.000000</td>\n",
       "    </tr>\n",
       "  </tbody>\n",
       "</table>\n",
       "<p>1255 rows × 2 columns</p>\n",
       "</div>"
      ],
      "text/plain": [
       "<Solution 0.118 at 0x19f91896820>"
      ]
     },
     "execution_count": 19,
     "metadata": {},
     "output_type": "execute_result"
    }
   ],
   "source": [
    "model.optimize()"
   ]
  },
  {
   "cell_type": "code",
   "execution_count": null,
   "id": "deac4d6a-daa9-467f-9a55-5abfd3615697",
   "metadata": {},
   "outputs": [],
   "source": []
  }
 ],
 "metadata": {
  "kernelspec": {
   "display_name": "Python 3 (ipykernel)",
   "language": "python",
   "name": "python3"
  },
  "language_info": {
   "codemirror_mode": {
    "name": "ipython",
    "version": 3
   },
   "file_extension": ".py",
   "mimetype": "text/x-python",
   "name": "python",
   "nbconvert_exporter": "python",
   "pygments_lexer": "ipython3",
   "version": "3.8.11"
  }
 },
 "nbformat": 4,
 "nbformat_minor": 5
}
