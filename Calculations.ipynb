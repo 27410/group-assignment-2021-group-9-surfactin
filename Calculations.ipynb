{
 "cells": [
  {
   "cell_type": "code",
   "execution_count": 8,
   "id": "2696b996-1506-4d12-9246-5744d6c37cb1",
   "metadata": {},
   "outputs": [],
   "source": [
    "%run model.ipynb"
   ]
  },
  {
   "cell_type": "markdown",
   "id": "152b205b-9c48-4b55-bd11-2d028f6ec4a1",
   "metadata": {},
   "source": [
    "Fluxes for the reactions we have added to the model"
   ]
  },
  {
   "cell_type": "code",
   "execution_count": 9,
   "id": "20b330e9-8757-48f5-b609-3d583eb4afe5",
   "metadata": {},
   "outputs": [
    {
     "name": "stdout",
     "output_type": "stream",
     "text": [
      "0.09298767530811763\n"
     ]
    }
   ],
   "source": [
    "with model:\n",
    "    model.objective = model.reactions.SP_1\n",
    "    print(model.optimize().objective_value)"
   ]
  },
  {
   "cell_type": "code",
   "execution_count": 10,
   "id": "f2f3afdf-e840-4c13-be6b-e739baccee43",
   "metadata": {},
   "outputs": [
    {
     "name": "stdout",
     "output_type": "stream",
     "text": [
      "0.08967213114754134\n"
     ]
    }
   ],
   "source": [
    "with model:\n",
    "    model.objective = model.reactions.SP_2\n",
    "    print(model.optimize().objective_value)"
   ]
  },
  {
   "cell_type": "code",
   "execution_count": 11,
   "id": "3cc24f96-ca1e-4daf-9f1a-93070a97b14c",
   "metadata": {},
   "outputs": [
    {
     "name": "stdout",
     "output_type": "stream",
     "text": [
      "0.08739182532286015\n"
     ]
    }
   ],
   "source": [
    "with model:\n",
    "    model.objective = model.reactions.SP_3\n",
    "    print(model.optimize().objective_value)"
   ]
  },
  {
   "cell_type": "code",
   "execution_count": 12,
   "id": "5809a7dd-d334-4c6b-ba3f-dff582e02f12",
   "metadata": {},
   "outputs": [
    {
     "name": "stdout",
     "output_type": "stream",
     "text": [
      "0.0878009630818623\n"
     ]
    }
   ],
   "source": [
    "with model:\n",
    "    model.objective = model.reactions.SP_4\n",
    "    print(model.optimize().objective_value)"
   ]
  },
  {
   "cell_type": "code",
   "execution_count": 13,
   "id": "a2a4ae5e-eefc-4b5e-9a3d-a8d6652efbd8",
   "metadata": {},
   "outputs": [
    {
     "name": "stdout",
     "output_type": "stream",
     "text": [
      "0.09298767530811765\n"
     ]
    }
   ],
   "source": [
    "#Flux for surfactin production, so all reactions included \n",
    "with model:\n",
    "    model.objective = model.reactions.DM_surfactin_c\n",
    "    print(model.optimize().objective_value)"
   ]
  },
  {
   "cell_type": "markdown",
   "id": "9381c39f-8662-4c2e-9275-251c26414126",
   "metadata": {},
   "source": [
    "Yield calculations"
   ]
  },
  {
   "cell_type": "code",
   "execution_count": 14,
   "id": "a8996be9-fcd2-40dc-b987-6a7c083a4c7f",
   "metadata": {},
   "outputs": [
    {
     "name": "stdout",
     "output_type": "stream",
     "text": [
      "Maximum productivity = 0.09298767530811765 mmol/gDW*h\n",
      "Maximum theoretical yield = 0.05469863253418685 mmol-surfactin/mmol-glucose\n"
     ]
    }
   ],
   "source": [
    "model.objective = model.reactions.DM_surfactin_c\n",
    "surfactin_production = model.optimize().objective_value\n",
    "print('Maximum productivity =', surfactin_production, 'mmol/gDW*h')\n",
    "   \n",
    "maximum_yield = surfactin_production / (-1*(model.reactions.EX_glc__D_e.flux))\n",
    "print('Maximum theoretical yield =', maximum_yield, 'mmol-surfactin/mmol-glucose')"
   ]
  },
  {
   "cell_type": "code",
   "execution_count": 15,
   "id": "15ed2288-2cb1-417a-a1c2-eb02ab22ceeb",
   "metadata": {},
   "outputs": [
    {
     "name": "stdout",
     "output_type": "stream",
     "text": [
      "Maximum productivity = 0.09298767530811718 mmol/gDW*h\n",
      "Maximum theoretical yield = 0.054698632534186574 mmol-surfactin/mmol-glucose\n",
      "Maximum productivity = 0.3571428571428643 mmol/gDW*h\n",
      "Maximum theoretical yield = 0.12500000000000275 mmol-surfactin/mmol-sucrose\n"
     ]
    }
   ],
   "source": [
    "%run Sucrose.ipynb"
   ]
  },
  {
   "cell_type": "code",
   "execution_count": 16,
   "id": "6fa34e2e-1605-4a0e-a036-ad0b735c573d",
   "metadata": {},
   "outputs": [
    {
     "name": "stdout",
     "output_type": "stream",
     "text": [
      "Maximum productivity = 0.3571428571428643 mmol/gDW*h\n",
      "Maximum theoretical yield = 0.12500000000000275 mmol-surfactin/mmol-sucrose\n"
     ]
    }
   ],
   "source": [
    "model.objective = model.reactions.DM_surfactin_c\n",
    "surfactin_production = model.optimize().objective_value\n",
    "print('Maximum productivity =', surfactin_production, 'mmol/gDW*h')\n",
    "   \n",
    "maximum_yield = surfactin_production / (-1*(model.reactions.EX_sucr_e.flux))\n",
    "print('Maximum theoretical yield =', maximum_yield, 'mmol-surfactin/mmol-sucrose')"
   ]
  },
  {
   "cell_type": "code",
   "execution_count": null,
   "id": "40e5ffd3-171b-4074-a4c8-cf23369e46ad",
   "metadata": {},
   "outputs": [],
   "source": []
  }
 ],
 "metadata": {
  "kernelspec": {
   "display_name": "Python 3 (ipykernel)",
   "language": "python",
   "name": "python3"
  },
  "language_info": {
   "codemirror_mode": {
    "name": "ipython",
    "version": 3
   },
   "file_extension": ".py",
   "mimetype": "text/x-python",
   "name": "python",
   "nbconvert_exporter": "python",
   "pygments_lexer": "ipython3",
   "version": "3.8.11"
  }
 },
 "nbformat": 4,
 "nbformat_minor": 5
}
