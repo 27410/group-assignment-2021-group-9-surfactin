{
 "cells": [
  {
   "cell_type": "markdown",
   "id": "549d05e3-0bb1-46a1-b16c-2a9b1b72a976",
   "metadata": {},
   "source": [
    "Importing the model"
   ]
  },
  {
   "cell_type": "code",
   "execution_count": 1,
   "id": "8ffacd10-8de1-4e4d-9226-fd5e87cb0951",
   "metadata": {},
   "outputs": [],
   "source": [
    "from cobra.io import read_sbml_model"
   ]
  },
  {
   "cell_type": "code",
   "execution_count": 2,
   "id": "21b6511f-64f4-4335-b038-6a1ee838e8d0",
   "metadata": {},
   "outputs": [],
   "source": [
    "model = read_sbml_model('data/iYO844.xml')"
   ]
  },
  {
   "cell_type": "code",
   "execution_count": 7,
   "id": "113ff4c0-28b1-4ab0-a2e7-58d9026907f1",
   "metadata": {},
   "outputs": [
    {
     "data": {
      "text/html": [
       "\n",
       "        <table>\n",
       "            <tr>\n",
       "                <td><strong>Name</strong></td>\n",
       "                <td>iYO844</td>\n",
       "            </tr><tr>\n",
       "                <td><strong>Memory address</strong></td>\n",
       "                <td>0x01f0a379b430</td>\n",
       "            </tr><tr>\n",
       "                <td><strong>Number of metabolites</strong></td>\n",
       "                <td>990</td>\n",
       "            </tr><tr>\n",
       "                <td><strong>Number of reactions</strong></td>\n",
       "                <td>1250</td>\n",
       "            </tr><tr>\n",
       "                <td><strong>Number of groups</strong></td>\n",
       "                <td>0</td>\n",
       "            </tr><tr>\n",
       "                <td><strong>Objective expression</strong></td>\n",
       "                <td>1.0*BIOMASS_BS_10 - 1.0*BIOMASS_BS_10_reverse_8788b</td>\n",
       "            </tr><tr>\n",
       "                <td><strong>Compartments</strong></td>\n",
       "                <td>cytosol, extracellular space</td>\n",
       "            </tr>\n",
       "          </table>"
      ],
      "text/plain": [
       "<Model iYO844 at 0x1f0a379b430>"
      ]
     },
     "execution_count": 7,
     "metadata": {},
     "output_type": "execute_result"
    }
   ],
   "source": [
    "model"
   ]
  },
  {
   "cell_type": "markdown",
   "id": "3e7bb600-558a-4f93-bd15-7337e4b41db8",
   "metadata": {},
   "source": [
    "Trying to add surfactin to the model so it produces the compound"
   ]
  },
  {
   "cell_type": "code",
   "execution_count": 13,
   "id": "47b20133-6dc8-4808-b448-164f97faa285",
   "metadata": {},
   "outputs": [],
   "source": [
    "from cobra import Reaction, Metabolite"
   ]
  },
  {
   "cell_type": "code",
   "execution_count": 63,
   "id": "53e055ee-778b-4642-af28-86f71302134e",
   "metadata": {},
   "outputs": [],
   "source": [
    "new_reaction = Reaction('Surfactin') "
   ]
  },
  {
   "cell_type": "code",
   "execution_count": null,
   "id": "dd4c2e87-24f2-47ce-a390-031fbe718374",
   "metadata": {},
   "outputs": [],
   "source": [
    "itaconate = Metabolite(id='itaconate_c', compartment='c')"
   ]
  },
  {
   "cell_type": "code",
   "execution_count": null,
   "id": "7d2797a4-0ca7-4fab-a4af-c07352e049f3",
   "metadata": {},
   "outputs": [],
   "source": [
    "new_reaction.add_metabolites({model.metabolites.glu__L_c: -1,\n",
    "                              model.metabolites.leu__L_c: -4,\n",
    "                              model.metabolites.val__L_c:-1, \n",
    "                              model.metabolites.asp__L_c: -1,\n",
    "                              model.metabolites.nadph_c:-1,\n",
    "                              model.metabolites.get_by_id('3hddcoa_c'):-1,\n",
    "                              model.\n",
    "                             })"
   ]
  },
  {
   "cell_type": "code",
   "execution_count": 62,
   "id": "08062d44-3c8d-4fd0-84f0-2a90a341d38d",
   "metadata": {},
   "outputs": [
    {
     "data": {
      "text/html": [
       "\n",
       "        <table>\n",
       "            <tr>\n",
       "                <td><strong>Metabolite identifier</strong></td><td>3hddcoa_c</td>\n",
       "            </tr><tr>\n",
       "                <td><strong>Name</strong></td><td>(S)-3-Hydroxydodecanoyl-CoA</td>\n",
       "            </tr><tr>\n",
       "                <td><strong>Memory address</strong></td>\n",
       "                <td>0x01f0a7712fa0</td>\n",
       "            </tr><tr>\n",
       "                <td><strong>Formula</strong></td><td>C33H54N7O18P3S</td>\n",
       "            </tr><tr>\n",
       "                <td><strong>Compartment</strong></td><td>c</td>\n",
       "            </tr><tr>\n",
       "                <td><strong>In 2 reaction(s)</strong></td><td>\n",
       "                    ECOAH5_1, HACD5</td>\n",
       "            </tr>\n",
       "        </table>"
      ],
      "text/plain": [
       "<Metabolite 3hddcoa_c at 0x1f0a7712fa0>"
      ]
     },
     "execution_count": 62,
     "metadata": {},
     "output_type": "execute_result"
    }
   ],
   "source": [
    "model.metabolites.get_by_id('3hddcoa_c')"
   ]
  },
  {
   "cell_type": "code",
   "execution_count": null,
   "id": "955ec68d-a78d-4039-9581-383e836df361",
   "metadata": {},
   "outputs": [],
   "source": []
  },
  {
   "cell_type": "code",
   "execution_count": null,
   "id": "7ac4dc18-86db-4724-ab0d-098701a2a832",
   "metadata": {},
   "outputs": [],
   "source": []
  },
  {
   "cell_type": "code",
   "execution_count": null,
   "id": "af084d40-c37d-4066-a9e3-cc68f1aad9da",
   "metadata": {},
   "outputs": [],
   "source": []
  }
 ],
 "metadata": {
  "kernelspec": {
   "display_name": "Python 3 (ipykernel)",
   "language": "python",
   "name": "python3"
  },
  "language_info": {
   "codemirror_mode": {
    "name": "ipython",
    "version": 3
   },
   "file_extension": ".py",
   "mimetype": "text/x-python",
   "name": "python",
   "nbconvert_exporter": "python",
   "pygments_lexer": "ipython3",
   "version": "3.8.11"
  }
 },
 "nbformat": 4,
 "nbformat_minor": 5
}
