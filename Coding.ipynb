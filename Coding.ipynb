{
 "cells": [
  {
   "cell_type": "markdown",
   "id": "549d05e3-0bb1-46a1-b16c-2a9b1b72a976",
   "metadata": {},
   "source": [
    "Importing the model"
   ]
  },
  {
   "cell_type": "code",
   "execution_count": 1,
   "id": "8ffacd10-8de1-4e4d-9226-fd5e87cb0951",
   "metadata": {},
   "outputs": [],
   "source": [
    "from cobra.io import read_sbml_model"
   ]
  },
  {
   "cell_type": "code",
   "execution_count": 2,
   "id": "21b6511f-64f4-4335-b038-6a1ee838e8d0",
   "metadata": {},
   "outputs": [],
   "source": [
    "model = read_sbml_model('data/iYO844.xml')"
   ]
  },
  {
   "cell_type": "code",
   "execution_count": 3,
   "id": "113ff4c0-28b1-4ab0-a2e7-58d9026907f1",
   "metadata": {},
   "outputs": [
    {
     "data": {
      "text/html": [
       "\n",
       "        <table>\n",
       "            <tr>\n",
       "                <td><strong>Name</strong></td>\n",
       "                <td>iYO844</td>\n",
       "            </tr><tr>\n",
       "                <td><strong>Memory address</strong></td>\n",
       "                <td>0x0235095191f0</td>\n",
       "            </tr><tr>\n",
       "                <td><strong>Number of metabolites</strong></td>\n",
       "                <td>990</td>\n",
       "            </tr><tr>\n",
       "                <td><strong>Number of reactions</strong></td>\n",
       "                <td>1250</td>\n",
       "            </tr><tr>\n",
       "                <td><strong>Number of groups</strong></td>\n",
       "                <td>0</td>\n",
       "            </tr><tr>\n",
       "                <td><strong>Objective expression</strong></td>\n",
       "                <td>1.0*BIOMASS_BS_10 - 1.0*BIOMASS_BS_10_reverse_8788b</td>\n",
       "            </tr><tr>\n",
       "                <td><strong>Compartments</strong></td>\n",
       "                <td>cytosol, extracellular space</td>\n",
       "            </tr>\n",
       "          </table>"
      ],
      "text/plain": [
       "<Model iYO844 at 0x235095191f0>"
      ]
     },
     "execution_count": 3,
     "metadata": {},
     "output_type": "execute_result"
    }
   ],
   "source": [
    "model"
   ]
  },
  {
   "cell_type": "markdown",
   "id": "3e7bb600-558a-4f93-bd15-7337e4b41db8",
   "metadata": {},
   "source": [
    "Trying to add surfactin to the model so it produces the compound"
   ]
  },
  {
   "cell_type": "code",
   "execution_count": 4,
   "id": "47b20133-6dc8-4808-b448-164f97faa285",
   "metadata": {},
   "outputs": [],
   "source": [
    "from cobra import Reaction, Metabolite"
   ]
  },
  {
   "cell_type": "markdown",
   "id": "f09d703b-894c-4456-b595-bd6747505e7a",
   "metadata": {},
   "source": [
    "Have 4 reactions because 4 different lipids are possible "
   ]
  },
  {
   "cell_type": "code",
   "execution_count": 5,
   "id": "53e055ee-778b-4642-af28-86f71302134e",
   "metadata": {},
   "outputs": [],
   "source": [
    "new_reaction = Reaction('SP_1') #surfactin production "
   ]
  },
  {
   "cell_type": "code",
   "execution_count": 6,
   "id": "dd4c2e87-24f2-47ce-a390-031fbe718374",
   "metadata": {},
   "outputs": [],
   "source": [
    "surfactin = Metabolite(id='surfactin_c', compartment='c')"
   ]
  },
  {
   "cell_type": "markdown",
   "id": "c636b0f7-2793-4c33-abcb-99fdced87460",
   "metadata": {},
   "source": [
    "Adding the 4 amino acids, lipids, energy in the form of atp, nadph"
   ]
  },
  {
   "cell_type": "code",
   "execution_count": 7,
   "id": "7d2797a4-0ca7-4fab-a4af-c07352e049f3",
   "metadata": {},
   "outputs": [],
   "source": [
    "new_reaction.add_metabolites({model.metabolites.glu__L_c: -1,\n",
    "                              model.metabolites.leu__L_c: -4,\n",
    "                              model.metabolites.val__L_c:-1, \n",
    "                              model.metabolites.asp__L_c: -1,\n",
    "                              model.metabolites.nadph_c:-1,\n",
    "                              model.metabolites.get_by_id('3hddcoa_c'):-1,\n",
    "                              model.metabolites.atp_c:-1,\n",
    "                              model.metabolites.adp_c:1,\n",
    "                              model.metabolites.nadp_c:1,\n",
    "                              surfactin: 1 \n",
    "                             })"
   ]
  },
  {
   "cell_type": "code",
   "execution_count": 8,
   "id": "955ec68d-a78d-4039-9581-383e836df361",
   "metadata": {},
   "outputs": [],
   "source": [
    "model.add_reactions([new_reaction])"
   ]
  },
  {
   "cell_type": "code",
   "execution_count": 9,
   "id": "7ac4dc18-86db-4724-ab0d-098701a2a832",
   "metadata": {},
   "outputs": [
    {
     "data": {
      "text/html": [
       "\n",
       "        <table>\n",
       "            <tr>\n",
       "                <td><strong>Reaction identifier</strong></td><td>SP_1</td>\n",
       "            </tr><tr>\n",
       "                <td><strong>Name</strong></td><td></td>\n",
       "            </tr><tr>\n",
       "                <td><strong>Memory address</strong></td>\n",
       "                <td>0x02350242aaf0</td>\n",
       "            </tr><tr>\n",
       "                <td><strong>Stoichiometry</strong></td>\n",
       "                <td>\n",
       "                    <p style='text-align:right'>3hddcoa_c + asp__L_c + atp_c + glu__L_c + 4 leu__L_c + nadph_c + val__L_c --> adp_c + nadp_c + surfactin_c</p>\n",
       "                    <p style='text-align:right'>(S)-3-Hydroxydodecanoyl-CoA + L-Aspartate + ATP C10H12N5O13P3 + L-Glutamate + 4 L-Leucine + Nicotinamide adenine dinucleotide phosphate - reduced + L-Valine --> ADP C10H12N5O10P2 + Nicotinamide...</p>\n",
       "                </td>\n",
       "            </tr><tr>\n",
       "                <td><strong>GPR</strong></td><td></td>\n",
       "            </tr><tr>\n",
       "                <td><strong>Lower bound</strong></td><td>0.0</td>\n",
       "            </tr><tr>\n",
       "                <td><strong>Upper bound</strong></td><td>1000.0</td>\n",
       "            </tr>\n",
       "        </table>\n",
       "        "
      ],
      "text/plain": [
       "<Reaction SP_1 at 0x2350242aaf0>"
      ]
     },
     "execution_count": 9,
     "metadata": {},
     "output_type": "execute_result"
    }
   ],
   "source": [
    "model.reactions.SP_1"
   ]
  },
  {
   "cell_type": "code",
   "execution_count": 10,
   "id": "af084d40-c37d-4066-a9e3-cc68f1aad9da",
   "metadata": {},
   "outputs": [
    {
     "data": {
      "text/html": [
       "\n",
       "        <table>\n",
       "            <tr>\n",
       "                <td><strong>Reaction identifier</strong></td><td>DM_surfactin_c</td>\n",
       "            </tr><tr>\n",
       "                <td><strong>Name</strong></td><td>demand</td>\n",
       "            </tr><tr>\n",
       "                <td><strong>Memory address</strong></td>\n",
       "                <td>0x02350f404970</td>\n",
       "            </tr><tr>\n",
       "                <td><strong>Stoichiometry</strong></td>\n",
       "                <td>\n",
       "                    <p style='text-align:right'>surfactin_c --></p>\n",
       "                    <p style='text-align:right'>--></p>\n",
       "                </td>\n",
       "            </tr><tr>\n",
       "                <td><strong>GPR</strong></td><td></td>\n",
       "            </tr><tr>\n",
       "                <td><strong>Lower bound</strong></td><td>0</td>\n",
       "            </tr><tr>\n",
       "                <td><strong>Upper bound</strong></td><td>1000.0</td>\n",
       "            </tr>\n",
       "        </table>\n",
       "        "
      ],
      "text/plain": [
       "<Reaction DM_surfactin_c at 0x2350f404970>"
      ]
     },
     "execution_count": 10,
     "metadata": {},
     "output_type": "execute_result"
    }
   ],
   "source": [
    "model.add_boundary(model.metabolites.surfactin_c, type='demand')"
   ]
  },
  {
   "cell_type": "code",
   "execution_count": 11,
   "id": "d8454880-8327-4e9f-8c73-1029430bacb0",
   "metadata": {},
   "outputs": [
    {
     "name": "stdout",
     "output_type": "stream",
     "text": [
      "0.09298767530811763\n"
     ]
    }
   ],
   "source": [
    "with model:\n",
    "    model.objective = model.reactions.SP_1\n",
    "    print(model.optimize().objective_value)"
   ]
  },
  {
   "cell_type": "markdown",
   "id": "ece2b664-e258-4bc6-9c20-82b47ee8f5af",
   "metadata": {},
   "source": [
    "the flux is calculated to 0.09"
   ]
  },
  {
   "cell_type": "code",
   "execution_count": 12,
   "id": "d687d63a-d1b8-495c-80f6-9d0518aa422c",
   "metadata": {},
   "outputs": [],
   "source": [
    "new_reaction2 = Reaction('SP_2') #surfactin production "
   ]
  },
  {
   "cell_type": "code",
   "execution_count": 13,
   "id": "598b8031-7553-4ea7-b01b-56bb925aaa5c",
   "metadata": {},
   "outputs": [],
   "source": [
    "new_reaction2.add_metabolites({model.metabolites.glu__L_c: -1,\n",
    "                              model.metabolites.leu__L_c: -4,\n",
    "                              model.metabolites.val__L_c:-1, \n",
    "                              model.metabolites.asp__L_c: -1,\n",
    "                              model.metabolites.nadph_c:-1,\n",
    "                              model.metabolites.tdcoa_c:-1,\n",
    "                              model.metabolites.atp_c:-1,\n",
    "                              model.metabolites.adp_c:1,\n",
    "                              model.metabolites.nadp_c:1,\n",
    "                              surfactin: 1 \n",
    "                             })"
   ]
  },
  {
   "cell_type": "code",
   "execution_count": 14,
   "id": "361cb8ed-570f-47dc-a4ac-8fbc937aa2b7",
   "metadata": {},
   "outputs": [],
   "source": [
    "model.add_reactions([new_reaction2])"
   ]
  },
  {
   "cell_type": "code",
   "execution_count": 15,
   "id": "a8e7ecc8-2351-46b5-ae58-1204e579102a",
   "metadata": {},
   "outputs": [],
   "source": [
    "new_reaction3= Reaction('SP_3')"
   ]
  },
  {
   "cell_type": "code",
   "execution_count": 16,
   "id": "f907f6a3-6a73-432a-8082-5eabb314eb7b",
   "metadata": {},
   "outputs": [],
   "source": [
    "new_reaction3.add_metabolites({model.metabolites.glu__L_c: -1,\n",
    "                              model.metabolites.leu__L_c: -4,\n",
    "                              model.metabolites.val__L_c:-1, \n",
    "                              model.metabolites.asp__L_c: -1,\n",
    "                              model.metabolites.nadph_c:-1,\n",
    "                              model.metabolites.get_by_id('3hhdcoa_c'):-1,\n",
    "                              model.metabolites.atp_c:-1,\n",
    "                              model.metabolites.adp_c:1,\n",
    "                              model.metabolites.nadp_c:1,\n",
    "                              surfactin: 1 \n",
    "                             })"
   ]
  },
  {
   "cell_type": "code",
   "execution_count": 17,
   "id": "2d590031-4472-4b65-908a-823c92c86d0a",
   "metadata": {},
   "outputs": [],
   "source": [
    "model.add_reactions([new_reaction3])"
   ]
  },
  {
   "cell_type": "code",
   "execution_count": 18,
   "id": "e4c79988-c7bb-4727-8609-315b176e1aa6",
   "metadata": {},
   "outputs": [
    {
     "data": {
      "text/html": [
       "\n",
       "        <table>\n",
       "            <tr>\n",
       "                <td><strong>Reaction identifier</strong></td><td>SP_3</td>\n",
       "            </tr><tr>\n",
       "                <td><strong>Name</strong></td><td></td>\n",
       "            </tr><tr>\n",
       "                <td><strong>Memory address</strong></td>\n",
       "                <td>0x02350242aac0</td>\n",
       "            </tr><tr>\n",
       "                <td><strong>Stoichiometry</strong></td>\n",
       "                <td>\n",
       "                    <p style='text-align:right'>3hhdcoa_c + asp__L_c + atp_c + glu__L_c + 4 leu__L_c + nadph_c + val__L_c --> adp_c + nadp_c + surfactin_c</p>\n",
       "                    <p style='text-align:right'>(S)-3-Hydroxyhexadecanoyl-CoA + L-Aspartate + ATP C10H12N5O13P3 + L-Glutamate + 4 L-Leucine + Nicotinamide adenine dinucleotide phosphate - reduced + L-Valine --> ADP C10H12N5O10P2 + Nicotinamide...</p>\n",
       "                </td>\n",
       "            </tr><tr>\n",
       "                <td><strong>GPR</strong></td><td></td>\n",
       "            </tr><tr>\n",
       "                <td><strong>Lower bound</strong></td><td>0.0</td>\n",
       "            </tr><tr>\n",
       "                <td><strong>Upper bound</strong></td><td>1000.0</td>\n",
       "            </tr>\n",
       "        </table>\n",
       "        "
      ],
      "text/plain": [
       "<Reaction SP_3 at 0x2350242aac0>"
      ]
     },
     "execution_count": 18,
     "metadata": {},
     "output_type": "execute_result"
    }
   ],
   "source": [
    "model.reactions.SP_3"
   ]
  },
  {
   "cell_type": "code",
   "execution_count": 19,
   "id": "c1ab7039-f912-4e49-9301-2655314fcda0",
   "metadata": {},
   "outputs": [],
   "source": [
    "new_reaction4= Reaction('SP_4')"
   ]
  },
  {
   "cell_type": "code",
   "execution_count": 20,
   "id": "88204d02-c1ba-43e7-8205-55d9d2371d40",
   "metadata": {},
   "outputs": [],
   "source": [
    "new_reaction4.add_metabolites({model.metabolites.glu__L_c: -1,\n",
    "                              model.metabolites.leu__L_c: -4,\n",
    "                              model.metabolites.val__L_c:-1, \n",
    "                              model.metabolites.asp__L_c: -1,\n",
    "                              model.metabolites.nadph_c:-1,\n",
    "                              model.metabolites.get_by_id('3ohdcoa_c'):-1,\n",
    "                              model.metabolites.atp_c:-1,\n",
    "                              model.metabolites.adp_c:1,\n",
    "                              model.metabolites.nadp_c:1,\n",
    "                              surfactin: 1 \n",
    "                             })"
   ]
  },
  {
   "cell_type": "code",
   "execution_count": 21,
   "id": "9dabc74e-1bd2-4304-b1ae-1f89e965d3fc",
   "metadata": {},
   "outputs": [],
   "source": [
    "model.add_reactions([new_reaction4])"
   ]
  },
  {
   "cell_type": "code",
   "execution_count": 22,
   "id": "a8a6e3ba-47c0-4e3e-bd2d-7f6a324bc55d",
   "metadata": {},
   "outputs": [
    {
     "data": {
      "text/html": [
       "\n",
       "        <table>\n",
       "            <tr>\n",
       "                <td><strong>Reaction identifier</strong></td><td>SP_4</td>\n",
       "            </tr><tr>\n",
       "                <td><strong>Name</strong></td><td></td>\n",
       "            </tr><tr>\n",
       "                <td><strong>Memory address</strong></td>\n",
       "                <td>0x02350f41cd30</td>\n",
       "            </tr><tr>\n",
       "                <td><strong>Stoichiometry</strong></td>\n",
       "                <td>\n",
       "                    <p style='text-align:right'>3ohdcoa_c + asp__L_c + atp_c + glu__L_c + 4 leu__L_c + nadph_c + val__L_c --> adp_c + nadp_c + surfactin_c</p>\n",
       "                    <p style='text-align:right'>3-Oxohexadecanoyl-CoA + L-Aspartate + ATP C10H12N5O13P3 + L-Glutamate + 4 L-Leucine + Nicotinamide adenine dinucleotide phosphate - reduced + L-Valine --> ADP C10H12N5O10P2 + Nicotinamide adenine...</p>\n",
       "                </td>\n",
       "            </tr><tr>\n",
       "                <td><strong>GPR</strong></td><td></td>\n",
       "            </tr><tr>\n",
       "                <td><strong>Lower bound</strong></td><td>0.0</td>\n",
       "            </tr><tr>\n",
       "                <td><strong>Upper bound</strong></td><td>1000.0</td>\n",
       "            </tr>\n",
       "        </table>\n",
       "        "
      ],
      "text/plain": [
       "<Reaction SP_4 at 0x2350f41cd30>"
      ]
     },
     "execution_count": 22,
     "metadata": {},
     "output_type": "execute_result"
    }
   ],
   "source": [
    "model.reactions.SP_4"
   ]
  },
  {
   "cell_type": "code",
   "execution_count": 24,
   "id": "d9653d40-4da1-402d-84fa-a10aa775266d",
   "metadata": {},
   "outputs": [
    {
     "name": "stdout",
     "output_type": "stream",
     "text": [
      "0.08967213114754109\n"
     ]
    }
   ],
   "source": [
    "with model:\n",
    "    model.objective = model.reactions.SP_2\n",
    "    print(model.optimize().objective_value)"
   ]
  },
  {
   "cell_type": "code",
   "execution_count": 26,
   "id": "d0f229b3-06ca-49a1-a95d-fe8dd2c2d981",
   "metadata": {},
   "outputs": [
    {
     "name": "stdout",
     "output_type": "stream",
     "text": [
      "0.0873918253228599\n"
     ]
    }
   ],
   "source": [
    "with model:\n",
    "    model.objective = model.reactions.SP_3\n",
    "    print(model.optimize().objective_value)"
   ]
  },
  {
   "cell_type": "code",
   "execution_count": 27,
   "id": "9a7e87d0-9eba-43b2-bc8e-c542061c874f",
   "metadata": {},
   "outputs": [
    {
     "name": "stdout",
     "output_type": "stream",
     "text": [
      "0.08780096308186207\n"
     ]
    }
   ],
   "source": [
    "with model:\n",
    "    model.objective = model.reactions.SP_4\n",
    "    print(model.optimize().objective_value)"
   ]
  },
  {
   "cell_type": "code",
   "execution_count": 28,
   "id": "99b6f2aa-d8cd-45d2-aa5c-16c989aa7803",
   "metadata": {},
   "outputs": [
    {
     "name": "stdout",
     "output_type": "stream",
     "text": [
      "0.0929876753081174\n"
     ]
    }
   ],
   "source": [
    "with model:\n",
    "    model.objective = model.reactions.DM_surfactin_c\n",
    "    print(model.optimize().objective_value)"
   ]
  },
  {
   "cell_type": "code",
   "execution_count": null,
   "id": "524da113-eca3-4080-ad41-8702df6f7cd4",
   "metadata": {},
   "outputs": [],
   "source": [
    "model.objective = model.reactions.DM_surfactin_c\n",
    "surfactin_production = model.optimize().objective_value\n",
    "print('Maximum productivity =', surfactin_production, 'mmol/gDW*h')\n",
    "   \n",
    "maximum_yield = surfactin_production / (-6*(model.reactions.BOUNDARY_GLCe.flux))\n",
    "print('Maximum theoretical yield =', maximum_yield, 'mmol-psi/mmol-glc')"
   ]
  },
  {
   "cell_type": "code",
   "execution_count": 30,
   "id": "71507429-d6c1-4221-8223-521e1f344be4",
   "metadata": {},
   "outputs": [
    {
     "ename": "AttributeError",
     "evalue": "DictList has no attribute or entry GLCe",
     "output_type": "error",
     "traceback": [
      "\u001b[1;31m---------------------------------------------------------------------------\u001b[0m",
      "\u001b[1;31mKeyError\u001b[0m                                  Traceback (most recent call last)",
      "\u001b[1;32m~\\anaconda3\\envs\\Cell factory\\lib\\site-packages\\cobra\\core\\dictlist.py\u001b[0m in \u001b[0;36m__getattr__\u001b[1;34m(self, attr)\u001b[0m\n\u001b[0;32m    451\u001b[0m         \u001b[1;32mtry\u001b[0m\u001b[1;33m:\u001b[0m\u001b[1;33m\u001b[0m\u001b[1;33m\u001b[0m\u001b[0m\n\u001b[1;32m--> 452\u001b[1;33m             \u001b[1;32mreturn\u001b[0m \u001b[0mDictList\u001b[0m\u001b[1;33m.\u001b[0m\u001b[0mget_by_id\u001b[0m\u001b[1;33m(\u001b[0m\u001b[0mself\u001b[0m\u001b[1;33m,\u001b[0m \u001b[0mattr\u001b[0m\u001b[1;33m)\u001b[0m\u001b[1;33m\u001b[0m\u001b[1;33m\u001b[0m\u001b[0m\n\u001b[0m\u001b[0;32m    453\u001b[0m         \u001b[1;32mexcept\u001b[0m \u001b[0mKeyError\u001b[0m\u001b[1;33m:\u001b[0m\u001b[1;33m\u001b[0m\u001b[1;33m\u001b[0m\u001b[0m\n",
      "\u001b[1;32m~\\anaconda3\\envs\\Cell factory\\lib\\site-packages\\cobra\\core\\dictlist.py\u001b[0m in \u001b[0;36mget_by_id\u001b[1;34m(self, id)\u001b[0m\n\u001b[0;32m     56\u001b[0m         \u001b[1;34m\"\"\"return the element with a matching id\"\"\"\u001b[0m\u001b[1;33m\u001b[0m\u001b[1;33m\u001b[0m\u001b[0m\n\u001b[1;32m---> 57\u001b[1;33m         \u001b[1;32mreturn\u001b[0m \u001b[0mlist\u001b[0m\u001b[1;33m.\u001b[0m\u001b[0m__getitem__\u001b[0m\u001b[1;33m(\u001b[0m\u001b[0mself\u001b[0m\u001b[1;33m,\u001b[0m \u001b[0mself\u001b[0m\u001b[1;33m.\u001b[0m\u001b[0m_dict\u001b[0m\u001b[1;33m[\u001b[0m\u001b[0mid\u001b[0m\u001b[1;33m]\u001b[0m\u001b[1;33m)\u001b[0m\u001b[1;33m\u001b[0m\u001b[1;33m\u001b[0m\u001b[0m\n\u001b[0m\u001b[0;32m     58\u001b[0m \u001b[1;33m\u001b[0m\u001b[0m\n",
      "\u001b[1;31mKeyError\u001b[0m: 'GLCe'",
      "\nDuring handling of the above exception, another exception occurred:\n",
      "\u001b[1;31mAttributeError\u001b[0m                            Traceback (most recent call last)",
      "\u001b[1;32m~\\AppData\\Local\\Temp/ipykernel_1784/1089020839.py\u001b[0m in \u001b[0;36m<module>\u001b[1;34m\u001b[0m\n\u001b[1;32m----> 1\u001b[1;33m \u001b[0mmodel\u001b[0m\u001b[1;33m.\u001b[0m\u001b[0mreactions\u001b[0m\u001b[1;33m.\u001b[0m\u001b[0mGLCe\u001b[0m\u001b[1;33m.\u001b[0m\u001b[0mflux\u001b[0m\u001b[1;33m\u001b[0m\u001b[1;33m\u001b[0m\u001b[0m\n\u001b[0m",
      "\u001b[1;32m~\\anaconda3\\envs\\Cell factory\\lib\\site-packages\\cobra\\core\\dictlist.py\u001b[0m in \u001b[0;36m__getattr__\u001b[1;34m(self, attr)\u001b[0m\n\u001b[0;32m    452\u001b[0m             \u001b[1;32mreturn\u001b[0m \u001b[0mDictList\u001b[0m\u001b[1;33m.\u001b[0m\u001b[0mget_by_id\u001b[0m\u001b[1;33m(\u001b[0m\u001b[0mself\u001b[0m\u001b[1;33m,\u001b[0m \u001b[0mattr\u001b[0m\u001b[1;33m)\u001b[0m\u001b[1;33m\u001b[0m\u001b[1;33m\u001b[0m\u001b[0m\n\u001b[0;32m    453\u001b[0m         \u001b[1;32mexcept\u001b[0m \u001b[0mKeyError\u001b[0m\u001b[1;33m:\u001b[0m\u001b[1;33m\u001b[0m\u001b[1;33m\u001b[0m\u001b[0m\n\u001b[1;32m--> 454\u001b[1;33m             \u001b[1;32mraise\u001b[0m \u001b[0mAttributeError\u001b[0m\u001b[1;33m(\u001b[0m\u001b[1;34m\"DictList has no attribute or entry %s\"\u001b[0m \u001b[1;33m%\u001b[0m \u001b[0mattr\u001b[0m\u001b[1;33m)\u001b[0m\u001b[1;33m\u001b[0m\u001b[1;33m\u001b[0m\u001b[0m\n\u001b[0m\u001b[0;32m    455\u001b[0m \u001b[1;33m\u001b[0m\u001b[0m\n\u001b[0;32m    456\u001b[0m     \u001b[1;32mdef\u001b[0m \u001b[0m__dir__\u001b[0m\u001b[1;33m(\u001b[0m\u001b[0mself\u001b[0m\u001b[1;33m)\u001b[0m\u001b[1;33m:\u001b[0m\u001b[1;33m\u001b[0m\u001b[1;33m\u001b[0m\u001b[0m\n",
      "\u001b[1;31mAttributeError\u001b[0m: DictList has no attribute or entry GLCe"
     ]
    }
   ],
   "source": [
    "model.reactions.GLCe.flux"
   ]
  },
  {
   "cell_type": "code",
   "execution_count": null,
   "id": "597e4fb3-0241-4f0f-9a4f-ad8c608cc5f6",
   "metadata": {},
   "outputs": [],
   "source": []
  }
 ],
 "metadata": {
  "kernelspec": {
   "display_name": "Python 3 (ipykernel)",
   "language": "python",
   "name": "python3"
  },
  "language_info": {
   "codemirror_mode": {
    "name": "ipython",
    "version": 3
   },
   "file_extension": ".py",
   "mimetype": "text/x-python",
   "name": "python",
   "nbconvert_exporter": "python",
   "pygments_lexer": "ipython3",
   "version": "3.8.11"
  }
 },
 "nbformat": 4,
 "nbformat_minor": 5
}
