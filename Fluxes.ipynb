{
 "cells": [
  {
   "cell_type": "code",
   "execution_count": 2,
   "id": "2696b996-1506-4d12-9246-5744d6c37cb1",
   "metadata": {},
   "outputs": [],
   "source": [
    "%run model.ipynb"
   ]
  },
  {
   "cell_type": "code",
   "execution_count": null,
   "id": "3ed6077e-d6bd-4e64-a655-dd87d7e01858",
   "metadata": {},
   "outputs": [],
   "source": []
  },
  {
   "cell_type": "code",
   "execution_count": null,
   "id": "20b330e9-8757-48f5-b609-3d583eb4afe5",
   "metadata": {},
   "outputs": [],
   "source": [
    "with model:\n",
    "    model.objective = model.reactions.SP_1\n",
    "    print(model.optimize().objective_value)"
   ]
  },
  {
   "cell_type": "code",
   "execution_count": null,
   "id": "f2f3afdf-e840-4c13-be6b-e739baccee43",
   "metadata": {},
   "outputs": [],
   "source": [
    "with model:\n",
    "    model.objective = model.reactions.SP_2\n",
    "    print(model.optimize().objective_value)"
   ]
  },
  {
   "cell_type": "code",
   "execution_count": null,
   "id": "3cc24f96-ca1e-4daf-9f1a-93070a97b14c",
   "metadata": {},
   "outputs": [],
   "source": [
    "with model:\n",
    "    model.objective = model.reactions.SP_3\n",
    "    print(model.optimize().objective_value)"
   ]
  },
  {
   "cell_type": "code",
   "execution_count": null,
   "id": "5809a7dd-d334-4c6b-ba3f-dff582e02f12",
   "metadata": {},
   "outputs": [],
   "source": [
    "with model:\n",
    "    model.objective = model.reactions.SP_4\n",
    "    print(model.optimize().objective_value)"
   ]
  },
  {
   "cell_type": "code",
   "execution_count": null,
   "id": "a2a4ae5e-eefc-4b5e-9a3d-a8d6652efbd8",
   "metadata": {},
   "outputs": [],
   "source": [
    "#Flux for surfactin production, so all reactions included \n",
    "with model:\n",
    "    model.objective = model.reactions.DM_surfactin_c\n",
    "    print(model.optimize().objective_value)"
   ]
  }
 ],
 "metadata": {
  "kernelspec": {
   "display_name": "Python 3 (ipykernel)",
   "language": "python",
   "name": "python3"
  },
  "language_info": {
   "codemirror_mode": {
    "name": "ipython",
    "version": 3
   },
   "file_extension": ".py",
   "mimetype": "text/x-python",
   "name": "python",
   "nbconvert_exporter": "python",
   "pygments_lexer": "ipython3",
   "version": "3.8.11"
  }
 },
 "nbformat": 4,
 "nbformat_minor": 5
}
