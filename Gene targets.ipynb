{
 "cells": [
  {
   "cell_type": "markdown",
   "id": "549d05e3-0bb1-46a1-b16c-2a9b1b72a976",
   "metadata": {},
   "source": [
    "importing model with surfactin"
   ]
  },
  {
   "cell_type": "code",
   "execution_count": 1,
   "id": "c7c95fc3-1e7a-4a2b-8809-8169188b44a6",
   "metadata": {},
   "outputs": [],
   "source": [
    "%run model.ipynb"
   ]
  },
  {
   "cell_type": "code",
   "execution_count": null,
   "id": "d4fe4cda-8553-48f7-9467-246dcc580587",
   "metadata": {},
   "outputs": [],
   "source": []
  }
 ],
 "metadata": {
  "kernelspec": {
   "display_name": "Python 3 (ipykernel)",
   "language": "python",
   "name": "python3"
  },
  "language_info": {
   "codemirror_mode": {
    "name": "ipython",
    "version": 3
   },
   "file_extension": ".py",
   "mimetype": "text/x-python",
   "name": "python",
   "nbconvert_exporter": "python",
   "pygments_lexer": "ipython3",
   "version": "3.8.11"
  }
 },
 "nbformat": 4,
 "nbformat_minor": 5
}
