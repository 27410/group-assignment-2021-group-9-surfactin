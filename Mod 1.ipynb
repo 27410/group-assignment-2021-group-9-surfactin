{
 "cells": [
  {
   "cell_type": "markdown",
   "id": "549d05e3-0bb1-46a1-b16c-2a9b1b72a976",
   "metadata": {},
   "source": [
    "Importing the model from Data folder"
   ]
  },
  {
   "cell_type": "code",
   "execution_count": 1,
   "id": "8ffacd10-8de1-4e4d-9226-fd5e87cb0951",
   "metadata": {},
   "outputs": [],
   "source": [
    "from cobra.io import read_sbml_model"
   ]
  },
  {
   "cell_type": "code",
   "execution_count": 2,
   "id": "21b6511f-64f4-4335-b038-6a1ee838e8d0",
   "metadata": {},
   "outputs": [],
   "source": [
    "model = read_sbml_model('data/iYO844.xml')"
   ]
  },
  {
   "cell_type": "markdown",
   "id": "3e7bb600-558a-4f93-bd15-7337e4b41db8",
   "metadata": {},
   "source": [
    "Adding surfactin production to the model"
   ]
  },
  {
   "cell_type": "code",
   "execution_count": 3,
   "id": "47b20133-6dc8-4808-b448-164f97faa285",
   "metadata": {},
   "outputs": [],
   "source": [
    "from cobra import Reaction, Metabolite"
   ]
  },
  {
   "cell_type": "markdown",
   "id": "f09d703b-894c-4456-b595-bd6747505e7a",
   "metadata": {},
   "source": [
    "Will add 4 different reactions due to there being 4 different fatty acids that can make up the fatty acid part of surfactin "
   ]
  },
  {
   "cell_type": "code",
   "execution_count": 4,
   "id": "53e055ee-778b-4642-af28-86f71302134e",
   "metadata": {},
   "outputs": [],
   "source": [
    "new_reaction = Reaction('SP_1') #Surfactin Production reaction 1 "
   ]
  },
  {
   "cell_type": "code",
   "execution_count": 5,
   "id": "dd4c2e87-24f2-47ce-a390-031fbe718374",
   "metadata": {},
   "outputs": [],
   "source": [
    "surfactin = Metabolite(id='surfactin_c', compartment='c') "
   ]
  },
  {
   "cell_type": "code",
   "execution_count": 6,
   "id": "7d2797a4-0ca7-4fab-a4af-c07352e049f3",
   "metadata": {},
   "outputs": [],
   "source": [
    "new_reaction.add_metabolites({model.metabolites.glu__L_c: -1,\n",
    "                              model.metabolites.leu__L_c: -4,\n",
    "                              model.metabolites.val__L_c:-1, \n",
    "                              model.metabolites.asp__L_c: -1,\n",
    "                              model.metabolites.nadph_c:-1,\n",
    "                              model.metabolites.get_by_id('3hddcoa_c'):-1,\n",
    "                              model.metabolites.atp_c:-1,\n",
    "                              model.metabolites.adp_c:1,\n",
    "                              model.metabolites.nadp_c:1,\n",
    "                              surfactin: 1 \n",
    "                             })"
   ]
  },
  {
   "cell_type": "code",
   "execution_count": 7,
   "id": "955ec68d-a78d-4039-9581-383e836df361",
   "metadata": {},
   "outputs": [],
   "source": [
    "model.add_reactions([new_reaction])"
   ]
  },
  {
   "cell_type": "code",
   "execution_count": 8,
   "id": "39652080-994b-4594-a6b7-4954a6607ce5",
   "metadata": {},
   "outputs": [],
   "source": [
    "new_reaction2 = Reaction('SP_2') "
   ]
  },
  {
   "cell_type": "code",
   "execution_count": 9,
   "id": "9ba29048-698f-41fd-8e55-bb62baf73623",
   "metadata": {},
   "outputs": [],
   "source": [
    "new_reaction2.add_metabolites({model.metabolites.glu__L_c: -1,\n",
    "                              model.metabolites.leu__L_c: -4,\n",
    "                              model.metabolites.val__L_c:-1, \n",
    "                              model.metabolites.asp__L_c: -1,\n",
    "                              model.metabolites.nadph_c:-1,\n",
    "                              model.metabolites.tdcoa_c:-1,\n",
    "                              model.metabolites.atp_c:-1,\n",
    "                              model.metabolites.adp_c:1,\n",
    "                              model.metabolites.nadp_c:1,\n",
    "                              surfactin: 1 \n",
    "                             })"
   ]
  },
  {
   "cell_type": "code",
   "execution_count": 10,
   "id": "3978c5e2-2207-4fb2-a15a-29304124d703",
   "metadata": {},
   "outputs": [],
   "source": [
    "model.add_reactions([new_reaction2])"
   ]
  },
  {
   "cell_type": "code",
   "execution_count": 11,
   "id": "60feacb6-5bb8-46b2-a1df-079178c1819f",
   "metadata": {},
   "outputs": [],
   "source": [
    "new_reaction3= Reaction('SP_3')"
   ]
  },
  {
   "cell_type": "code",
   "execution_count": 12,
   "id": "5648b975-9e60-4414-98c6-9141993db566",
   "metadata": {},
   "outputs": [],
   "source": [
    "new_reaction3.add_metabolites({model.metabolites.glu__L_c: -1,\n",
    "                              model.metabolites.leu__L_c: -4,\n",
    "                              model.metabolites.val__L_c:-1, \n",
    "                              model.metabolites.asp__L_c: -1,\n",
    "                              model.metabolites.nadph_c:-1,\n",
    "                              model.metabolites.get_by_id('3hhdcoa_c'):-1,\n",
    "                              model.metabolites.atp_c:-1,\n",
    "                              model.metabolites.adp_c:1,\n",
    "                              model.metabolites.nadp_c:1,\n",
    "                              surfactin: 1 \n",
    "                             })"
   ]
  },
  {
   "cell_type": "code",
   "execution_count": 13,
   "id": "8ccfe08d-d570-4d6e-8d5c-4dd6ab383661",
   "metadata": {},
   "outputs": [],
   "source": [
    "model.add_reactions([new_reaction3])"
   ]
  },
  {
   "cell_type": "code",
   "execution_count": 14,
   "id": "dbd8d1aa-3a8f-4262-9a98-961fa1afcb06",
   "metadata": {},
   "outputs": [],
   "source": [
    "new_reaction4= Reaction('SP_4')"
   ]
  },
  {
   "cell_type": "code",
   "execution_count": 15,
   "id": "8e5b275d-1158-465e-8f6a-d1fea9a38db1",
   "metadata": {},
   "outputs": [],
   "source": [
    "new_reaction4.add_metabolites({model.metabolites.glu__L_c: -1,\n",
    "                              model.metabolites.leu__L_c: -4,\n",
    "                              model.metabolites.val__L_c:-1, \n",
    "                              model.metabolites.asp__L_c: -1,\n",
    "                              model.metabolites.nadph_c:-1,\n",
    "                              model.metabolites.get_by_id('3ohdcoa_c'):-1,\n",
    "                              model.metabolites.atp_c:-1,\n",
    "                              model.metabolites.adp_c:1,\n",
    "                              model.metabolites.nadp_c:1,\n",
    "                              surfactin: 1 \n",
    "                             })"
   ]
  },
  {
   "cell_type": "code",
   "execution_count": 16,
   "id": "73264c5a-be84-4fcd-a514-86c6e4fcff54",
   "metadata": {},
   "outputs": [],
   "source": [
    "model.add_reactions([new_reaction4])"
   ]
  },
  {
   "cell_type": "markdown",
   "id": "b82432c1-5543-46fc-9439-5380874ba092",
   "metadata": {},
   "source": [
    "Time to look at production of surfactin"
   ]
  },
  {
   "cell_type": "code",
   "execution_count": 17,
   "id": "af084d40-c37d-4066-a9e3-cc68f1aad9da",
   "metadata": {},
   "outputs": [
    {
     "data": {
      "text/html": [
       "\n",
       "        <table>\n",
       "            <tr>\n",
       "                <td><strong>Reaction identifier</strong></td><td>DM_surfactin_c</td>\n",
       "            </tr><tr>\n",
       "                <td><strong>Name</strong></td><td>demand</td>\n",
       "            </tr><tr>\n",
       "                <td><strong>Memory address</strong></td>\n",
       "                <td>0x01fb36ceab80</td>\n",
       "            </tr><tr>\n",
       "                <td><strong>Stoichiometry</strong></td>\n",
       "                <td>\n",
       "                    <p style='text-align:right'>surfactin_c --></p>\n",
       "                    <p style='text-align:right'>--></p>\n",
       "                </td>\n",
       "            </tr><tr>\n",
       "                <td><strong>GPR</strong></td><td></td>\n",
       "            </tr><tr>\n",
       "                <td><strong>Lower bound</strong></td><td>0</td>\n",
       "            </tr><tr>\n",
       "                <td><strong>Upper bound</strong></td><td>1000.0</td>\n",
       "            </tr>\n",
       "        </table>\n",
       "        "
      ],
      "text/plain": [
       "<Reaction DM_surfactin_c at 0x1fb36ceab80>"
      ]
     },
     "execution_count": 17,
     "metadata": {},
     "output_type": "execute_result"
    }
   ],
   "source": [
    "model.add_boundary(model.metabolites.surfactin_c, type='demand') #forcing surfactin production"
   ]
  },
  {
   "cell_type": "markdown",
   "id": "023158df-302d-4f77-8596-00c9e78447cf",
   "metadata": {},
   "source": [
    "Changing the carbon source to sucrose"
   ]
  },
  {
   "cell_type": "code",
   "execution_count": 18,
   "id": "597e4fb3-0241-4f0f-9a4f-ad8c608cc5f6",
   "metadata": {},
   "outputs": [],
   "source": [
    "model.reactions.EX_glc__D_e.lower_bound = 0"
   ]
  },
  {
   "cell_type": "code",
   "execution_count": 19,
   "id": "c9c33361-454d-45d7-85cf-abfb4a6b02bf",
   "metadata": {},
   "outputs": [],
   "source": [
    "model.reactions.EX_sucr_e.lower_bound = -1000"
   ]
  },
  {
   "cell_type": "code",
   "execution_count": 20,
   "id": "02554d5b-5916-4da3-a01c-d556a843b40e",
   "metadata": {},
   "outputs": [
    {
     "data": {
      "text/html": [
       "<strong><em>Optimal</em> solution with objective value 0.624</strong><br><div>\n",
       "<style scoped>\n",
       "    .dataframe tbody tr th:only-of-type {\n",
       "        vertical-align: middle;\n",
       "    }\n",
       "\n",
       "    .dataframe tbody tr th {\n",
       "        vertical-align: top;\n",
       "    }\n",
       "\n",
       "    .dataframe thead th {\n",
       "        text-align: right;\n",
       "    }\n",
       "</style>\n",
       "<table border=\"1\" class=\"dataframe\">\n",
       "  <thead>\n",
       "    <tr style=\"text-align: right;\">\n",
       "      <th></th>\n",
       "      <th>fluxes</th>\n",
       "      <th>reduced_costs</th>\n",
       "    </tr>\n",
       "  </thead>\n",
       "  <tbody>\n",
       "    <tr>\n",
       "      <th>EX_etha_e</th>\n",
       "      <td>0.0</td>\n",
       "      <td>-2.496739e-01</td>\n",
       "    </tr>\n",
       "    <tr>\n",
       "      <th>EX_drib_e</th>\n",
       "      <td>0.0</td>\n",
       "      <td>0.000000e+00</td>\n",
       "    </tr>\n",
       "    <tr>\n",
       "      <th>EX_csn_e</th>\n",
       "      <td>0.0</td>\n",
       "      <td>-7.490218e-01</td>\n",
       "    </tr>\n",
       "    <tr>\n",
       "      <th>EX_5mtr_e</th>\n",
       "      <td>0.0</td>\n",
       "      <td>-5.711524e-16</td>\n",
       "    </tr>\n",
       "    <tr>\n",
       "      <th>EX_dtmp_e</th>\n",
       "      <td>0.0</td>\n",
       "      <td>-4.993479e-01</td>\n",
       "    </tr>\n",
       "    <tr>\n",
       "      <th>...</th>\n",
       "      <td>...</td>\n",
       "      <td>...</td>\n",
       "    </tr>\n",
       "    <tr>\n",
       "      <th>SP_1</th>\n",
       "      <td>0.0</td>\n",
       "      <td>-1.747717e+00</td>\n",
       "    </tr>\n",
       "    <tr>\n",
       "      <th>SP_2</th>\n",
       "      <td>0.0</td>\n",
       "      <td>-1.747717e+00</td>\n",
       "    </tr>\n",
       "    <tr>\n",
       "      <th>SP_3</th>\n",
       "      <td>0.0</td>\n",
       "      <td>-1.747717e+00</td>\n",
       "    </tr>\n",
       "    <tr>\n",
       "      <th>SP_4</th>\n",
       "      <td>0.0</td>\n",
       "      <td>-1.747717e+00</td>\n",
       "    </tr>\n",
       "    <tr>\n",
       "      <th>DM_surfactin_c</th>\n",
       "      <td>0.0</td>\n",
       "      <td>0.000000e+00</td>\n",
       "    </tr>\n",
       "  </tbody>\n",
       "</table>\n",
       "<p>1255 rows × 2 columns</p>\n",
       "</div>"
      ],
      "text/plain": [
       "<Solution 0.624 at 0x1fb43c01700>"
      ]
     },
     "execution_count": 20,
     "metadata": {},
     "output_type": "execute_result"
    }
   ],
   "source": [
    "model.optimize()"
   ]
  },
  {
   "cell_type": "code",
   "execution_count": 21,
   "id": "1725f9c5-f649-40a3-aba3-62091aab6161",
   "metadata": {},
   "outputs": [
    {
     "data": {
      "text/plain": [
       "-4.971016037430041"
      ]
     },
     "execution_count": 21,
     "metadata": {},
     "output_type": "execute_result"
    }
   ],
   "source": [
    "model.reactions.EX_sucr_e.flux"
   ]
  },
  {
   "cell_type": "markdown",
   "id": "698a8fb8-4b17-42c6-a7f3-f0675f1d0633",
   "metadata": {},
   "source": [
    "Precusor competition - so we are focusing on surfactin biosynthesis instead of cell growth\n",
    "\n",
    "genes pfkA and pyk- overexpress these 2 \n",
    "PDH overexpression - small change \n",
    "\n",
    "this creates pool of acetyl-CoA - used for biomass but we want it for surfactin\n",
    "\n",
    "\n",
    "ComQXPA\n",
    "srfA - overexpression "
   ]
  },
  {
   "cell_type": "code",
   "execution_count": 32,
   "id": "18cb2e0e-5260-4f3e-b14d-71234b9046b2",
   "metadata": {},
   "outputs": [
    {
     "data": {
      "text/html": [
       "\n",
       "        <table>\n",
       "            <tr>\n",
       "                <td><strong>Reaction identifier</strong></td><td>PFK</td>\n",
       "            </tr><tr>\n",
       "                <td><strong>Name</strong></td><td>Phosphofructokinase</td>\n",
       "            </tr><tr>\n",
       "                <td><strong>Memory address</strong></td>\n",
       "                <td>0x01fb43b3efd0</td>\n",
       "            </tr><tr>\n",
       "                <td><strong>Stoichiometry</strong></td>\n",
       "                <td>\n",
       "                    <p style='text-align:right'>atp_c + f6p_c --> adp_c + fdp_c + h_c</p>\n",
       "                    <p style='text-align:right'>ATP C10H12N5O13P3 + D-Fructose 6-phosphate --> ADP C10H12N5O10P2 + D-Fructose 1,6-bisphosphate + H+</p>\n",
       "                </td>\n",
       "            </tr><tr>\n",
       "                <td><strong>GPR</strong></td><td>BSU29190</td>\n",
       "            </tr><tr>\n",
       "                <td><strong>Lower bound</strong></td><td>0.0</td>\n",
       "            </tr><tr>\n",
       "                <td><strong>Upper bound</strong></td><td>999999.0</td>\n",
       "            </tr>\n",
       "        </table>\n",
       "        "
      ],
      "text/plain": [
       "<Reaction PFK at 0x1fb43b3efd0>"
      ]
     },
     "execution_count": 32,
     "metadata": {},
     "output_type": "execute_result"
    }
   ],
   "source": [
    "model.reactions.PFK"
   ]
  },
  {
   "cell_type": "code",
   "execution_count": 33,
   "id": "9bc4799f-35db-4ff9-b10f-e2c265db2f25",
   "metadata": {},
   "outputs": [
    {
     "data": {
      "text/html": [
       "\n",
       "        <table>\n",
       "            <tr>\n",
       "                <td><strong>Reaction identifier</strong></td><td>PYK</td>\n",
       "            </tr><tr>\n",
       "                <td><strong>Name</strong></td><td>Pyruvate kinase</td>\n",
       "            </tr><tr>\n",
       "                <td><strong>Memory address</strong></td>\n",
       "                <td>0x01fb438c3c10</td>\n",
       "            </tr><tr>\n",
       "                <td><strong>Stoichiometry</strong></td>\n",
       "                <td>\n",
       "                    <p style='text-align:right'>adp_c + h_c + pep_c --> atp_c + pyr_c</p>\n",
       "                    <p style='text-align:right'>ADP C10H12N5O10P2 + H+ + Phosphoenolpyruvate --> ATP C10H12N5O13P3 + Pyruvate</p>\n",
       "                </td>\n",
       "            </tr><tr>\n",
       "                <td><strong>GPR</strong></td><td>BSU29180</td>\n",
       "            </tr><tr>\n",
       "                <td><strong>Lower bound</strong></td><td>0.0</td>\n",
       "            </tr><tr>\n",
       "                <td><strong>Upper bound</strong></td><td>999999.0</td>\n",
       "            </tr>\n",
       "        </table>\n",
       "        "
      ],
      "text/plain": [
       "<Reaction PYK at 0x1fb438c3c10>"
      ]
     },
     "execution_count": 33,
     "metadata": {},
     "output_type": "execute_result"
    }
   ],
   "source": [
    "model.reactions.PYK"
   ]
  },
  {
   "cell_type": "code",
   "execution_count": 36,
   "id": "392b440e-3b86-42a0-b973-4006d7aa25d5",
   "metadata": {},
   "outputs": [
    {
     "data": {
      "text/html": [
       "\n",
       "        <table>\n",
       "            <tr>\n",
       "                <td><strong>Reaction identifier</strong></td><td>PDH</td>\n",
       "            </tr><tr>\n",
       "                <td><strong>Name</strong></td><td>Pyruvate dehydrogenase</td>\n",
       "            </tr><tr>\n",
       "                <td><strong>Memory address</strong></td>\n",
       "                <td>0x01fb43b27970</td>\n",
       "            </tr><tr>\n",
       "                <td><strong>Stoichiometry</strong></td>\n",
       "                <td>\n",
       "                    <p style='text-align:right'>coa_c + nad_c + pyr_c --> accoa_c + co2_c + nadh_c</p>\n",
       "                    <p style='text-align:right'>Coenzyme A + Nicotinamide adenine dinucleotide + Pyruvate --> Acetyl-CoA + CO2 CO2 + Nicotinamide adenine dinucleotide - reduced</p>\n",
       "                </td>\n",
       "            </tr><tr>\n",
       "                <td><strong>GPR</strong></td><td>( BSU14580 and BSU14590 ) and BSU14600 and BSU14610</td>\n",
       "            </tr><tr>\n",
       "                <td><strong>Lower bound</strong></td><td>0.0</td>\n",
       "            </tr><tr>\n",
       "                <td><strong>Upper bound</strong></td><td>999999.0</td>\n",
       "            </tr>\n",
       "        </table>\n",
       "        "
      ],
      "text/plain": [
       "<Reaction PDH at 0x1fb43b27970>"
      ]
     },
     "execution_count": 36,
     "metadata": {},
     "output_type": "execute_result"
    }
   ],
   "source": [
    "model.reactions.PDH"
   ]
  },
  {
   "cell_type": "code",
   "execution_count": null,
   "id": "b22aa6c0-7fa1-4b51-b560-34719c204346",
   "metadata": {},
   "outputs": [],
   "source": []
  }
 ],
 "metadata": {
  "kernelspec": {
   "display_name": "Python 3 (ipykernel)",
   "language": "python",
   "name": "python3"
  },
  "language_info": {
   "codemirror_mode": {
    "name": "ipython",
    "version": 3
   },
   "file_extension": ".py",
   "mimetype": "text/x-python",
   "name": "python",
   "nbconvert_exporter": "python",
   "pygments_lexer": "ipython3",
   "version": "3.8.11"
  }
 },
 "nbformat": 4,
 "nbformat_minor": 5
}
