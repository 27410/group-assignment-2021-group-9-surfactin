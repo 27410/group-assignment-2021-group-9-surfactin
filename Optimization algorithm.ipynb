{
 "cells": [
  {
   "cell_type": "code",
   "execution_count": 1,
   "id": "7e6d444f-b64c-4238-82e4-1258b9714d05",
   "metadata": {},
   "outputs": [],
   "source": [
    "%run Sucrose.ipynb"
   ]
  },
  {
   "cell_type": "markdown",
   "id": "1b1949da-74b7-43cc-9f46-ed3c0f9a2cf8",
   "metadata": {},
   "source": [
    "TO ANYONE LOOKING AT THIS CODE, PLEASE DON'T RUN THE ALROGTIHMS AGAIN, IT TAKES AGES TO GET THE RESULTS"
   ]
  },
  {
   "cell_type": "markdown",
   "id": "fd0bd5b5-785b-4d45-832c-91286b52d76a",
   "metadata": {},
   "source": [
    "!!!!!!!!!!!!!!!!!!!!!!!!!!!!!!!!!!!!!!!!!!!!!!!!!!!!!!!!!!!!!!"
   ]
  },
  {
   "cell_type": "markdown",
   "id": "3b5ae3c0-4a2c-4eb7-bd70-9fce343cd2c2",
   "metadata": {},
   "source": [
    "The article had 0.154 mol-surfactin/mol-sucrose after knock-in. "
   ]
  },
  {
   "cell_type": "markdown",
   "id": "67500752-a45a-43b3-b78f-bdbf56450dfe",
   "metadata": {},
   "source": [
    "Sandie starts doing stuff from here:"
   ]
  },
  {
   "cell_type": "markdown",
   "id": "3760a59b-1b6b-4c22-88b7-cd3c647ae814",
   "metadata": {},
   "source": [
    "Compute gene knockout strategies using algorithms like OptKnock, OptGene and OptCouple"
   ]
  },
  {
   "cell_type": "code",
   "execution_count": 2,
   "id": "0a9b398c-cdbe-4691-b8f2-496df378b8e1",
   "metadata": {},
   "outputs": [],
   "source": [
    "#I did pip install cameo in my own terminal\n",
    "import cameo"
   ]
  },
  {
   "cell_type": "code",
   "execution_count": 3,
   "id": "de9904ca-adfd-436d-aebb-f7fe57b54489",
   "metadata": {},
   "outputs": [],
   "source": [
    "from cameo.strain_design.heuristic.evolutionary_based import OptGene"
   ]
  },
  {
   "cell_type": "code",
   "execution_count": 4,
   "id": "706e869a-5f9f-49f6-a2f6-d27f083055b1",
   "metadata": {},
   "outputs": [],
   "source": [
    "from cameo import models"
   ]
  },
  {
   "cell_type": "code",
   "execution_count": null,
   "id": "3de5a24c-b6db-457a-9276-7403b7c0d06a",
   "metadata": {},
   "outputs": [],
   "source": []
  },
  {
   "cell_type": "code",
   "execution_count": 5,
   "id": "c9268db6-506a-4b90-81cc-114b044b0e46",
   "metadata": {},
   "outputs": [],
   "source": [
    "optgene = OptGene(model)"
   ]
  },
  {
   "cell_type": "code",
   "execution_count": 6,
   "id": "b8547365-5e55-43c9-96c5-6b21ab4f073a",
   "metadata": {},
   "outputs": [],
   "source": [
    "#Testing if I found the right biomass name"
   ]
  },
  {
   "cell_type": "code",
   "execution_count": 7,
   "id": "75d226fb-eda7-4ac7-87f8-e36681b4fa8b",
   "metadata": {},
   "outputs": [
    {
     "data": {
      "text/html": [
       "\n",
       "        <table>\n",
       "            <tr>\n",
       "                <td><strong>Reaction identifier</strong></td><td>BIOMASS_BS_10</td>\n",
       "            </tr><tr>\n",
       "                <td><strong>Name</strong></td><td>B subtilis biomass demand</td>\n",
       "            </tr><tr>\n",
       "                <td><strong>Memory address</strong></td>\n",
       "                <td>0x01eb72296670</td>\n",
       "            </tr><tr>\n",
       "                <td><strong>Stoichiometry</strong></td>\n",
       "                <td>\n",
       "                    <p style='text-align:right'>0.000367 10fthf_c + 0.266902 ala__L_c + 0.00467 amp_c + 0.193021 arg__L_c + 0.147987 asn__L_c + 0.148014 asp__L_c + 105.053483 atp_c + 0.003205 ca2_c + 5e-06 cdlp_BS_c + 0.000251 cdp_c + 0.001042...</p>\n",
       "                    <p style='text-align:right'>0.000367 10-Formyltetrahydrofolate + 0.266902 L-Alanine + 0.00467 AMP C10H12N5O7P + 0.193021 L-Arginine + 0.147987 L-Asparagine + 0.148014 L-Aspartate + 105.053483 ATP C10H12N5O13P3 + 0.003205...</p>\n",
       "                </td>\n",
       "            </tr><tr>\n",
       "                <td><strong>GPR</strong></td><td></td>\n",
       "            </tr><tr>\n",
       "                <td><strong>Lower bound</strong></td><td>0.0</td>\n",
       "            </tr><tr>\n",
       "                <td><strong>Upper bound</strong></td><td>999999.0</td>\n",
       "            </tr>\n",
       "        </table>\n",
       "        "
      ],
      "text/plain": [
       "<Reaction BIOMASS_BS_10 at 0x1eb72296670>"
      ]
     },
     "execution_count": 7,
     "metadata": {},
     "output_type": "execute_result"
    }
   ],
   "source": [
    "model.reactions.BIOMASS_BS_10\n"
   ]
  },
  {
   "cell_type": "code",
   "execution_count": 8,
   "id": "481340f6-1ef4-4014-ac07-17b5a8193747",
   "metadata": {},
   "outputs": [
    {
     "data": {
      "text/plain": [
       "[<Reaction BIOMASS_BS_10 at 0x1eb72296670>]"
      ]
     },
     "execution_count": 8,
     "metadata": {},
     "output_type": "execute_result"
    }
   ],
   "source": [
    "model.reactions.query('biomass','name')"
   ]
  },
  {
   "cell_type": "code",
   "execution_count": 9,
   "id": "2aaf752b-684e-4b69-9d56-48128ea488e5",
   "metadata": {},
   "outputs": [
    {
     "data": {
      "text/html": [
       "\n",
       "        <table>\n",
       "            <tr>\n",
       "                <td><strong>Reaction identifier</strong></td><td>DM_surfactin_c</td>\n",
       "            </tr><tr>\n",
       "                <td><strong>Name</strong></td><td>demand</td>\n",
       "            </tr><tr>\n",
       "                <td><strong>Memory address</strong></td>\n",
       "                <td>0x01eb72af8970</td>\n",
       "            </tr><tr>\n",
       "                <td><strong>Stoichiometry</strong></td>\n",
       "                <td>\n",
       "                    <p style='text-align:right'>surfactin_c --></p>\n",
       "                    <p style='text-align:right'>--></p>\n",
       "                </td>\n",
       "            </tr><tr>\n",
       "                <td><strong>GPR</strong></td><td></td>\n",
       "            </tr><tr>\n",
       "                <td><strong>Lower bound</strong></td><td>0</td>\n",
       "            </tr><tr>\n",
       "                <td><strong>Upper bound</strong></td><td>1000.0</td>\n",
       "            </tr>\n",
       "        </table>\n",
       "        "
      ],
      "text/plain": [
       "<Reaction DM_surfactin_c at 0x1eb72af8970>"
      ]
     },
     "execution_count": 9,
     "metadata": {},
     "output_type": "execute_result"
    }
   ],
   "source": [
    "model.reactions.DM_surfactin_c"
   ]
  },
  {
   "cell_type": "code",
   "execution_count": 10,
   "id": "98ea082f-86c3-422c-90f9-ca2d1392164f",
   "metadata": {},
   "outputs": [
    {
     "data": {
      "text/html": [
       "\n",
       "        <table>\n",
       "            <tr>\n",
       "                <td><strong>Reaction identifier</strong></td><td>EX_sucr_e</td>\n",
       "            </tr><tr>\n",
       "                <td><strong>Name</strong></td><td>Sucrose exchange</td>\n",
       "            </tr><tr>\n",
       "                <td><strong>Memory address</strong></td>\n",
       "                <td>0x01eb72138fa0</td>\n",
       "            </tr><tr>\n",
       "                <td><strong>Stoichiometry</strong></td>\n",
       "                <td>\n",
       "                    <p style='text-align:right'>sucr_e <=></p>\n",
       "                    <p style='text-align:right'>Sucrose C12H22O11 <=></p>\n",
       "                </td>\n",
       "            </tr><tr>\n",
       "                <td><strong>GPR</strong></td><td></td>\n",
       "            </tr><tr>\n",
       "                <td><strong>Lower bound</strong></td><td>-1000</td>\n",
       "            </tr><tr>\n",
       "                <td><strong>Upper bound</strong></td><td>999999.0</td>\n",
       "            </tr>\n",
       "        </table>\n",
       "        "
      ],
      "text/plain": [
       "<Reaction EX_sucr_e at 0x1eb72138fa0>"
      ]
     },
     "execution_count": 10,
     "metadata": {},
     "output_type": "execute_result"
    }
   ],
   "source": [
    "model.reactions.EX_sucr_e"
   ]
  },
  {
   "cell_type": "markdown",
   "id": "12405ac6-18a8-4b70-acb0-922e1824965c",
   "metadata": {},
   "source": [
    "Will this ever work if we don't have the genes?"
   ]
  },
  {
   "cell_type": "code",
   "execution_count": 11,
   "id": "bfc1f0e2-bc49-4f31-9958-01bd61195d95",
   "metadata": {},
   "outputs": [
    {
     "name": "stdout",
     "output_type": "stream",
     "text": [
      "Starting optimization at Tue, 16 Nov 2021 13:28:48\n"
     ]
    },
    {
     "data": {
      "application/vnd.jupyter.widget-view+json": {
       "model_id": "bfe8e2f830f54ed0a753f7a9252fc6d9",
       "version_major": 2,
       "version_minor": 0
      },
      "text/plain": [
       "HBox()"
      ]
     },
     "metadata": {},
     "output_type": "display_data"
    },
    {
     "name": "stdout",
     "output_type": "stream",
     "text": [
      "Finished after 00:13:38\n"
     ]
    }
   ],
   "source": [
    "result_optgene = optgene.run(target=\"DM_surfactin_c\",\n",
    "                     biomass=\"BIOMASS_BS_10\",\n",
    "                     substrate=\"EX_sucr_e\",\n",
    "                     max_evaluations=20000, max_knockouts=3, plot=False)"
   ]
  },
  {
   "cell_type": "code",
   "execution_count": 12,
   "id": "4a12999a-7563-4d57-a52d-21615eb01bc8",
   "metadata": {},
   "outputs": [
    {
     "name": "stderr",
     "output_type": "stream",
     "text": [
      "No solutions found\n"
     ]
    },
    {
     "data": {
      "text/html": [
       "\n",
       "        <h3>OptGene Result</h3>\n",
       "        <ul>\n",
       "            <li>Simulation: fba<br/></li>\n",
       "            <li>Objective Function: $$bpcy = \\frac{(BIOMASS\\_BS\\_10 * DM\\_surfactin\\_c)}{EX\\_sucr\\_e}$$<br/></li>\n",
       "        </ul>\n",
       "        <div>\n",
       "<style scoped>\n",
       "    .dataframe tbody tr th:only-of-type {\n",
       "        vertical-align: middle;\n",
       "    }\n",
       "\n",
       "    .dataframe tbody tr th {\n",
       "        vertical-align: top;\n",
       "    }\n",
       "\n",
       "    .dataframe thead th {\n",
       "        text-align: right;\n",
       "    }\n",
       "</style>\n",
       "<table border=\"1\" class=\"dataframe\">\n",
       "  <thead>\n",
       "    <tr style=\"text-align: right;\">\n",
       "      <th></th>\n",
       "      <th>reactions</th>\n",
       "      <th>genes</th>\n",
       "      <th>size</th>\n",
       "      <th>fva_min</th>\n",
       "      <th>fva_max</th>\n",
       "      <th>target_flux</th>\n",
       "      <th>biomass_flux</th>\n",
       "      <th>yield</th>\n",
       "      <th>fitness</th>\n",
       "    </tr>\n",
       "  </thead>\n",
       "  <tbody>\n",
       "  </tbody>\n",
       "</table>\n",
       "</div>\n",
       "        "
      ],
      "text/plain": [
       "<cameo.strain_design.heuristic.evolutionary_based.OptGeneResult at 0x1eb737ce730>"
      ]
     },
     "execution_count": 12,
     "metadata": {},
     "output_type": "execute_result"
    }
   ],
   "source": [
    "result_optgene"
   ]
  },
  {
   "cell_type": "code",
   "execution_count": 13,
   "id": "50ad960d-cef2-4997-af6f-e7121c65e78e",
   "metadata": {},
   "outputs": [],
   "source": [
    "from cameo.strain_design.deterministic.linear_programming import OptKnock"
   ]
  },
  {
   "cell_type": "code",
   "execution_count": 14,
   "id": "609e3d55-4600-49e3-8bda-ec0ba6e635d8",
   "metadata": {},
   "outputs": [
    {
     "name": "stderr",
     "output_type": "stream",
     "text": [
      "C:\\Users\\Natasha\\anaconda3\\envs\\Cell factory\\lib\\site-packages\\cameo\\strain_design\\deterministic\\linear_programming.py:118: UserWarning: You are trying to run OptKnock with glpk_interface. This might not end well.\n",
      "  warnings.warn(\"You are trying to run OptKnock with %s. This might not end well.\" %\n"
     ]
    }
   ],
   "source": [
    "optknock = OptKnock(model, fraction_of_optimum=0.1)"
   ]
  },
  {
   "cell_type": "code",
   "execution_count": null,
   "id": "d5248637-6341-4d7a-b1ef-af2dd1f08777",
   "metadata": {},
   "outputs": [],
   "source": [
    "result_optknock = optknock.run(max_knockouts=1, target=\"DM_surfactin_c\", biomass=\"BIOMASS_BS_10\")"
   ]
  },
  {
   "cell_type": "code",
   "execution_count": null,
   "id": "b80232db-088a-468d-8e49-ad5202716c10",
   "metadata": {},
   "outputs": [],
   "source": [
    "result_optknock"
   ]
  },
  {
   "cell_type": "markdown",
   "id": "d4073dd7-b37e-4103-a071-e587f24755cc",
   "metadata": {},
   "source": [
    "This seems susppicious because the there's no biomass production"
   ]
  },
  {
   "cell_type": "markdown",
   "id": "c0a2f480-9ce1-439b-b029-89b721c4cada",
   "metadata": {},
   "source": [
    "It might be because surfactin is toxic and kills the ceLL"
   ]
  },
  {
   "cell_type": "markdown",
   "id": "c6065759-3bf1-4af1-811c-4fef4fff0fd9",
   "metadata": {},
   "source": [
    "Or it might be because we have so many different substrates in order to produce our product, so if we knock out one thing it might adversely affect another. "
   ]
  },
  {
   "cell_type": "markdown",
   "id": "b37c1290-dd84-4cb8-b94e-51fc4ccb6a7f",
   "metadata": {},
   "source": [
    "We'll try and manually remove the ADMDC reaction to see what happens"
   ]
  },
  {
   "cell_type": "code",
   "execution_count": null,
   "id": "8cea5b86-6a36-4923-9d75-195d813de094",
   "metadata": {},
   "outputs": [],
   "source": [
    "model.reactions.PPM2"
   ]
  },
  {
   "cell_type": "code",
   "execution_count": null,
   "id": "f02689fa-ef82-49cd-b0b5-7595864f1ec9",
   "metadata": {},
   "outputs": [],
   "source": [
    "model.reactions.PPM2.lower_bound = 0"
   ]
  },
  {
   "cell_type": "code",
   "execution_count": 39,
   "id": "ffe8d57a-ebb1-4a44-a812-7d3b0f1c41a9",
   "metadata": {},
   "outputs": [],
   "source": [
    "model.reactions.PPM2.upper_bound = 0"
   ]
  },
  {
   "cell_type": "code",
   "execution_count": 40,
   "id": "35f2a982-12d8-4839-ae74-e45022de4d0d",
   "metadata": {},
   "outputs": [
    {
     "data": {
      "text/html": [
       "\n",
       "        <table>\n",
       "            <tr>\n",
       "                <td><strong>Reaction identifier</strong></td><td>PPM2</td>\n",
       "            </tr><tr>\n",
       "                <td><strong>Name</strong></td><td>Phosphopentomutase 2 (deoxyribose)</td>\n",
       "            </tr><tr>\n",
       "                <td><strong>Memory address</strong></td>\n",
       "                <td>0x021ede810e20</td>\n",
       "            </tr><tr>\n",
       "                <td><strong>Stoichiometry</strong></td>\n",
       "                <td>\n",
       "                    <p style='text-align:right'>2dr1p_c --> 2dr5p_c</p>\n",
       "                    <p style='text-align:right'>2-Deoxy-D-ribose 1-phosphate --> 2-Deoxy-D-ribose 5-phosphate</p>\n",
       "                </td>\n",
       "            </tr><tr>\n",
       "                <td><strong>GPR</strong></td><td>BSU23500</td>\n",
       "            </tr><tr>\n",
       "                <td><strong>Lower bound</strong></td><td>0</td>\n",
       "            </tr><tr>\n",
       "                <td><strong>Upper bound</strong></td><td>0</td>\n",
       "            </tr>\n",
       "        </table>\n",
       "        "
      ],
      "text/plain": [
       "<Reaction PPM2 at 0x21ede810e20>"
      ]
     },
     "execution_count": 40,
     "metadata": {},
     "output_type": "execute_result"
    }
   ],
   "source": [
    "model.reactions.PPM2"
   ]
  },
  {
   "cell_type": "code",
   "execution_count": 41,
   "id": "ddf68186-2cd4-4f14-a5a6-e8d6a95abd57",
   "metadata": {},
   "outputs": [],
   "source": [
    "solution = model.optimize()"
   ]
  },
  {
   "cell_type": "code",
   "execution_count": 42,
   "id": "3dbb9c6d-b28b-4d7c-bd38-e3a2974fcb9f",
   "metadata": {},
   "outputs": [
    {
     "data": {
      "text/html": [
       "<strong><em>Optimal</em> solution with objective value 0.357</strong><br><div>\n",
       "<style scoped>\n",
       "    .dataframe tbody tr th:only-of-type {\n",
       "        vertical-align: middle;\n",
       "    }\n",
       "\n",
       "    .dataframe tbody tr th {\n",
       "        vertical-align: top;\n",
       "    }\n",
       "\n",
       "    .dataframe thead th {\n",
       "        text-align: right;\n",
       "    }\n",
       "</style>\n",
       "<table border=\"1\" class=\"dataframe\">\n",
       "  <thead>\n",
       "    <tr style=\"text-align: right;\">\n",
       "      <th></th>\n",
       "      <th>fluxes</th>\n",
       "      <th>reduced_costs</th>\n",
       "    </tr>\n",
       "  </thead>\n",
       "  <tbody>\n",
       "    <tr>\n",
       "      <th>EX_etha_e</th>\n",
       "      <td>0.000000</td>\n",
       "      <td>-1.428571e-01</td>\n",
       "    </tr>\n",
       "    <tr>\n",
       "      <th>EX_drib_e</th>\n",
       "      <td>0.000000</td>\n",
       "      <td>0.000000e+00</td>\n",
       "    </tr>\n",
       "    <tr>\n",
       "      <th>EX_csn_e</th>\n",
       "      <td>0.000000</td>\n",
       "      <td>-4.285714e-01</td>\n",
       "    </tr>\n",
       "    <tr>\n",
       "      <th>EX_5mtr_e</th>\n",
       "      <td>0.000000</td>\n",
       "      <td>-4.285714e-01</td>\n",
       "    </tr>\n",
       "    <tr>\n",
       "      <th>EX_dtmp_e</th>\n",
       "      <td>0.000000</td>\n",
       "      <td>-2.857143e-01</td>\n",
       "    </tr>\n",
       "    <tr>\n",
       "      <th>...</th>\n",
       "      <td>...</td>\n",
       "      <td>...</td>\n",
       "    </tr>\n",
       "    <tr>\n",
       "      <th>SP_1</th>\n",
       "      <td>0.357143</td>\n",
       "      <td>-2.220446e-16</td>\n",
       "    </tr>\n",
       "    <tr>\n",
       "      <th>SP_2</th>\n",
       "      <td>0.000000</td>\n",
       "      <td>-2.442491e-15</td>\n",
       "    </tr>\n",
       "    <tr>\n",
       "      <th>SP_3</th>\n",
       "      <td>0.000000</td>\n",
       "      <td>-5.329071e-15</td>\n",
       "    </tr>\n",
       "    <tr>\n",
       "      <th>SP_4</th>\n",
       "      <td>0.000000</td>\n",
       "      <td>2.359224e-15</td>\n",
       "    </tr>\n",
       "    <tr>\n",
       "      <th>DM_surfactin_c</th>\n",
       "      <td>0.357143</td>\n",
       "      <td>0.000000e+00</td>\n",
       "    </tr>\n",
       "  </tbody>\n",
       "</table>\n",
       "<p>1255 rows × 2 columns</p>\n",
       "</div>"
      ],
      "text/plain": [
       "<Solution 0.357 at 0x21ee1a9ba30>"
      ]
     },
     "execution_count": 42,
     "metadata": {},
     "output_type": "execute_result"
    }
   ],
   "source": [
    "solution"
   ]
  },
  {
   "cell_type": "code",
   "execution_count": 43,
   "id": "50dbbf89-0da0-4ff1-b4f3-2d1008e891d7",
   "metadata": {},
   "outputs": [
    {
     "data": {
      "text/plain": [
       "0.0"
      ]
     },
     "execution_count": 43,
     "metadata": {},
     "output_type": "execute_result"
    }
   ],
   "source": [
    "model.reactions.PPM2.flux"
   ]
  },
  {
   "cell_type": "code",
   "execution_count": 34,
   "id": "5f673d3a-8de5-4ec1-99d4-da15071e6174",
   "metadata": {},
   "outputs": [
    {
     "name": "stdout",
     "output_type": "stream",
     "text": [
      "Maximum productivity = 0.6241848146320885 mmol/gDW*h\n",
      "Maximum theoretical yield = 0.21359453201850118 mmol-surfactin/mmol-glucose\n"
     ]
    }
   ],
   "source": [
    "model.objective = model.reactions.DM_surfactin_c\n",
    "surfactin_production = solution.objective_value\n",
    "print('Maximum productivity =', surfactin_production, 'mmol/gDW*h')\n",
    "   \n",
    "maximum_yield = surfactin_production / (-1*(model.reactions.EX_sucr_e.flux))\n",
    "print('Maximum theoretical yield =', maximum_yield, 'mmol-surfactin/mmol-glucose')"
   ]
  },
  {
   "cell_type": "code",
   "execution_count": 35,
   "id": "3dd835ae-5d6b-48b2-9fbc-0bc7e349b97c",
   "metadata": {},
   "outputs": [
    {
     "name": "stdout",
     "output_type": "stream",
     "text": [
      "Maximize\n",
      "1.0*DM_surfactin_c - 1.0*DM_surfactin_c_reverse_e4782\n"
     ]
    }
   ],
   "source": [
    "print(model.objective) #Test"
   ]
  },
  {
   "cell_type": "code",
   "execution_count": 30,
   "id": "836ae413-94ab-4730-b759-efa878fd3144",
   "metadata": {},
   "outputs": [],
   "source": [
    "#I might need to double check that cell doesn't die because of this knock out"
   ]
  },
  {
   "cell_type": "code",
   "execution_count": 44,
   "id": "ada64fb0-0aa6-47e8-b991-57e9814069cf",
   "metadata": {},
   "outputs": [
    {
     "data": {
      "text/html": [
       "\n",
       "        <table>\n",
       "            <tr>\n",
       "                <td><strong>Reaction identifier</strong></td><td>BIOMASS_BS_10</td>\n",
       "            </tr><tr>\n",
       "                <td><strong>Name</strong></td><td>B subtilis biomass demand</td>\n",
       "            </tr><tr>\n",
       "                <td><strong>Memory address</strong></td>\n",
       "                <td>0x021ede364c10</td>\n",
       "            </tr><tr>\n",
       "                <td><strong>Stoichiometry</strong></td>\n",
       "                <td>\n",
       "                    <p style='text-align:right'>0.000367 10fthf_c + 0.266902 ala__L_c + 0.00467 amp_c + 0.193021 arg__L_c + 0.147987 asn__L_c + 0.148014 asp__L_c + 105.053483 atp_c + 0.003205 ca2_c + 5e-06 cdlp_BS_c + 0.000251 cdp_c + 0.001042...</p>\n",
       "                    <p style='text-align:right'>0.000367 10-Formyltetrahydrofolate + 0.266902 L-Alanine + 0.00467 AMP C10H12N5O7P + 0.193021 L-Arginine + 0.147987 L-Asparagine + 0.148014 L-Aspartate + 105.053483 ATP C10H12N5O13P3 + 0.003205...</p>\n",
       "                </td>\n",
       "            </tr><tr>\n",
       "                <td><strong>GPR</strong></td><td></td>\n",
       "            </tr><tr>\n",
       "                <td><strong>Lower bound</strong></td><td>0.0</td>\n",
       "            </tr><tr>\n",
       "                <td><strong>Upper bound</strong></td><td>999999.0</td>\n",
       "            </tr>\n",
       "        </table>\n",
       "        "
      ],
      "text/plain": [
       "<Reaction BIOMASS_BS_10 at 0x21ede364c10>"
      ]
     },
     "execution_count": 44,
     "metadata": {},
     "output_type": "execute_result"
    }
   ],
   "source": [
    "model.reactions.BIOMASS_BS_10"
   ]
  },
  {
   "cell_type": "code",
   "execution_count": 45,
   "id": "c2580cb6-cfbb-4eb3-9074-5cf8457eccd4",
   "metadata": {},
   "outputs": [
    {
     "data": {
      "text/plain": [
       "0.0"
      ]
     },
     "execution_count": 45,
     "metadata": {},
     "output_type": "execute_result"
    }
   ],
   "source": [
    "model.reactions.BIOMASS_BS_10.flux"
   ]
  },
  {
   "cell_type": "code",
   "execution_count": 46,
   "id": "0b6e0f38-290c-4c16-b1af-49131afc5fef",
   "metadata": {},
   "outputs": [],
   "source": [
    "#It seems like our cell dies??"
   ]
  },
  {
   "cell_type": "code",
   "execution_count": null,
   "id": "33c315c5-60f5-4dec-adec-b6945611b510",
   "metadata": {},
   "outputs": [],
   "source": []
  }
 ],
 "metadata": {
  "kernelspec": {
   "display_name": "Python 3 (ipykernel)",
   "language": "python",
   "name": "python3"
  },
  "language_info": {
   "codemirror_mode": {
    "name": "ipython",
    "version": 3
   },
   "file_extension": ".py",
   "mimetype": "text/x-python",
   "name": "python",
   "nbconvert_exporter": "python",
   "pygments_lexer": "ipython3",
   "version": "3.8.11"
  }
 },
 "nbformat": 4,
 "nbformat_minor": 5
}
