{
 "cells": [
  {
   "cell_type": "code",
   "execution_count": null,
   "id": "7e6d444f-b64c-4238-82e4-1258b9714d05",
   "metadata": {},
   "outputs": [],
   "source": [
    "%run model.ipynb"
   ]
  },
  {
   "cell_type": "markdown",
   "id": "3b5ae3c0-4a2c-4eb7-bd70-9fce343cd2c2",
   "metadata": {},
   "source": [
    "The article had 0.154 mol-surfactin/mol-sucrose after knock-in. "
   ]
  },
  {
   "cell_type": "markdown",
   "id": "67500752-a45a-43b3-b78f-bdbf56450dfe",
   "metadata": {},
   "source": [
    "Sandie starts doing stuff from here:"
   ]
  },
  {
   "cell_type": "markdown",
   "id": "3760a59b-1b6b-4c22-88b7-cd3c647ae814",
   "metadata": {},
   "source": [
    "Compute gene knockout strategies using algorithms like OptKnock, OptGene and OptCouple"
   ]
  },
  {
   "cell_type": "code",
   "execution_count": null,
   "id": "0a9b398c-cdbe-4691-b8f2-496df378b8e1",
   "metadata": {},
   "outputs": [],
   "source": [
    "#I did pip install cameo in my own terminal\n",
    "import cameo"
   ]
  },
  {
   "cell_type": "code",
   "execution_count": null,
   "id": "de9904ca-adfd-436d-aebb-f7fe57b54489",
   "metadata": {},
   "outputs": [],
   "source": [
    "from cameo.strain_design.heuristic.evolutionary_based import OptGene"
   ]
  },
  {
   "cell_type": "code",
   "execution_count": null,
   "id": "706e869a-5f9f-49f6-a2f6-d27f083055b1",
   "metadata": {},
   "outputs": [],
   "source": [
    "from cameo import models"
   ]
  },
  {
   "cell_type": "code",
   "execution_count": null,
   "id": "3de5a24c-b6db-457a-9276-7403b7c0d06a",
   "metadata": {},
   "outputs": [],
   "source": []
  },
  {
   "cell_type": "code",
   "execution_count": null,
   "id": "c9268db6-506a-4b90-81cc-114b044b0e46",
   "metadata": {},
   "outputs": [],
   "source": [
    "optgene = OptGene(model)"
   ]
  },
  {
   "cell_type": "code",
   "execution_count": null,
   "id": "b8547365-5e55-43c9-96c5-6b21ab4f073a",
   "metadata": {},
   "outputs": [],
   "source": [
    "#Testing if I found the right biomass name"
   ]
  },
  {
   "cell_type": "code",
   "execution_count": null,
   "id": "75d226fb-eda7-4ac7-87f8-e36681b4fa8b",
   "metadata": {},
   "outputs": [],
   "source": [
    "model.reactions.BIOMASS_BS_10\n"
   ]
  },
  {
   "cell_type": "code",
   "execution_count": null,
   "id": "481340f6-1ef4-4014-ac07-17b5a8193747",
   "metadata": {},
   "outputs": [],
   "source": [
    "model.reactions.query('biomass','name')"
   ]
  },
  {
   "cell_type": "code",
   "execution_count": null,
   "id": "2aaf752b-684e-4b69-9d56-48128ea488e5",
   "metadata": {},
   "outputs": [],
   "source": [
    "model.reactions.DM_surfactin_c"
   ]
  },
  {
   "cell_type": "code",
   "execution_count": null,
   "id": "98ea082f-86c3-422c-90f9-ca2d1392164f",
   "metadata": {},
   "outputs": [],
   "source": [
    "model.reactions.EX_sucr_e"
   ]
  },
  {
   "cell_type": "markdown",
   "id": "12405ac6-18a8-4b70-acb0-922e1824965c",
   "metadata": {},
   "source": [
    "Will this ever work if we don't have the genes?"
   ]
  },
  {
   "cell_type": "code",
   "execution_count": null,
   "id": "bfc1f0e2-bc49-4f31-9958-01bd61195d95",
   "metadata": {},
   "outputs": [],
   "source": [
    "result_optgene = optgene.run(target=\"DM_surfactin_c\",\n",
    "                     biomass=\"BIOMASS_BS_10\",\n",
    "                     substrate=\"EX_sucr_e\",\n",
    "                     max_evaluations=20000, max_knockouts=3, plot=False)"
   ]
  },
  {
   "cell_type": "code",
   "execution_count": null,
   "id": "4a12999a-7563-4d57-a52d-21615eb01bc8",
   "metadata": {},
   "outputs": [],
   "source": [
    "result_optgene"
   ]
  },
  {
   "cell_type": "markdown",
   "id": "6a2d6c0b-1212-4183-8e1b-5a6f379e9841",
   "metadata": {},
   "source": [
    "from cameo.strain_design.deterministic.linear_programming import OptKnock"
   ]
  },
  {
   "cell_type": "code",
   "execution_count": null,
   "id": "609e3d55-4600-49e3-8bda-ec0ba6e635d8",
   "metadata": {},
   "outputs": [],
   "source": [
    "optknock = OptKnock(model, fraction_of_optimum=0.1)"
   ]
  },
  {
   "cell_type": "code",
   "execution_count": null,
   "id": "d5248637-6341-4d7a-b1ef-af2dd1f08777",
   "metadata": {},
   "outputs": [],
   "source": [
    "result_optknock = optknock.run(max_knockouts=1, target=\"DM_surfactin_c\", biomass=\"BIOMASS_BS_10\")"
   ]
  },
  {
   "cell_type": "code",
   "execution_count": null,
   "id": "b80232db-088a-468d-8e49-ad5202716c10",
   "metadata": {},
   "outputs": [],
   "source": [
    "result_optknock"
   ]
  },
  {
   "cell_type": "markdown",
   "id": "d4073dd7-b37e-4103-a071-e587f24755cc",
   "metadata": {},
   "source": [
    "This seems susppicious because the there's no biomass production"
   ]
  },
  {
   "cell_type": "markdown",
   "id": "c0a2f480-9ce1-439b-b029-89b721c4cada",
   "metadata": {},
   "source": [
    "It might be because surfactin is toxic and kills the ceLL"
   ]
  },
  {
   "cell_type": "markdown",
   "id": "c6065759-3bf1-4af1-811c-4fef4fff0fd9",
   "metadata": {},
   "source": [
    "Or it might be because we have so many different substrates in order to produce our product, so if we knock out one thing it might adversely affect another. "
   ]
  },
  {
   "cell_type": "markdown",
   "id": "b37c1290-dd84-4cb8-b94e-51fc4ccb6a7f",
   "metadata": {},
   "source": [
    "We'll try and manually remove the ADMDC reaction to see what happens"
   ]
  },
  {
   "cell_type": "code",
   "execution_count": null,
   "id": "8cea5b86-6a36-4923-9d75-195d813de094",
   "metadata": {},
   "outputs": [],
   "source": [
    "model.reactions.ADMDC"
   ]
  },
  {
   "cell_type": "code",
   "execution_count": null,
   "id": "dc829c02-58e8-47ea-b767-30be98c7ac11",
   "metadata": {},
   "outputs": [],
   "source": [
    "model.reactions.ADMDC.genes"
   ]
  },
  {
   "cell_type": "code",
   "execution_count": null,
   "id": "50aae658-52f6-4426-9ae7-7b35c0c350eb",
   "metadata": {},
   "outputs": [],
   "source": [
    "model.genes.BSU29010.name"
   ]
  },
  {
   "cell_type": "code",
   "execution_count": null,
   "id": "e9310f0c-85b8-4a37-9250-1b8e836b0054",
   "metadata": {},
   "outputs": [],
   "source": [
    "with model as speD_mutant:\n",
    "    pgk_mutant.genes.BSU29010.knock_out()\n",
    "    print(speD_mutant.slim_optimize())"
   ]
  },
  {
   "cell_type": "code",
   "execution_count": null,
   "id": "f02689fa-ef82-49cd-b0b5-7595864f1ec9",
   "metadata": {},
   "outputs": [],
   "source": [
    "model.reactions.ADMDC.lower_bound = 0"
   ]
  },
  {
   "cell_type": "code",
   "execution_count": null,
   "id": "ffe8d57a-ebb1-4a44-a812-7d3b0f1c41a9",
   "metadata": {},
   "outputs": [],
   "source": [
    "model.reactions.ADMDC.upper_bound = 0"
   ]
  },
  {
   "cell_type": "code",
   "execution_count": null,
   "id": "35f2a982-12d8-4839-ae74-e45022de4d0d",
   "metadata": {},
   "outputs": [],
   "source": [
    "model.reactions.ADMDC"
   ]
  },
  {
   "cell_type": "code",
   "execution_count": null,
   "id": "ddf68186-2cd4-4f14-a5a6-e8d6a95abd57",
   "metadata": {},
   "outputs": [],
   "source": [
    "solution = model.optimize()"
   ]
  },
  {
   "cell_type": "code",
   "execution_count": null,
   "id": "3dbb9c6d-b28b-4d7c-bd38-e3a2974fcb9f",
   "metadata": {},
   "outputs": [],
   "source": [
    "solution"
   ]
  },
  {
   "cell_type": "code",
   "execution_count": 178,
   "id": "50dbbf89-0da0-4ff1-b4f3-2d1008e891d7",
   "metadata": {},
   "outputs": [
    {
     "data": {
      "text/plain": [
       "0.0"
      ]
     },
     "execution_count": 178,
     "metadata": {},
     "output_type": "execute_result"
    }
   ],
   "source": [
    "model.reactions.ADMDC.flux"
   ]
  },
  {
   "cell_type": "code",
   "execution_count": 179,
   "id": "5f673d3a-8de5-4ec1-99d4-da15071e6174",
   "metadata": {},
   "outputs": [
    {
     "name": "stdout",
     "output_type": "stream",
     "text": [
      "Maximum theoretical yield = 0.12308498101349524 mmol-surfactin/mmol-sucrose\n"
     ]
    }
   ],
   "source": [
    "maximum_yield = surfactin_production / (-1*(model.reactions.EX_sucr_e.flux))\n",
    "print('Maximum theoretical yield =', maximum_yield, 'mmol-surfactin/mmol-sucrose')"
   ]
  },
  {
   "cell_type": "code",
   "execution_count": 180,
   "id": "3dd835ae-5d6b-48b2-9fbc-0bc7e349b97c",
   "metadata": {},
   "outputs": [
    {
     "name": "stdout",
     "output_type": "stream",
     "text": [
      "Maximize\n",
      "1.0*DM_surfactin_c - 1.0*DM_surfactin_c_reverse_e4782\n"
     ]
    }
   ],
   "source": [
    "print(model.objective) #Test"
   ]
  },
  {
   "cell_type": "code",
   "execution_count": null,
   "id": "836ae413-94ab-4730-b759-efa878fd3144",
   "metadata": {},
   "outputs": [],
   "source": []
  }
 ],
 "metadata": {
  "kernelspec": {
   "display_name": "Python 3",
   "language": "python",
   "name": "python3"
  },
  "language_info": {
   "codemirror_mode": {
    "name": "ipython",
    "version": 3
   },
   "file_extension": ".py",
   "mimetype": "text/x-python",
   "name": "python",
   "nbconvert_exporter": "python",
   "pygments_lexer": "ipython3",
   "version": "3.8.8"
  }
 },
 "nbformat": 4,
 "nbformat_minor": 5
}
