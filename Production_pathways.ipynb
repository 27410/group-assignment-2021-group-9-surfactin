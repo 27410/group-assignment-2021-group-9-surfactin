{
 "cells": [
  {
   "cell_type": "code",
   "execution_count": 1,
   "id": "ac303d7f-d7dc-4f0d-b179-5cb8ebf65190",
   "metadata": {},
   "outputs": [],
   "source": [
    "%run model_sucrose.ipynb"
   ]
  },
  {
   "cell_type": "code",
   "execution_count": 2,
   "id": "68862b4f-3108-464c-90c4-14ec070d1e2c",
   "metadata": {},
   "outputs": [],
   "source": [
    "from cameo import models\n",
    "from cameo.strain_design import pathway_prediction"
   ]
  },
  {
   "cell_type": "code",
   "execution_count": 3,
   "id": "ebab2bb1-6e1a-4fce-b030-39932193b29d",
   "metadata": {},
   "outputs": [],
   "source": [
    "predictor = pathway_prediction.PathwayPredictor(model)"
   ]
  },
  {
   "cell_type": "code",
   "execution_count": null,
   "id": "3138ffaa-5898-4b16-8d3a-168ef10e5516",
   "metadata": {},
   "outputs": [],
   "source": [
    "%%time\n",
    "pathways = predictor.run(product=\"surfactin_c\")"
   ]
  },
  {
   "cell_type": "code",
   "execution_count": null,
   "id": "d0d13485-ebb3-4191-831d-8091cfbd9e6a",
   "metadata": {},
   "outputs": [],
   "source": []
  },
  {
   "cell_type": "code",
   "execution_count": null,
   "id": "76678c67-65b8-45e4-94e2-159caba9f13e",
   "metadata": {},
   "outputs": [],
   "source": []
  }
 ],
 "metadata": {
  "kernelspec": {
   "display_name": "Python 3 (ipykernel)",
   "language": "python",
   "name": "python3"
  },
  "language_info": {
   "codemirror_mode": {
    "name": "ipython",
    "version": 3
   },
   "file_extension": ".py",
   "mimetype": "text/x-python",
   "name": "python",
   "nbconvert_exporter": "python",
   "pygments_lexer": "ipython3",
   "version": "3.8.11"
  }
 },
 "nbformat": 4,
 "nbformat_minor": 5
}
