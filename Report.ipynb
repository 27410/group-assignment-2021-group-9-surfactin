{
 "cells": [
  {
   "cell_type": "markdown",
   "metadata": {},
   "source": [
    "# [Title]"
   ]
  },
  {
   "cell_type": "markdown",
   "metadata": {},
   "source": [
    "## 1. Introduction"
   ]
  },
  {
   "cell_type": "markdown",
   "metadata": {
    "tags": []
   },
   "source": [
    "### 1.1 Literature review of the compound (<500 words)"
   ]
  },
  {
   "cell_type": "markdown",
   "metadata": {},
   "source": [
    "#### Current and potential applications of Surfactin\n",
    "Surfactin is a versatile compound belonging to the surfactant group of molecules, which are characterized by their ability to lower the surface tension between a liquid and either another liquid, gas or solid.[1] This ability originates from the structural composition of surfactin, which contains both hydrophilic and lipophilic properties. \n",
    "\n",
    "Surfactin is naturally produced by species such as Basillus subtilis, where it was first discovered. It was first isolated as a fibrin clotting inhibitor but has been proven to possess therapeutic properties and is most commonly used as an antibiotic. \n",
    "\n",
    "An increasing need for solutions for ecological challenges has renewed the interest in surfactin, since is possess great potential in enhanced oil recovery and bioremediation of contaminated soils and subsurface environments.[2] \n",
    "\n",
    "#### Market potential of Surfactin\n",
    "he expected Compound Annual Growth Rate (CAGR) of surfactants is 4.5 % as forecasted in the period of 2020 to 2025, reaching an market size of 52.4 billion USD.[5]\n",
    "\n",
    "#### Biosynthetic pathway of Surfactin\n",
    "The pathway of surfactin production is divided in to three main stages; precursor supplement, synthase transcription and export. "
   ]
  },
  {
   "cell_type": "markdown",
   "metadata": {},
   "source": [
    "### 1.2 Literature review of the cell factory (<500 words)"
   ]
  },
  {
   "cell_type": "code",
   "execution_count": null,
   "metadata": {},
   "outputs": [],
   "source": []
  },
  {
   "cell_type": "markdown",
   "metadata": {},
   "source": [
    "## 2. Problem definition (<300 words)"
   ]
  },
  {
   "cell_type": "markdown",
   "metadata": {},
   "source": [
    "## 3. *If Project category I:* Reconstruction of a new GSM for your cell factory host of interest (<1500 words)"
   ]
  },
  {
   "cell_type": "markdown",
   "metadata": {},
   "source": [
    "or"
   ]
  },
  {
   "cell_type": "markdown",
   "metadata": {},
   "source": [
    "## 3. *If Project category II:* Selection and assessment of existing GSM (<500 words)"
   ]
  },
  {
   "cell_type": "markdown",
   "metadata": {},
   "source": [
    "## 4. Computer-Aided Cell Factory Engineering (<1500 words if Category II project; <500 words for Category I project)"
   ]
  },
  {
   "cell_type": "markdown",
   "metadata": {},
   "source": [
    "## 5. Discussion (<500 words)"
   ]
  },
  {
   "cell_type": "markdown",
   "metadata": {},
   "source": [
    "## 6. Conclusion (<200 words)"
   ]
  },
  {
   "cell_type": "markdown",
   "metadata": {},
   "source": [
    "## References\n",
    "\n",
    "1.\n",
    "Brandl J, Aguilar-Pontes MV, Schäpe P, et al. A community-driven reconstruction of the Aspergillus niger metabolic network. Fungal Biol Biotechnol. 2018;5. doi:10.1186/s40694-018-0060-7 (This is an example from the ealier report - it seems they have just added their sources manually here and in the text). "
   ]
  },
  {
   "cell_type": "code",
   "execution_count": null,
   "metadata": {},
   "outputs": [],
   "source": []
  }
 ],
 "metadata": {
  "kernelspec": {
   "display_name": "Python 3 (ipykernel)",
   "language": "python",
   "name": "python3"
  },
  "language_info": {
   "codemirror_mode": {
    "name": "ipython",
    "version": 3
   },
   "file_extension": ".py",
   "mimetype": "text/x-python",
   "name": "python",
   "nbconvert_exporter": "python",
   "pygments_lexer": "ipython3",
   "version": "3.8.11"
  }
 },
 "nbformat": 4,
 "nbformat_minor": 4
}
