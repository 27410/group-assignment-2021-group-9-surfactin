{
 "cells": [
  {
   "cell_type": "code",
   "execution_count": 13,
   "metadata": {},
   "outputs": [],
   "source": [
    "from IPython.display import FileLink, FileLinks"
   ]
  },
  {
   "cell_type": "markdown",
   "metadata": {},
   "source": [
    "# Modelling surfactin production in *Bacillus subtilis* strain 168"
   ]
  },
  {
   "cell_type": "markdown",
   "metadata": {},
   "source": [
    "## 1. Introduction"
   ]
  },
  {
   "cell_type": "markdown",
   "metadata": {
    "tags": []
   },
   "source": [
    "### 1.1 Literature review of the compound"
   ]
  },
  {
   "cell_type": "markdown",
   "metadata": {},
   "source": [
    "#### Current and potential applications of Surfactin\n",
    "Surfactin is a versatile compound belonging to the surfactant group of molecules, which are characterized by their ability to lower the surface tension between a liquid and either another liquid, gas or solid.[1] This ability originates from the structural composition of surfactin, which contains both hydrophilic and lipophilic properties. \n",
    "\n",
    "Surfactin is naturally produced by species such as *Bacillus subtilis*, where it was first discovered. It was first isolated as a fibrin clotting inhibitor but has been proven to possess therapeutic properties and is most commonly used as an antibiotic. \n",
    "\n",
    "#### Market potential of Surfactin\n",
    "he expected Compound Annual Growth Rate (CAGR) of surfactants is 4.5 % as forecasted in the period of 2020 to 2025, reaching an market size of 52.4 billion USD.[5]\n",
    "\n",
    "#### Biosynthetic pathway of Surfactin\n",
    "The pathway of surfactin production is divided in to three main stages; precursor supplement, synthase transcription and export. "
   ]
  },
  {
   "cell_type": "markdown",
   "metadata": {},
   "source": [
    "![](\\\\Pics\\\\pathway.png)"
   ]
  },
  {
   "cell_type": "markdown",
   "metadata": {},
   "source": [
    "*Figure 1 - Schematic overview of the synthesis of Surfactin. Figure made by Wu et al., \"Anticancer Activities of Surfactin and Potential Application of Nanotechnology Assisted Surfactin Delivery\" [https://www.researchgate.net/publication/320645996_Anticancer_Activities_of_Surfactin_and_Potential_Application_of_Nanotechnology_Assisted_Surfactin_Delivery]*"
   ]
  },
  {
   "cell_type": "markdown",
   "metadata": {},
   "source": [
    "### 1.2 Literature review of the cell factory"
   ]
  },
  {
   "cell_type": "markdown",
   "metadata": {},
   "source": [
    "#### General advantages\n",
    "Bacillus subtilis is a gram positive bacteria  which has been studied for more than half a decade since the beginning of molecular biology. Because of this there is already a great knowledge of the organism, which among other benefits has lead to the organism being generally considered as safe (GRAS) and several tools have been developed for gene editing of B. subtilis. Besides this, it is a very easy organism to work with as it has a natural competence for DNA uptake, which is an important feature in order to implement desired and designed cellular functions, mechanisms and pathways. As a result of this, B. subtilis is already widely exploited in the industry as a cell factory for enzymes, medicine, biomaterials etc. This is not only because the aforementioned benefits makes it easy to express heterologous proteins but also because B. subtilis has many advantages on its own. B. subtilis is easy to cultivate on cheap substrates, a short fermentation cycle of 48 hours, efficient protein secretion ability making downstream processing of products easy. Last but not least this bacteria is very tolerant towards nutrient depletion and temperature changes as it has the capability to form dormant spores.\n",
    "https://findit.dtu.dk/en/catalog/2597163948  \n",
    "https://findit.dtu.dk/en/catalog/2610308654 \n",
    "https://www-sciencedirect-com.proxy.findit.dtu.dk/science/article/pii/B9780123739445000365?via%3Dihub \n",
    "\n",
    "#### Disadvantages\n",
    "For optimal genome editing, some disadvantages of this cell factory still lie in that not everything is understood in the dynamic metabolic regulation in response to cell engineering for enhanced production of a certain compound. This lack of balance between cellular growth and product synthesis restricts further optimization of B. subtilis cell factories. \n",
    "https://findit.dtu.dk/en/catalog/2610308654\n",
    "https://www-sciencedirect-com.proxy.findit.dtu.dk/science/article/pii/B9780123739445000365?via%3Dihub \n",
    "In fermentation, Bacillus subtilis presents the problem of foaming in cases where production occurs aerobically as in the case of surfactin. Strong foam hinders the exploitation of the full capacity of the bioreactor, thus leading to lower yields. Another problem with the aerobic production of surfactin is seen in large scale, where it is very challenging to distribute enough air to the individual microorganisms in the tank.\n",
    "https://findit.dtu.dk/en/catalog/2607790020 \n",
    "\n",
    "#### Suitability of the cell factory for the product\n",
    "Synthesis of surfactin requires large enzyme complexes such as the surfactin synthase complex. It is therefore beneficial to utilize natural producers of surfactin, as they already have developed the machinery for producing and assembling the lipids and peptides needed for the end product. Besides this they will also contain other necessary elements such as surfactin exporters which are needed both for the secretion of the product and for the cell to better tolerate producing the product. Even though some microbes produce surfactin, it is still toxic for the cell which is important to take into consideration when developing high-producing cell factories. It is however easier and less time consuming to optimize an already existing pathway instead of integrating the several elements for surfactin production.  Based on these considerations, it would be suitable to use B. subtilis as the cell factory for surfactin, as it is a natural producer with the advantages and disadvantages as earlier mentioned. If one should consider other options for a surfactin cell factory it could be other natural producers of surfactin such as B. velezenis H3 (Liu et al., 2010) or B. licheniformis KGL11(Lin et al., 1998), though with the disadvantage of these being less studied. \n",
    "https://findit.dtu.dk/en/catalog/2346817002  \n",
    "(Exam paper)\n"
   ]
  },
  {
   "cell_type": "markdown",
   "metadata": {},
   "source": [
    "## 2. Problem definition"
   ]
  },
  {
   "cell_type": "markdown",
   "metadata": {},
   "source": [
    "The main issue that needs to be overcome to enable commercial surfactin production is the low production rate of surfactin. Natural producers of surfactin have low titers, generally around 1.0 g/L ### [our paper]####. This low production rate is mainly caused by the properties of surfactin itself. Surfactin is toxic to the cell and thus natural producers have a sensing system, which only allows for low titers of surfactin. \n",
    "Wu et al. were successful in increasing surfactin production in b. subtilis strain 168 experimentally using genetic modification. The optimizations that were done by Wu et al. will be the same optimizations that will be explored using the metabolic model. The modifications focus mostly on making more precursors available for surfactin production and increasing surfactin export and resistance.\n",
    "To increase the surfactin production they first knocked out competitor pathways for precursor metabolites, so that more precursors were available for the production of surfactin. Additionally they overexpressed target genes for the surfactin production pathway using promoter substitution. For more available precursors, the production of branched chain fatty acids was increased, which is one of the main precursors of surfactin. Lastly to have more precursors available for surfactin production energy and metabolites were directed away from cell growth and towards surfactin production by the overexpression of the srfA operon, which catalyzes surfactin production. As surfactin is toxic to the cell and indirectly negatively regulates its production, tolerance to surfactin had to be increased. To this end surfactin secretion was increased by overexpression of genes and another gene believed to enable the survival of b. subtilis in high concentrations of surfactin was overexpressed as well.\n"
   ]
  },
  {
   "cell_type": "markdown",
   "metadata": {},
   "source": [
    "or"
   ]
  },
  {
   "cell_type": "markdown",
   "metadata": {},
   "source": [
    "## 3. *If Project category II:* Selection and assessment of existing GSM "
   ]
  },
  {
   "cell_type": "markdown",
   "metadata": {},
   "source": [
    "For this project the model chosen is iYO844 [bigg]. From searching BiGG Models, this seems to be the only model available for this particular strain. This GSM comes from an article published in PubMed in 2007 [1]. Since then, its publication article has been cited in 166 other articles. According to BiGG Model, iYO844 includes 990 metabolites, 1250 reactions, and 844 genes [bigg]. The publication article states that the model is missing 613 unique metabolites which were found in silico. Even though this is the case, iYO844 has high prediction rates according to its publication data. Specifically, the authors saw 74% agreement in phenotypical behaviours for substrate utilization and 94% agreement in the outcome of single-gene deletions [1]. \n",
    "Bacillus subtilis subsp. subtilis str. 168 was chosen due to the fact that this project is following an article's wet lab modifications, specifically an article with focus on engineering surfactin production in B. subtilis[2]. This project’s plan is to perform an assessment on iYO844 by following the results given in this article. \n",
    "From the given data from the publication article, one would expect the model to give similar final results to the results seen in the wet lab version. The aim will be to see if we can compute a better yield than found in wet lab and see which modifications lead to this improvement. \n",
    "\n",
    "The model was uploaded to Memote for assessment. \n",
    "Consistency\n",
    "Memote gave an overall annotation score of 86% for this model, with the biggest problem being missing annotations for the genes in all other databases but ncbigene. The model was given a high metabolic coverage with 1.48, meaning that the model is detailed. Memote also shows that the model only includes 779 unique metabolites, and that the higher number given in the model metrics is due to the compartmentalization of the model. No duplicates are seen under metabolites or reactions. \n",
    "\n",
    "All in all, iYO844 could be improved on, as stated in the publication article. It is hard to get models to completely incompass real life and this model does it’s job well. For the usage planned in this project, this is the model to choose, and if one was to work with B. subtilis str. 168 then this model would also fulfill its purpose. \n",
    "\n",
    "references: \n",
    "[1 ]https://pubmed.ncbi.nlm.nih.gov/17573341/\n",
    "biig http://bigg.ucsd.edu/models/iYO844\n",
    "[2] our article Qun Wu et al \n",
    "will it keep report open so u guys can see it? - https://memote.io/report/b66d7bca-8a5e-436b-92db-043a46db5661\n",
    "cite memote\n",
    "Lieven, Christian, Moritz E. Beber, Brett G. Olivier, Frank T. Bergmann, Meric Ataman, Parizad Babaei, Jennifer A. Bartell, et al. 2020. “MEMOTE for Standardized Genome-Scale Metabolic Model Testing.” Nature Biotechnology, March. https://doi.org/10.1038/s41587-020-0446-y."
   ]
  },
  {
   "cell_type": "markdown",
   "metadata": {},
   "source": [
    "## 4. Computer-Aided Cell Factory Engineering (<1500 words if Category II project)"
   ]
  },
  {
   "cell_type": "markdown",
   "metadata": {},
   "source": [
    "#### Text for Optimization tools:\n",
    "Comparing the rational knockouts provided by the paper to an computationally based knockout approach, might provide some options which wouldn’t have been considered otherwise due to the complex nature of metabolic systems. The cameo package provides two knockout algorithms, namely OptKnock and Optgene. We’ll utilize the Optgene algorithm as it is based on an evolutionary approach which suggests several potential knockouts of different genes meaning that you can screen for a fitting mutant among these options. On the other hand OptKnock might not provide a result that can be used in the lab as it is reaction based and spits out a result after having tried out all the different combinations of knockouts before finding the one best mutant which makes the cell produce the product in order to grow. \n",
    "OptGene does however also have a few downsides.\n",
    "\n"
   ]
  },
  {
   "cell_type": "markdown",
   "metadata": {},
   "source": [
    "## 5. Discussion (<500 words)"
   ]
  },
  {
   "cell_type": "markdown",
   "metadata": {},
   "source": [
    "## 6. Conclusion (<200 words)"
   ]
  },
  {
   "cell_type": "markdown",
   "metadata": {},
   "source": [
    "## References\n",
    "\n",
    "1.\n",
    "https://books.google.dk/books?id=1rCdNIzB78AC&redir_esc=y\n",
    "\n",
    "2.\n",
    "https://microbialcellfactories.biomedcentral.com/articles/10.1186/s12934-019-1089-x\n",
    "\n",
    "3.\n",
    "https://www.marketwatch.com/press-release/surfactant-market---global-outlook-forecast-2021-2026-2021-09-22?tesla=y\n",
    "\n",
    "4.\n",
    "https://www.databridgemarketresearch.com/reports/global-surfactant-market\n",
    "\n",
    "5.\n",
    "https://www.marketsandmarkets.com/Market-Reports/biosurfactants-market-493.html"
   ]
  },
  {
   "cell_type": "code",
   "execution_count": null,
   "metadata": {},
   "outputs": [],
   "source": [
    "6. "
   ]
  },
  {
   "cell_type": "code",
   "execution_count": null,
   "metadata": {},
   "outputs": [],
   "source": []
  }
 ],
 "metadata": {
  "kernelspec": {
   "display_name": "Python 3 (ipykernel)",
   "language": "python",
   "name": "python3"
  },
  "language_info": {
   "codemirror_mode": {
    "name": "ipython",
    "version": 3
   },
   "file_extension": ".py",
   "mimetype": "text/x-python",
   "name": "python",
   "nbconvert_exporter": "python",
   "pygments_lexer": "ipython3",
   "version": "3.8.11"
  }
 },
 "nbformat": 4,
 "nbformat_minor": 4
}
