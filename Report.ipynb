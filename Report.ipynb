{
 "cells": [
  {
   "cell_type": "code",
   "execution_count": 4,
   "metadata": {},
   "outputs": [],
   "source": [
    "from IPython.display import FileLink, FileLinks"
   ]
  },
  {
   "cell_type": "markdown",
   "metadata": {},
   "source": [
    "# Modelling surfactin production in *Bacillus subtilis* strain 168"
   ]
  },
  {
   "cell_type": "markdown",
   "metadata": {},
   "source": [
    "## 1. Introduction"
   ]
  },
  {
   "cell_type": "markdown",
   "metadata": {
    "tags": []
   },
   "source": [
    "### 1.1 Literature review of the compound"
   ]
  },
  {
   "cell_type": "markdown",
   "metadata": {},
   "source": [
    "#### Current and potential applications of Surfactin\n",
    "Surfactin is a versatile compound belonging to the surfactant group of molecules, which are characterized by their ability to lower the surface tension between a liquid and either another liquid, gas or solid (Rosen et al., 2012). This ability originates from the structural composition of surfactin, which contains both hydrophilic and lipophilic properties.\n",
    "\n",
    "Surfactin is naturally produced by bacteria such as *Bacillus subtilis*, where it was first discovered. It was first isolated as a fibrin clotting inhibitor but has been proven to possess other valuable properties, allowing for surfactin to be used in a wide variety of fields. These fields include therapeutics, often due to its antimicrobial properties, as well as food processing and cosmetics (Wu et al., 2019). Besides uses in products for human consumption, surfactin also possesses great potential in enhanced oil recovery and bioremediation playing into the increasing need for solutions for ecological challenges such as contaminated soils and subsurface environments (Hu et al., 2019). \n",
    "\n",
    "#### Market potential of Surfactin\n",
    "The expected Compound Annual Growth Rate (CAGR) of surfactants is 4.5 % as forecasted in the period of 2020 to 2025, reaching a market size of 52.4 billion USD (MARKETS&MARKETS, 2019). \n",
    "\n",
    "The main driver of the increasing biosurfactant market is an increasing focus on the environment in relation to the protection and removal of toxic chemicals. Besides this, a general increase in market is observed due to surfactant use in personal care and cosmetics, as well as the food and beverage industries (Marketwatch, 2021).\n",
    "Current yields of surfactin from cell factories can not compete with synthetically produced surfactants, but if one were successful in reaching high titers, a huge market potential for biosurfactants exists, due to demand for more sustainable and bio-based products (Wu et al., 2019).\n",
    "\n",
    "#### Biosynthetic pathway of Surfactin\n",
    "The pathway of surfactin production is divided into three main stages; supplement of precursors, synthase transcription and export. The precursors needed for surfactin synthesis includes amino acids leucine, glutamate, aspartate and valine, as well as one of four fatty acids (S)-3-Hydroxydodecanoyl-CoA, tetradecanoyl-CoA, (S)-3-Hydroxyhexadecanoyl-CoA, and 3-oxohexadecanoyl-CoA (Kraas, 2010). \n",
    "\n",
    "The synthesis of surfactin happens via a linear, non-ribosomal peptide synthetase (NRPS). The NRPS consists of multiple modules which are  srfA-A, srfA-B, srfA-C and srfA-D. A module is a portion of the NRPS that incorporates an amino acid into a peptide backbone. The modules srfA-A and srfA-B encode peptide synthetases which catalyzes the activation and incorporation of the amino acids glutamate, aspartate, valine and leucine. The last amino acid, another leucine, is handled by the srfA-C module. The final module srfA-D encodes a protein similar to thioesterases, a supportive repair enzyme. The addition of fatty acids are performed by activation of the fatty acids by CoA, though some parts of the mechanisms remain unknown. After cyclization, the surfactin is exported by transporters, such as YerP (Kraas, 2010).\n"
   ]
  },
  {
   "cell_type": "markdown",
   "metadata": {},
   "source": [
    "![](\\\\Pics\\\\pathway.png)"
   ]
  },
  {
   "cell_type": "markdown",
   "metadata": {},
   "source": [
    "*Figure 1 - Schematic overview of the synthesis of Surfactin. Figure made by Wu et al., \"Anticancer Activities of Surfactin and Potential Application of Nanotechnology Assisted Surfactin Delivery\" [https://www.researchgate.net/publication/320645996_Anticancer_Activities_of_Surfactin_and_Potential_Application_of_Nanotechnology_Assisted_Surfactin_Delivery]*"
   ]
  },
  {
   "cell_type": "markdown",
   "metadata": {},
   "source": [
    "### 1.2 Literature review of the cell factory"
   ]
  },
  {
   "cell_type": "markdown",
   "metadata": {},
   "source": [
    "#### General advantages\n",
    "*Bacillus subtilis* is a gram positive bacteria which has been studied since the beginning of molecular biology. Because of this, there is a great knowledge of the organism, which has made it possible to give the organism the status “generally considered as safe” (GRAS) and several tools have been developed for gene editing of *B. subtilis*. As a result, it is widely exploited in the industry as a cell factory for enzymes, medicine, biomaterials etc. *B. subtilis* also has industrially relevant benefits which are that it is easy to cultivate on cheap substrates, has a short fermentation cycle of 48 hours, and efficient protein secretion ability making downstream processing of products easy. Lastly,  it is very tolerant towards nutrient depletion and temperature changes as it has the capability to form dormant spores (Su et al, 2020 ; Yoshida & van Dijl, 2020 ; Piggot, 2009). For this project a specific strain has been chosen, *Bacillus subtilis subsp. subtilis* str. 168. This is because it is easy  to implement desired and designed cellular functions, mechanisms and pathways because it has a natural competence for DNA uptake. This strain is already used in the industry and therefore is approved for commercial use (Wu et al., 2019). \n",
    "\n",
    "#### Disadvantages\n",
    "Despite *B. subtilis* having been widely studied, not everything about its dynamic metabolic regulation and how it responds to the engineering of an enhanced product is fully understood. The engineering might disrupt the balance between cellular growth and product synthesis, which restricts further optimization of *B. subtilis* cell factories (Yoshida & van Dijl, 2020). In fermentation, *B. subtilis* presents the problem of foaming in cases where production occurs aerobically as in the case of surfactin. Strong foam hinders the exploitation of the full capacity of the bioreactor, thus leading to lower yields. Another problem with the aerobic production of surfactin is seen when moving to large scale, where it is very challenging to distribute enough air to the individual microorganisms in the tank (Hoffman et al., 2020).\n",
    "\n",
    "#### Suitability of the cell factory for the product\n",
    "Synthesis of surfactin requires large enzyme complexes such as the surfactin synthase complex. It is therefore beneficial to utilize natural producers of surfactin, as they already have developed the machinery for producing and assembling the lipids and peptides needed for the end product. Besides this they also contain other necessary elements such as surfactin exporters which are needed both for the secretion of the product and for the cell to better tolerate producing the product. Even though some microbes produce surfactin, it is still toxic for the cell which is important to take into consideration when developing high-producing cell factories. It is however easier and less time consuming to optimize an already existing pathway instead of integrating the several elements for surfactin production. For *B. subtilis* most strains are natural producers and/or tolerate higher surfactin levels compared to other species. Based on these considerations, it would be suitable to use *B. subtilis* as the cell factory for surfactin with the advantages earlier mentioned. If one should consider other options for a surfactin cell factory it could be other natural producers of surfactin such as *B. velezenis* H3 or *B. licheniformis* KGL11, though with the disadvantage of these being less studied (Vedaraman & Venkatesh, 2011 ; Wu et al., 2019). \n"
   ]
  },
  {
   "cell_type": "markdown",
   "metadata": {},
   "source": [
    "## 2. Problem definition"
   ]
  },
  {
   "cell_type": "markdown",
   "metadata": {},
   "source": [
    "The main issue that needs to be overcome to enable commercial surfactin production is the low production rate of surfactin. Natural producers of surfactin have low titers, generally around 1.0 g/L (Wu et al., 2019). This low production rate is mainly caused by the properties of surfactin itself. Surfactin is toxic to the cell and thus natural producers have a sensing system, which only allows for low titers of surfactin. So there is a need for increasing surfactin production.\n",
    "\n",
    "Wu et al. (2019) were successful in increasing surfactin production in *B. subtilis* strain 168 experimentally using genetic modification. The optimizations done by Wu et al. (2019) focused mostly on making more precursors available for surfactin production and increasing surfactin export and resistance. \n",
    "\n",
    "In this project the aim is to find optimizations using an *in silico* model of *B. subtilis* strain 168. This will be done by first knocking in surfactin and then running various analyses to find ways to increase surfactin production. Targets that will be investigated are possible knock-out and up- or downregulation targets, as well as possible cofactor swaps, additionally media optimization will be investigated. \n",
    "\n"
   ]
  },
  {
   "cell_type": "markdown",
   "metadata": {},
   "source": [
    "## 3. Selection and assessment of existing GSM "
   ]
  },
  {
   "cell_type": "markdown",
   "metadata": {},
   "source": [
    "For this project the model chosen is iYO844 (BiGG, 2019). From searching BiGG Models, this seems to be the only model available for this particular strain. This GSM comes from an article published in PubMed in 2007 (Oh et al., 2007). Since then, its publication article has been cited in 166 other articles. According to BiGG Model, iYO844 includes 990 metabolites, 1250 reactions, and 844 genes (BiGG, 2019). The publication article states that the model is missing 613 unique metabolites which were found *in silico*. Even though this is the case, iYO844 has high prediction rates according to its publication data. Specifically, the authors saw 74% agreement in phenotypical behaviours for substrate utilization and 94% agreement in the outcome of single-gene deletions (Oh et al., 2007).\n",
    "\n",
    "The model was uploaded to Memote for assessment. For the overall consistency memote gives the model a total of 98%, with the mass balance at 94,4%. Where  57 reactions have metabolites without a formula or the overall mass not equal to 0. Memote gave an overall annotation score of 86% for this model, with the biggest problem being missing annotations for the genes in all other databases but ncbigene. The model was given a high metabolic coverage with 1.48, meaning that the model is detailed. Memote also shows that the model only includes 779 unique metabolites, and that the higher number given in the model metrics is due to the compartmentalization of the model. No duplicates are seen under metabolites or reactions (Lieven et al., 2020).\n",
    "\n",
    "All in all, iYO844 could be improved on, as stated in the publication article. It is hard to get models to completely incompass real life but this model does its job well. For the usage planned in this project, this is the model to choose, and if one was to work with *B. subtilis* str. 168 then this model would also fulfill its purpose. "
   ]
  },
  {
   "cell_type": "markdown",
   "metadata": {},
   "source": [
    "## 4. Computer-Aided Cell Factory Engineering "
   ]
  },
  {
   "cell_type": "markdown",
   "metadata": {},
   "source": [
    "#### Streamlining surfactin production in our model"
   ]
  },
  {
   "cell_type": "markdown",
   "metadata": {},
   "source": [
    "Since it is not known exactly how surfactin is produced a workaround was used to add it to our model. The components of surfactin were determined and the reaction was set up so that it produced a combination of these components. Due to surfactin having a variable fatty acid chain, multiple reactions were created, one for each fatty acid variation known. Therefore the model has four reactions added."
   ]
  },
  {
   "cell_type": "code",
   "execution_count": 5,
   "metadata": {},
   "outputs": [
    {
     "data": {
      "text/html": [
       "<a href='Analysis/Model.ipynb' target='_blank'>Analysis/Model.ipynb</a><br>"
      ],
      "text/plain": [
       "C:\\Users\\Natasha\\OneDrive\\Documents\\cell factories\\group-assignment-2021-group-9-surfactin\\Analysis\\Model.ipynb"
      ]
     },
     "execution_count": 5,
     "metadata": {},
     "output_type": "execute_result"
    }
   ],
   "source": [
    "FileLink('Analysis/Model.ipynb')"
   ]
  },
  {
   "cell_type": "markdown",
   "metadata": {},
   "source": [
    "Surfactin production was made the demand of the model which resulted in no biomass. This was fixed by determining the highest yield of biomass the model could produce and setting the lower bound of biomass production to 20% of this number.\n",
    "\n",
    "The next step was to look into the media. Literature points to sucrose as the optimal carbon source for surfactin production (Makkar et al., 2002). Studies have found that sucrose triggers a signaling cascade, which results in the extracellular synthesis of polymeric levan, which in turn stimulates strong production of surfactin (Zian et al., 2021). Therefore glucose was removed from the media, and sucrose was added. The effect of this on surfactin production was tested by looking at the fluxes of the surfactin reactions and thereafter calculating surfactin yield. \n"
   ]
  },
  {
   "cell_type": "code",
   "execution_count": 6,
   "metadata": {},
   "outputs": [
    {
     "data": {
      "text/html": [
       "<a href='Analysis/Calculations.ipynb' target='_blank'>Analysis/Calculations.ipynb</a><br>"
      ],
      "text/plain": [
       "C:\\Users\\Natasha\\OneDrive\\Documents\\cell factories\\group-assignment-2021-group-9-surfactin\\Analysis\\Calculations.ipynb"
      ]
     },
     "execution_count": 6,
     "metadata": {},
     "output_type": "execute_result"
    }
   ],
   "source": [
    "FileLink('Analysis/Calculations.ipynb')"
   ]
  },
  {
   "cell_type": "markdown",
   "metadata": {},
   "source": [
    "##### Table 1: The effect of media change on surfactin fluxes"
   ]
  },
  {
   "cell_type": "markdown",
   "metadata": {},
   "source": [
    "| Reactions      | Fluxes on glucose     | Fluxes on sucrose   |\n",
    "| :------------- | :----------: | -----------: |\n",
    "| SP_1   | 0.0746 | 0.3436 |\n",
    "| SP_2   | 0.0720 | 0.3436 |\n",
    "| SP_3   | 0.0701 | 0.3436 |\n",
    "| SP_4   | 0.0705 | 0.3436|\n",
    "| DM_surfactin   | 0.0746 | 0.3436|\n"
   ]
  },
  {
   "cell_type": "markdown",
   "metadata": {},
   "source": [
    "##### Table 2: Surfactin yields"
   ]
  },
  {
   "cell_type": "markdown",
   "metadata": {},
   "source": [
    "| Surfactin yield on glucose | Surfactin yield on sucrose |\n",
    "| :------------- | :----------: | \n",
    "| 0.0439 mmol-surfactin/mmol-glucose | 0.1132 mmol-surfactin/mmol-sucrose  |\n"
   ]
  },
  {
   "cell_type": "markdown",
   "metadata": {},
   "source": [
    "The tables above show the effect of sucrose as the carbon source. Firstly, the fluxes for all 4 reactions are higher, with the overall surfactin demand flux going from 0.0746 to 0.3436, which is a 360.5% relative increase. The second table shows that the yield of surfactin follows this increase, reaching 0.1132 mmol-surfactin/mmol-sucrose."
   ]
  },
  {
   "cell_type": "markdown",
   "metadata": {},
   "source": [
    "#### Phenotypic Phase Planes"
   ]
  },
  {
   "cell_type": "markdown",
   "metadata": {},
   "source": [
    "The effects of sucrose as the carbon source was examined by doing a phenotypic phase plane analysis. "
   ]
  },
  {
   "cell_type": "code",
   "execution_count": 7,
   "metadata": {},
   "outputs": [
    {
     "data": {
      "text/html": [
       "<a href='Analysis/Phenotypic_phase_planes.ipynb' target='_blank'>Analysis/Phenotypic_phase_planes.ipynb</a><br>"
      ],
      "text/plain": [
       "C:\\Users\\Natasha\\OneDrive\\Documents\\cell factories\\group-assignment-2021-group-9-surfactin\\Analysis\\Phenotypic_phase_planes.ipynb"
      ]
     },
     "execution_count": 7,
     "metadata": {},
     "output_type": "execute_result"
    }
   ],
   "source": [
    "FileLink('Analysis/Phenotypic_phase_planes.ipynb')"
   ]
  },
  {
   "cell_type": "markdown",
   "metadata": {},
   "source": [
    "These phase planes confirmed the conclusion that sucrose is better for surfactin production, showing that a higher surfactin flux can be reached. There is a limit to productivity, as an uptake above 50 shows no more increase in the surfactin flux. The analysis also showed that a higher flux was reached for biomass on glucose, meaning that using sucrose as the carbon source leads to slower growth for the organism.\n",
    "\n",
    "The effects of anaerobic/aerobic growth on surfactin production was assessed. When removing oxygen from the media and optimizing for surfactin production the results were infeasible, meaning that no growth was seen, possibly due to the model not containing anaerobic pathways leading to biomass or limitations of the coding. *B. subtilis* is most commonly an aerobe, but can under certain conditions be grown anaerobically (Hoffmann et al., 2020). This has not been researched further due to it not being the main focus of this project. \n"
   ]
  },
  {
   "cell_type": "markdown",
   "metadata": {},
   "source": [
    "#### Production Pathways"
   ]
  },
  {
   "cell_type": "markdown",
   "metadata": {},
   "source": [
    "The coding package Cameo can be used to find all potential production pathways that lead to production of surfactin. When running this code, no results were given, meaning that no output came from the terminal. This could be due to the fact that surfactin production is not known completely. It is known what components make up surfactin but the merging of these components is not yet understood. "
   ]
  },
  {
   "cell_type": "code",
   "execution_count": 8,
   "metadata": {},
   "outputs": [
    {
     "data": {
      "text/html": [
       "<a href='Analysis/Production_pathways.ipynb' target='_blank'>Analysis/Production_pathways.ipynb</a><br>"
      ],
      "text/plain": [
       "C:\\Users\\Natasha\\OneDrive\\Documents\\cell factories\\group-assignment-2021-group-9-surfactin\\Analysis\\Production_pathways.ipynb"
      ]
     },
     "execution_count": 8,
     "metadata": {},
     "output_type": "execute_result"
    }
   ],
   "source": [
    "FileLink('Analysis/Production_pathways.ipynb')"
   ]
  },
  {
   "cell_type": "markdown",
   "metadata": {},
   "source": [
    "#### Knockout strategies "
   ]
  },
  {
   "cell_type": "markdown",
   "metadata": {},
   "source": [
    "The goal here is to knockout genes that are not necessary for the production of surfactin nor biomass.  The cameo package provides two knockout algorithms, namely OptKnock and Optgene which has been utilized. Besides this, this part will also try knockout of some genes which have been tried out in wet lab (Wu et al., 2019).\n",
    "\n",
    "The highest increase in surfactin yield was computed with knockout targets suggested by the Optgene algorithm. Here was a knock-out suggestion which led to  an increase in yield of 8 %. This is not a big change, but it is a piece of the full puzzle in optimizing surfactin production. The functions of the top 3 best knockout targets in regards of yield can be seen in Table 3. "
   ]
  },
  {
   "cell_type": "markdown",
   "metadata": {},
   "source": [
    "##### Table 3: Top three knock-out targets"
   ]
  },
  {
   "cell_type": "markdown",
   "metadata": {},
   "source": [
    "| Methods | Target(s) | Related reactions | Yield increases |\n",
    "| :---|:---:|:---:|---:|\n",
    "| Optgene | ugtP & pgsA | UDP glucosyltransferase monoglucosyl, UDP glucosyltransferase diglucosyl, UDP glucosyltransferase triglucosyl, CDPdiacylglycerolsn glycerol 3 phosphate 3 phosphatidyltransferase | 8.0 %  | \n",
    "| Optgene | purT | GAR transformylase-T | 7.8 % | \n",
    "| Optgene | CYTB_B3 | menauinol oxidase | 7.6 % |"
   ]
  },
  {
   "cell_type": "markdown",
   "metadata": {},
   "source": [
    "These are likely non-essential reactions and genes that consume reagents in the precursor pathway. The results presented are not the same as the ones suggested by the paper, meaning that the computational method is able to find options which would not have been considered otherwise, due to the complex nature of metabolic systems. However, it is worth keeping in mind that the knockout suggestions by the reactions might not always be possible to carry out in a wet lab. "
   ]
  },
  {
   "cell_type": "markdown",
   "metadata": {},
   "source": [
    "#### Up- and down regulation targets"
   ]
  },
  {
   "cell_type": "markdown",
   "metadata": {},
   "source": [
    "To find possible up- and down regulation targets a flux scanning based on enforced objective flux (FSEOF) analysis was used as described by Choi et al. (2010). The FSEOF analysis optimizes an objective flux, generally biomass, while also enforcing an increased flux for a secondary objective. It then gives the fluxes of all reactions in the model with these two objectives. Fluxes that changed a lot might be good up- or down regulation targets. FSEOF analysis was used in our model with the main objective of biomass and the secondary objective surfactin production. To determine the best regulation targets the relative flux change was calculated by dividing the difference between the new and old flux by the old flux. The old flux being the flux using only biomass as an objective and the new flux being the flux using biomass as main objective and surfactin production as secondary objective.\n",
    "\n",
    "The five reactions with the highest relative flux change were validated by increasing the lower bound of the reaction to at least the flux found in the FSEOF analysis for upregulation targets, and decreasing the upper bound of the reaction to at least the flux found in the FSEOF analysis for downregulation targets. Of the five reactions, four reactions were found to have increased fluxes and one reaction was found to have a decreased flux. The surfactin production increased after enforcing these upper and lower bounds, together more than separately (table 4). The upper and lower bounds taken altogether increased  surfactin flux  to 3.05 e-16, which is a relative increase of 25.8. This suggests the found targets might be good targets for up- or downregulation. One of the targets was also seen to decrease biomass flux when the lower bound was enforced.\n",
    "\n",
    "The validation was then also done using surfactin as objective with a lower bound of 20% of normal biomass flux for biomass flux. The fluxes of the target reactions already changed more than their flux found in the FSEOF analysis, reiterating that the found target reactions might be suitable up- or downregulation targets. To investigate whether further up- or downregulation would increase surfactin production, upper or lower bounds were changed to 150% of their normal value with surfactin production as objective. Enforcing the fluxes did not change surfactin or biomass fluxes."
   ]
  },
  {
   "cell_type": "markdown",
   "metadata": {},
   "source": [
    "##### Table 4: Up- and downregulation targets"
   ]
  },
  {
   "cell_type": "markdown",
   "metadata": {},
   "source": [
    "| Reactions | Initial flux | Enforced flux | Relative flux increase | Surfactin flux | Relative surfactin flux increase| Gene symbol | Gene function |\n",
    "| :---|:---:|:---:|:---:|:---:|:---:|:---:|:---|\n",
    "| GLYO1 | 0.0 | 0.617 | ~ | 1.67e-16 | 13.3 | thiO | FAD-dependent glycine oxidase |\n",
    "|GLXCBL| 2.91e-15 | 0.309 | 1.06e14 | 2.22e-16 | 18.3 | poxB | acetyl-phosphate generating pyruvate oxidase |\n",
    "|HOXPRx| -1.89e-15 | -0.309 | 1.63e14 | 2.224e-16 | 18.3 | ohaC | beta-hydroxyacid dehydrogenase (acts on 3-hydroxypropionate with NADP) |\n",
    "|GLYCK| 0.0 | 0.309 | ~ | 2.224e-16 | 18.3 | glxK | D-glycerate kinase|\n",
    "|ASP1DC| -8.33e-17 | 0.309 | 3.71e17 | 2.76e-17 | 1.16 | panD | aspartate 1-decarboxylase|\n"
   ]
  },
  {
   "cell_type": "markdown",
   "metadata": {},
   "source": [
    "The regulation targets GLOY1, GLXBL and ASP1DC all play a role in the biosynthesis of the CoA enzyme, which is used in the production of surfactin. GLBXL is pyruvate oxidase producing, pyruvate oxidase was found to be critical in the biosynthesis of CoA in *Streptococcus pneumoniae* by Echlin et al. (2016), suggesting that this is a very important reaction in the production of the CoA enzyme. For HOXPRx and GLYCK no exact functions or relations to surfactin production were found, however, they are likely to be present in the same pathway as GLBXL as the fluxes increase or decrease to the same number and the relative change in surfactin flux is the same for the three reactions (table 4). "
   ]
  },
  {
   "cell_type": "markdown",
   "metadata": {},
   "source": [
    "#### Cofactor Swap Analysis"
   ]
  },
  {
   "cell_type": "markdown",
   "metadata": {},
   "source": [
    "To identify possible targets for cofactor swap from NADPH to NADH and vice versa, a cofactor swap analysis was performed. The native cofactor balance in a cell is not necessarily the most optimal for production of a targeted metabolite. Engineering the cofactor balance by swapping cofactors can change the fluxes and result in higher yields of valuable products and is therefore a strategy to consider when optimizing a production organism. In principle, this works by changing cofactor specificity of enzymes to use cofactors of a certain pool. This would free up cofactors belonging to another pool, which can then be diverted to reactions relevant for the biosynthesis of target metabolites (King et al., 2014). \n",
    "\n",
    "For the analysis, the optimization was performed for the four surfactin reactions, of which targets that were present for all four reactions were identified and analysed. Only three targets were chosen for further analysis as to limit the scope of the analysis. A wide variety of targets were identified for each, giving a wide array of possible optimization areas. \n",
    "\n",
    "The KAS3 is a synthetase involved in fatty acid synthesis, the GND in the pentose phosphate pathway and ACTD2 in the catabolism of acetoin, which is secreted by *B. subtilis* when other carbon sources are available. Upon their depletion, the acetoin is used as a carbon source instead (Raedts et al., 2014). \n",
    "\n",
    "Swapping cofactors for the chosen targets did increase the flux of surfactin, as seen in the table below, but only very slightly, raising the  question whether performing these swaps in wet lab would produce any noticeable results. The analysis did identify a lot of targets, of which some might provide more valuable results if one were to do a more comprehensive analysis.\n"
   ]
  },
  {
   "cell_type": "markdown",
   "metadata": {},
   "source": [
    "##### Table 5: Flux changes for three cofactor swap results"
   ]
  },
  {
   "cell_type": "markdown",
   "metadata": {},
   "source": [
    "| ID - Reaction      | Flux before swap    | Flux after swap   |\n",
    "| :------------- | :----------: | -----------: |\n",
    "| KAS3 - B-ketoacyl synthetase  |  0.2999253714285699 | 0.29992537142857134 |\n",
    "| GND - Phosphogluconate dehydrogenase  |0.29992537142856895 | 0.2999253714285733 |\n",
    "| ACTD2 - Acetoin dehydrogenase   | 0.29992537142856895 | 0.2999253714285712 |\n"
   ]
  },
  {
   "cell_type": "code",
   "execution_count": 10,
   "metadata": {},
   "outputs": [
    {
     "data": {
      "text/html": [
       "<a href='Analysis/cofactorswapanalysis.ipynb' target='_blank'>Analysis/cofactorswapanalysis.ipynb</a><br>"
      ],
      "text/plain": [
       "C:\\Users\\Natasha\\OneDrive\\Documents\\cell factories\\group-assignment-2021-group-9-surfactin\\Analysis\\cofactorswapanalysis.ipynb"
      ]
     },
     "execution_count": 10,
     "metadata": {},
     "output_type": "execute_result"
    }
   ],
   "source": [
    "FileLink('Analysis/cofactorswapanalysis.ipynb')"
   ]
  },
  {
   "cell_type": "markdown",
   "metadata": {},
   "source": [
    "## 5. Discussion"
   ]
  },
  {
   "cell_type": "markdown",
   "metadata": {},
   "source": [
    "When adding the heterologous expression of surfactin into the model, the components needed for surfactin had to be directed towards surfactin production. However, it was learnt that there is a limited knowledge about the utilization of these fatty acids. One of four different fatty acids could be utilized for each surfactin molecule (Wang et al,. 2019). From the model’s computations it seems the 3-hydroxydecanoyl-CoA fatty acid is preferred, as it is the only one showing a flux when running our model on all of the fatty acids. It is not known whether real-life will follow this development. \n",
    "\n",
    "After knock-in of surfactin production the yield calculated on sucrose was compared to the yield found from knock-in in the wet lab (Wu et al., 2019). This improved surfactin production with sucrose as carbon source was also verified by a phenotypic phase plane analysis. The computed surfactin yield was 0.113 mmol-surfactin/mmol-sucrose which is similar to the wet lab yield of 0.154 mmol-surfactin/mmol-sucrose. Despite this change which comes from insufficient research of the surfactin pathway, it is assumed that this model can be used for our optimization analyses.\n",
    "\n",
    "For further improvements of the cell factory, it was investigated whether surfactin could be produced anaerobically, as this would make the fermentation easier. This however killed the cell as *B. subtilis* is a facultative aerobic microorganism. In the future it might however become plausible to computationally work on this, as studies are looking at producing surfactin anaerobically by looking at the addition of alternative electron acceptors (Hoffmann et al., 2020).\n",
    "\n",
    "When focusing on increasing the yield of surfactin, different strategies were tried to find targets of genomic modifications. These were cofactor target swaps, up-and downregulation targets, and knock-out targets. In these analyses several targets were found, many of them which were targets that have not been previously investigated. Though the individual changes did not result in significant improvements to the surfactin yield, a combination of these changes might improve the cell factory for increased surfactin production. Especially when looking at the knockout targets, this might have other benefits than improving yield. As presented by Suárez et al. (2018), the researchers looked into a genome-reduced *Bacillus* cell factory for “difficult proteins”. Here it was shown that it is possible to remove 38% of the genome of a *B. subtilis* strain to obtain an efficient cell factory.\n",
    "\n",
    "In order to develop an improved computational cell factory for the production of surfactin, there would first need to be research of the fluxes of the four different fatty acids to surfactin, potentially done with isotopic labelling. Additionally, we would need to take it into consideration that surfactin is toxic for the cell, as this is important to consider when we are actually working with the organism. "
   ]
  },
  {
   "cell_type": "markdown",
   "metadata": {},
   "source": [
    "## 6. Conclusion "
   ]
  },
  {
   "cell_type": "markdown",
   "metadata": {},
   "source": [
    "In this project, we have worked with the GSM model of *B. subtilis* strain 168 in which we added the heterologous pathway of surfactin production and thereafter tried different strategies to improve the theoretical surfactin yield. The strategies used in this project were medium optimization, knockout, up- and downregulation, and cofactor swap. \n",
    "\n",
    "The results gained from this project show the important effect of media choice, as a 360% increase in flux was seen. The cofactor swap analysis gave results that affected the surfactin flux slightly, whereas FSEOF analysis gave a total increase by a factor of 25.8. Which points to an overall yield increase of surfactin. This project shows that there are effective ways to increase surfactin production via computational methods, which could be beneficial for wet lab studies. Bringing bio-synthetized surfactin a step closer to commercialization. \n"
   ]
  },
  {
   "cell_type": "markdown",
   "metadata": {},
   "source": [
    "## 7. References"
   ]
  },
  {
   "cell_type": "markdown",
   "metadata": {},
   "source": [
    "Aguilar Suárez, R., Stülke, J., & van Dijl, J. M. (2018). Less Is More: Toward a Genome-ReducedBacillusCell Factory for “Difficult Proteins.” ACS Synthetic Biology, 8(1), 99–108. https://doi.org/10.1021/acssynbio.8b00342\n",
    "BiGG Model iYO844. (2019). BiGG Models. Retrieved July 21, 2021, from http://bigg.ucsd.edu/models/iYO844 \n",
    "\n",
    "Burgard, A. P., Pharkya, P., & Maranas, C. D. (2003). Optknock: A bilevel programming framework for identifying gene knockout strategies for microbial strain optimization. Biotechnology and Bioengineering, 84(6), 647–657. https://doi.org/10.1002/bit.10803\n",
    "\n",
    "Choi, H. S., Lee, S. Y., Kim, T. Y., & Woo, H. M. (2010). In silico identification of gene amplification targets for improvement of lycopene production. Applied and environmental microbiology, 76(10), 3097–3105. https://doi.org/10.1128/AEM.00115-10\n",
    "\n",
    "Echlin, H., Frank, M. W., Iverson, A., Chang, T. C., Johnson, M. D., Rock, C. O., & Rosch, J. W. (2016). Pyruvate Oxidase as a Critical Link between Metabolism and Capsule Biosynthesis in Streptococcus pneumoniae. PLoS pathogens, 12(10), e1005951. https://doi.org/10.1371/journal.ppat.1005951 \n",
    "\n",
    "Hoffmann, M., Fernandez Cano Luna, D. S., Xiao, S., Stegemüller, L., Rief, K., Heravi, K. M., Lilge, L., Henkel, M., & Hausmann, R. (2020). Towards the Anaerobic Production of Surfactin Using Bacillus subtilis. Frontiers in Bioengineering and Biotechnology, 8. https://doi.org/10.3389/fbioe.2020.554903 \n",
    "\n",
    "Hu, F., Liu, Y. & Li, S. (2019). Rational strain improvement for surfactin production: enhancing the yield and generating novel structures. Microb Cell Fact 18, 42. https://doi.org/10.1186/s12934-019-1089-x\n",
    "Isabel Rocha, Paulo Maia, Miguel Rocha, Eugénio C. Ferreira. (2008). OptGene – a framework for in silico metabolic engineering. Integration of Life Sciences and Engineering. Published.\n",
    "\n",
    "King, Z, Adam M. Feist (2014). Optimal cofactor swapping can increase the theoretical yield for chemical production in Escherichia coli and Saccharomyces cerevisiae. Metabolic Engineering, Volume 24, 2014, Pages 117-128, ISSN 1096-7176, https://doi.org/10.1016/j.ymben.2014.05.009\n",
    "\n",
    "Kraas, F., Helmetag, V., Wittmann, M., Strieker, M., Marahiel, M. A. (2010). Functional Dissection of Surfactin Synthetase Initiation Module Reveals Insights into the Mechanism of Lipoinitiation, Chemistry & Biology, Volume 17, Issue 8, Pages 872-880, ISSN 1074-5521, https://doi.org/10.1016/j.chembiol.2010.06.015.\n",
    "\n",
    "Lieven, Christian, Moritz E. Beber, Brett G. Olivier, Frank T. Bergmann, Meric Ataman, Parizad Babaei, Jennifer A. Bartell, et al. 2020. “MEMOTE for Standardized Genome-Scale Metabolic Model Testing.” Nature Biotechnology, March. https://doi.org/10.1038/s41587-020-0446-y.\n",
    "https://memote.io/report/8dcc4e65-014f-456b-9cc4-93f27759553d - our memote (will close so i dont think we need to add to our references, but more if u guys wanna see)\n",
    "\n",
    "Makkar, R. S., & Cameotra, S. S. (2002). Effects of various nutritional supplements on biosurfactant production by a strain of Bacillus subtilis at 45°C. Journal of Surfactants and Detergents, 5(1), 11–17. https://doi.org/10.1007/s11743-002-0199-8\n",
    "\n",
    "MARKETS&MARKETS (2019). Surfactants Market by Type (Anionic, Non-Ionic, Cationic, and Amphoteric), Application (Home Care, Personal Care, Industrial & Institutional Cleaning, Textile, Elastomers & Plastics, Agrochemicals, and Food & Beverage), Region - Global Forecast to 2025\n",
    "(https://www.marketsandmarkets.com/Market-Reports/biosurfactants-market-493.html)\n",
    "\n",
    "Marketwatch (2021). Surfactant Market - Global Outlook & Forecast 2021-2026. (https://www.marketwatch.com/press-release/surfactant-market---global-outlook-forecast-2021-2026-2021-09-22?tesla=y)\n",
    "\n",
    "Nakano, M. M., & Zuber, P. (1998). ANAEROBIC GROWTH OF A “STRICT AEROBE” (BACILLUS SUBTILIS). Annual Review of Microbiology, 52(1), 165–190. https://doi.org/10.1146/annurev.micro.52.1.165\n",
    "\n",
    "Oh, Y. K., Palsson, B. O., Park, S. M., Schilling, C. H., & Mahadevan, R. (2007). Genome-scale Reconstruction of Metabolic Network in Bacillus subtilis Based on High-throughput Phenotyping and Gene Essentiality Data. Journal of Biological Chemistry, 282(39), 28791–28799. https://doi.org/10.1074/jbc.m703759200\n",
    "\n",
    "Piggot, P. (2009). Bacillus Subtilis. Encyclopedia of Microbiology, 45–56. https://doi.org/10.1016/b978-012373944-5.00036-5 \n",
    "\n",
    "Raedts, J., Siemerink, M. A., Levisson, M., van der Oost, J., & Kengen, S. W. (2014). Molecular characterization of an NADPH-dependent acetoin reductase/2,3-butanediol dehydrogenase from Clostridium beijerinckii NCIMB 8052. Applied and environmental microbiology, 80(6), 2011–2020. https://doi.org/10.1128/AEM.04007-13\n",
    "\n",
    "Rosen, M., Kunjappu, J. (2012). Characteristic features of Surfactants (pages 1-38), Surfactants and interfacial phenomena DOI:10.1002/9781118228920\n",
    "\n",
    "Su, Y., Liu, C., Fang, H., & Zhang, D. (2020). Bacillus subtilis: a universal cell factory for industry, agriculture, biomaterials and medicine. Microbial Cell Factories, 19(1). https://doi.org/10.1186/s12934-020-01436-8 \n",
    "\n",
    "Tian, T., Sun, B., Shi, H., Gao, T., He, Y., Li, Y., Liu, Y., Li, X., Zhang, L., Li, S., Wang, Q., & Chai, Y. (2021). Sucrose triggers a novel signaling cascade promoting Bacillus subtilis rhizosphere colonization. The ISME Journal, 15(9), 2723–2737. https://doi.org/10.1038/s41396-021-00966-2\n",
    "\n",
    "Vedaraman, N., & Venkatesh, N. (2011). Production of surfactin by bacillus subtilis mtcc 2423 from waste frying oils. Brazilian Journal of Chemical Engineering, 28(2), 175–180. https://doi.org/10.1590/s0104-66322011000200001\n",
    "\n",
    "Wang, C., Cao, Y., Wang, Y., Sun, L., & Song, H. (2019). Enhancing surfactin production by using systematic CRISPRi repression to screen amino acid biosynthesis genes in Bacillus subtilis. Microbial Cell Factories, 18(1). https://doi.org/10.1186/s12934-019-1139-4\n",
    "\n",
    "Wu, Q.,  Zhi, Z., Xu, Y., (2019). Systematically engineering the biosynthesis of a green biosurfactant surfactin by Bacillus subtilis 168, Metabolic Engineering, Volume 52, Pages 87-97, ISSN 1096-7176, \n",
    "https://doi.org/10.1016/j.ymben.2018.11.004.\n",
    "\n",
    "Yoshida, K. I., & van Dijl, J. M. (2020). Engineering Bacillus subtilis Cells as Factories: Enzyme Secretion and Value-added Chemical Production. Biotechnology and Bioprocess Engineering, 25(6), 872–885. https://doi.org/10.1007/s12257-020-0104-8 "
   ]
  },
  {
   "cell_type": "code",
   "execution_count": null,
   "metadata": {},
   "outputs": [],
   "source": []
  }
 ],
 "metadata": {
  "kernelspec": {
   "display_name": "Python 3 (ipykernel)",
   "language": "python",
   "name": "python3"
  },
  "language_info": {
   "codemirror_mode": {
    "name": "ipython",
    "version": 3
   },
   "file_extension": ".py",
   "mimetype": "text/x-python",
   "name": "python",
   "nbconvert_exporter": "python",
   "pygments_lexer": "ipython3",
   "version": "3.8.11"
  }
 },
 "nbformat": 4,
 "nbformat_minor": 4
}
