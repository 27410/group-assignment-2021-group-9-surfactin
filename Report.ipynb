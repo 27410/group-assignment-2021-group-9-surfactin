{
 "cells": [
  {
   "cell_type": "code",
   "execution_count": 13,
   "metadata": {},
   "outputs": [],
   "source": [
    "from IPython.display import FileLink, FileLinks"
   ]
  },
  {
   "cell_type": "markdown",
   "metadata": {},
   "source": [
<<<<<<< HEAD
    "# Biosynthesis of surfantin in *Bacillus subtilis*"
=======
    "# Modelling surfactin production in *Bacillus subtilis* strain 168"
>>>>>>> 953d0f5ace7cd87d0a26b5d1030ab1445b28ccd2
   ]
  },
  {
   "cell_type": "markdown",
   "metadata": {},
   "source": [
    "## 1. Introduction"
   ]
  },
  {
   "cell_type": "markdown",
   "metadata": {
    "tags": []
   },
   "source": [
    "### 1.1 Literature review of the compound (<500 words)"
   ]
  },
  {
   "cell_type": "markdown",
   "metadata": {},
   "source": [
    "#### Current and potential applications of Surfactin\n",
    "Surfactin is a versatile compound belonging to the surfactant group of molecules, which are characterized by their ability to lower the surface tension between a liquid and either another liquid, gas or solid.[1] This ability originates from the structural composition of surfactin, which contains both hydrophilic and lipophilic properties. \n",
    "\n",
    "Surfactin is naturally produced by species such as *Bacillus subtilis*, where it was first discovered. It was first isolated as a fibrin clotting inhibitor but has been proven to possess therapeutic properties and is most commonly used as an antibiotic. \n",
    "\n",
    "#### Market potential of Surfactin\n",
    "he expected Compound Annual Growth Rate (CAGR) of surfactants is 4.5 % as forecasted in the period of 2020 to 2025, reaching an market size of 52.4 billion USD.[5]\n",
    "\n",
    "#### Biosynthetic pathway of Surfactin\n",
    "The pathway of surfactin production is divided in to three main stages; precursor supplement, synthase transcription and export. "
   ]
  },
  {
   "cell_type": "markdown",
   "metadata": {},
   "source": [
    "![](\\\\Pics\\\\pathway.png)"
   ]
  },
  {
<<<<<<< HEAD
   "cell_type": "code",
   "execution_count": 1,
   "metadata": {},
   "outputs": [
    {
     "name": "stderr",
     "output_type": "stream",
     "text": [
      "'[]' is not recognized as an internal or external command,\n",
      "operable program or batch file.\n"
     ]
    }
   ],
   "source": [
    "#![Biosynthetic pathway of Surfactin](Pics/pathway.png \"Schematic of biosynthetic pathway of Surfactin\") \n",
    "![](\"\\\\Pics\\\\pathway.png\")\n",
    "#[[https://github.com/username/repository/blob/master/img/octocat.png|alt=octocat]]\n",
    "#[[https://github.com/27410/group-assignment-2021-group-9-surfactin/blob/main/Pics/pathway.png]]\n",
    "\n",
    "#img src = “pathway.png”"
   ]
  },
  {
=======
>>>>>>> 953d0f5ace7cd87d0a26b5d1030ab1445b28ccd2
   "cell_type": "markdown",
   "metadata": {},
   "source": [
    "*Figure 1 - Schematic overview of the synthesis of Surfactin. Figure made by Wu et al., \"Anticancer Activities of Surfactin and Potential Application of Nanotechnology Assisted Surfactin Delivery\" [https://www.researchgate.net/publication/320645996_Anticancer_Activities_of_Surfactin_and_Potential_Application_of_Nanotechnology_Assisted_Surfactin_Delivery]*"
   ]
  },
  {
   "cell_type": "markdown",
   "metadata": {},
   "source": [
    "### 1.2 Literature review of the cell factory (<500 words)"
   ]
  },
  {
   "cell_type": "code",
   "execution_count": null,
   "metadata": {},
   "outputs": [],
   "source": []
  },
  {
   "cell_type": "markdown",
   "metadata": {},
   "source": [
    "## 2. Problem definition (<300 words)"
   ]
  },
  {
   "cell_type": "markdown",
   "metadata": {},
   "source": [
    "## 3. *If Project category I:* Reconstruction of a new GSM for your cell factory host of interest (<1500 words)"
   ]
  },
  {
   "cell_type": "markdown",
   "metadata": {},
   "source": [
    "or"
   ]
  },
  {
   "cell_type": "markdown",
   "metadata": {},
   "source": [
    "## 3. *If Project category II:* Selection and assessment of existing GSM (<500 words)"
   ]
  },
  {
   "cell_type": "markdown",
   "metadata": {},
   "source": [
    "## 4. Computer-Aided Cell Factory Engineering (<1500 words if Category II project; <500 words for Category I project)"
   ]
  },
  {
   "cell_type": "markdown",
   "metadata": {},
   "source": [
    "## 5. Discussion (<500 words)"
   ]
  },
  {
   "cell_type": "markdown",
   "metadata": {},
   "source": [
    "## 6. Conclusion (<200 words)"
   ]
  },
  {
   "cell_type": "markdown",
   "metadata": {},
   "source": [
    "## References\n",
    "\n",
    "1.\n",
    "https://books.google.dk/books?id=1rCdNIzB78AC&redir_esc=y\n",
    "\n",
    "2.\n",
    "https://microbialcellfactories.biomedcentral.com/articles/10.1186/s12934-019-1089-x\n",
    "\n",
    "3.\n",
    "https://www.marketwatch.com/press-release/surfactant-market---global-outlook-forecast-2021-2026-2021-09-22?tesla=y\n",
    "\n",
    "4.\n",
    "https://www.databridgemarketresearch.com/reports/global-surfactant-market\n",
    "\n",
    "5.\n",
    "https://www.marketsandmarkets.com/Market-Reports/biosurfactants-market-493.html"
   ]
  },
  {
   "cell_type": "code",
   "execution_count": null,
   "metadata": {},
   "outputs": [],
   "source": []
  }
 ],
 "metadata": {
  "kernelspec": {
   "display_name": "Python 3 (ipykernel)",
   "language": "python",
   "name": "python3"
  },
  "language_info": {
   "codemirror_mode": {
    "name": "ipython",
    "version": 3
   },
   "file_extension": ".py",
   "mimetype": "text/x-python",
   "name": "python",
   "nbconvert_exporter": "python",
   "pygments_lexer": "ipython3",
   "version": "3.8.11"
  }
 },
 "nbformat": 4,
 "nbformat_minor": 4
}
