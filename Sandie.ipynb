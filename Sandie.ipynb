{
 "cells": [
  {
   "cell_type": "markdown",
   "id": "549d05e3-0bb1-46a1-b16c-2a9b1b72a976",
   "metadata": {},
   "source": [
    "Importing the model from Data folder"
   ]
  },
  {
   "cell_type": "code",
   "execution_count": 1,
   "id": "8ffacd10-8de1-4e4d-9226-fd5e87cb0951",
   "metadata": {},
   "outputs": [],
   "source": [
    "from cobra.io import read_sbml_model"
   ]
  },
  {
   "cell_type": "code",
   "execution_count": 2,
   "id": "21b6511f-64f4-4335-b038-6a1ee838e8d0",
   "metadata": {},
   "outputs": [],
   "source": [
    "model = read_sbml_model('data/iYO844.xml')"
   ]
  },
  {
   "cell_type": "markdown",
   "id": "85ba3fd7-e1c1-4a6c-80d5-5a1dcb3ac57f",
   "metadata": {},
   "source": [
    "Show the model stats"
   ]
  },
  {
   "cell_type": "code",
   "execution_count": 3,
   "id": "113ff4c0-28b1-4ab0-a2e7-58d9026907f1",
   "metadata": {},
   "outputs": [
    {
     "data": {
      "text/html": [
       "\n",
       "        <table>\n",
       "            <tr>\n",
       "                <td><strong>Name</strong></td>\n",
       "                <td>iYO844</td>\n",
       "            </tr><tr>\n",
       "                <td><strong>Memory address</strong></td>\n",
       "                <td>0x026ec17dd130</td>\n",
       "            </tr><tr>\n",
       "                <td><strong>Number of metabolites</strong></td>\n",
       "                <td>990</td>\n",
       "            </tr><tr>\n",
       "                <td><strong>Number of reactions</strong></td>\n",
       "                <td>1250</td>\n",
       "            </tr><tr>\n",
       "                <td><strong>Number of groups</strong></td>\n",
       "                <td>0</td>\n",
       "            </tr><tr>\n",
       "                <td><strong>Objective expression</strong></td>\n",
       "                <td>1.0*BIOMASS_BS_10 - 1.0*BIOMASS_BS_10_reverse_8788b</td>\n",
       "            </tr><tr>\n",
       "                <td><strong>Compartments</strong></td>\n",
       "                <td>cytosol, extracellular space</td>\n",
       "            </tr>\n",
       "          </table>"
      ],
      "text/plain": [
       "<Model iYO844 at 0x26ec17dd130>"
      ]
     },
     "execution_count": 3,
     "metadata": {},
     "output_type": "execute_result"
    }
   ],
   "source": [
    "model"
   ]
  },
  {
   "cell_type": "markdown",
   "id": "3e7bb600-558a-4f93-bd15-7337e4b41db8",
   "metadata": {},
   "source": [
    "Adding surfactin production to the model"
   ]
  },
  {
   "cell_type": "code",
   "execution_count": 4,
   "id": "47b20133-6dc8-4808-b448-164f97faa285",
   "metadata": {},
   "outputs": [],
   "source": [
    "from cobra import Reaction, Metabolite"
   ]
  },
  {
   "cell_type": "markdown",
   "id": "f09d703b-894c-4456-b595-bd6747505e7a",
   "metadata": {},
   "source": [
    "Will add 4 different reactions due to there being 4 different fatty acids that can make up the fatty acid part of surfactin "
   ]
  },
  {
   "cell_type": "code",
   "execution_count": 5,
   "id": "53e055ee-778b-4642-af28-86f71302134e",
   "metadata": {},
   "outputs": [],
   "source": [
    "new_reaction = Reaction('SP_1') #Surfactin Production reaction 1 "
   ]
  },
  {
   "cell_type": "code",
   "execution_count": 6,
   "id": "dd4c2e87-24f2-47ce-a390-031fbe718374",
   "metadata": {},
   "outputs": [],
   "source": [
    "surfactin = Metabolite(id='surfactin_c', compartment='c') "
   ]
  },
  {
   "cell_type": "code",
   "execution_count": 7,
   "id": "7d2797a4-0ca7-4fab-a4af-c07352e049f3",
   "metadata": {},
   "outputs": [],
   "source": [
    "new_reaction.add_metabolites({model.metabolites.glu__L_c: -1,\n",
    "                              model.metabolites.leu__L_c: -4,\n",
    "                              model.metabolites.val__L_c:-1, \n",
    "                              model.metabolites.asp__L_c: -1,\n",
    "                              model.metabolites.nadph_c:-1,\n",
    "                              model.metabolites.get_by_id('3hddcoa_c'):-1,\n",
    "                              model.metabolites.atp_c:-1,\n",
    "                              model.metabolites.adp_c:1,\n",
    "                              model.metabolites.nadp_c:1,\n",
    "                              surfactin: 1 \n",
    "                             })"
   ]
  },
  {
   "cell_type": "code",
   "execution_count": 8,
   "id": "955ec68d-a78d-4039-9581-383e836df361",
   "metadata": {},
   "outputs": [],
   "source": [
    "model.add_reactions([new_reaction])"
   ]
  },
  {
   "cell_type": "code",
   "execution_count": null,
   "id": "39652080-994b-4594-a6b7-4954a6607ce5",
   "metadata": {},
   "outputs": [],
   "source": [
    "new_reaction2 = Reaction('SP_2') "
   ]
  },
  {
   "cell_type": "code",
   "execution_count": 13,
   "id": "9ba29048-698f-41fd-8e55-bb62baf73623",
   "metadata": {},
   "outputs": [],
   "source": [
    "new_reaction2.add_metabolites({model.metabolites.glu__L_c: -1,\n",
    "                              model.metabolites.leu__L_c: -4,\n",
    "                              model.metabolites.val__L_c:-1, \n",
    "                              model.metabolites.asp__L_c: -1,\n",
    "                              model.metabolites.nadph_c:-1,\n",
    "                              model.metabolites.tdcoa_c:-1,\n",
    "                              model.metabolites.atp_c:-1,\n",
    "                              model.metabolites.adp_c:1,\n",
    "                              model.metabolites.nadp_c:1,\n",
    "                              surfactin: 1 \n",
    "                             })"
   ]
  },
  {
   "cell_type": "code",
   "execution_count": 14,
   "id": "3978c5e2-2207-4fb2-a15a-29304124d703",
   "metadata": {},
   "outputs": [],
   "source": [
    "model.add_reactions([new_reaction2])"
   ]
  },
  {
   "cell_type": "code",
   "execution_count": 15,
   "id": "60feacb6-5bb8-46b2-a1df-079178c1819f",
   "metadata": {},
   "outputs": [],
   "source": [
    "new_reaction3= Reaction('SP_3')"
   ]
  },
  {
   "cell_type": "code",
   "execution_count": 16,
   "id": "5648b975-9e60-4414-98c6-9141993db566",
   "metadata": {},
   "outputs": [],
   "source": [
    "new_reaction3.add_metabolites({model.metabolites.glu__L_c: -1,\n",
    "                              model.metabolites.leu__L_c: -4,\n",
    "                              model.metabolites.val__L_c:-1, \n",
    "                              model.metabolites.asp__L_c: -1,\n",
    "                              model.metabolites.nadph_c:-1,\n",
    "                              model.metabolites.get_by_id('3hhdcoa_c'):-1,\n",
    "                              model.metabolites.atp_c:-1,\n",
    "                              model.metabolites.adp_c:1,\n",
    "                              model.metabolites.nadp_c:1,\n",
    "                              surfactin: 1 \n",
    "                             })"
   ]
  },
  {
   "cell_type": "code",
   "execution_count": 17,
   "id": "8ccfe08d-d570-4d6e-8d5c-4dd6ab383661",
   "metadata": {},
   "outputs": [],
   "source": [
    "model.add_reactions([new_reaction3])"
   ]
  },
  {
   "cell_type": "code",
   "execution_count": 18,
   "id": "dbd8d1aa-3a8f-4262-9a98-961fa1afcb06",
   "metadata": {},
   "outputs": [],
   "source": [
    "new_reaction4= Reaction('SP_4')"
   ]
  },
  {
   "cell_type": "code",
   "execution_count": 19,
   "id": "8e5b275d-1158-465e-8f6a-d1fea9a38db1",
   "metadata": {},
   "outputs": [],
   "source": [
    "new_reaction4.add_metabolites({model.metabolites.glu__L_c: -1,\n",
    "                              model.metabolites.leu__L_c: -4,\n",
    "                              model.metabolites.val__L_c:-1, \n",
    "                              model.metabolites.asp__L_c: -1,\n",
    "                              model.metabolites.nadph_c:-1,\n",
    "                              model.metabolites.get_by_id('3ohdcoa_c'):-1,\n",
    "                              model.metabolites.atp_c:-1,\n",
    "                              model.metabolites.adp_c:1,\n",
    "                              model.metabolites.nadp_c:1,\n",
    "                              surfactin: 1 \n",
    "                             })"
   ]
  },
  {
   "cell_type": "code",
   "execution_count": 20,
   "id": "73264c5a-be84-4fcd-a514-86c6e4fcff54",
   "metadata": {},
   "outputs": [],
   "source": [
    "model.add_reactions([new_reaction4])"
   ]
  },
  {
   "cell_type": "markdown",
   "id": "b82432c1-5543-46fc-9439-5380874ba092",
   "metadata": {},
   "source": [
    "Time to look at production of surfactin"
   ]
  },
  {
   "cell_type": "code",
   "execution_count": 10,
   "id": "af084d40-c37d-4066-a9e3-cc68f1aad9da",
   "metadata": {},
   "outputs": [
    {
     "data": {
      "text/html": [
       "\n",
       "        <table>\n",
       "            <tr>\n",
       "                <td><strong>Reaction identifier</strong></td><td>DM_surfactin_c</td>\n",
       "            </tr><tr>\n",
       "                <td><strong>Name</strong></td><td>demand</td>\n",
       "            </tr><tr>\n",
       "                <td><strong>Memory address</strong></td>\n",
       "                <td>0x026ec76c8c70</td>\n",
       "            </tr><tr>\n",
       "                <td><strong>Stoichiometry</strong></td>\n",
       "                <td>\n",
       "                    <p style='text-align:right'>surfactin_c --></p>\n",
       "                    <p style='text-align:right'>--></p>\n",
       "                </td>\n",
       "            </tr><tr>\n",
       "                <td><strong>GPR</strong></td><td></td>\n",
       "            </tr><tr>\n",
       "                <td><strong>Lower bound</strong></td><td>0</td>\n",
       "            </tr><tr>\n",
       "                <td><strong>Upper bound</strong></td><td>1000.0</td>\n",
       "            </tr>\n",
       "        </table>\n",
       "        "
      ],
      "text/plain": [
       "<Reaction DM_surfactin_c at 0x26ec76c8c70>"
      ]
     },
     "execution_count": 10,
     "metadata": {},
     "output_type": "execute_result"
    }
   ],
   "source": [
    "model.add_boundary(model.metabolites.surfactin_c, type='demand') #forcing surfactin production"
   ]
  },
  {
   "cell_type": "code",
   "execution_count": 11,
   "id": "d8454880-8327-4e9f-8c73-1029430bacb0",
   "metadata": {},
   "outputs": [
    {
     "name": "stdout",
     "output_type": "stream",
     "text": [
      "0.09298767530811763\n"
     ]
    }
   ],
   "source": [
    "#flux for reaction 1\n",
    "with model:\n",
    "    model.objective = model.reactions.SP_1\n",
    "    print(model.optimize().objective_value)"
   ]
  },
  {
   "cell_type": "markdown",
   "id": "ece2b664-e258-4bc6-9c20-82b47ee8f5af",
   "metadata": {},
   "source": [
    "The flux for SP_1 is calculated to 0.09"
   ]
  },
  {
   "cell_type": "code",
   "execution_count": 21,
   "id": "d9653d40-4da1-402d-84fa-a10aa775266d",
   "metadata": {},
   "outputs": [
    {
     "name": "stdout",
     "output_type": "stream",
     "text": [
      "0.08967213114754109\n"
     ]
    }
   ],
   "source": [
    "# Remove?\n",
    "with model:\n",
    "    model.objective = model.reactions.SP_2\n",
    "    print(model.optimize().objective_value)"
   ]
  },
  {
   "cell_type": "code",
   "execution_count": 22,
   "id": "d0f229b3-06ca-49a1-a95d-fe8dd2c2d981",
   "metadata": {},
   "outputs": [
    {
     "name": "stdout",
     "output_type": "stream",
     "text": [
      "0.0873918253228599\n"
     ]
    }
   ],
   "source": [
    "# Remove?\n",
    "with model:\n",
    "    model.objective = model.reactions.SP_3\n",
    "    print(model.optimize().objective_value)"
   ]
  },
  {
   "cell_type": "code",
   "execution_count": 23,
   "id": "9a7e87d0-9eba-43b2-bc8e-c542061c874f",
   "metadata": {},
   "outputs": [
    {
     "name": "stdout",
     "output_type": "stream",
     "text": [
      "0.08780096308186207\n"
     ]
    }
   ],
   "source": [
    "# Remove?\n",
    "with model:\n",
    "    model.objective = model.reactions.SP_4\n",
    "    print(model.optimize().objective_value)"
   ]
  },
  {
   "cell_type": "code",
   "execution_count": 24,
   "id": "99b6f2aa-d8cd-45d2-aa5c-16c989aa7803",
   "metadata": {},
   "outputs": [
    {
     "name": "stdout",
     "output_type": "stream",
     "text": [
      "0.0929876753081174\n"
     ]
    }
   ],
   "source": [
    "#Flux for surfactin production, so all reactions included \n",
    "with model:\n",
    "    model.objective = model.reactions.DM_surfactin_c\n",
    "    print(model.optimize().objective_value)"
   ]
  },
  {
   "cell_type": "markdown",
   "id": "023158df-302d-4f77-8596-00c9e78447cf",
   "metadata": {},
   "source": [
    "Changing the carbon source to sucrose"
   ]
  },
  {
   "cell_type": "code",
   "execution_count": 25,
   "id": "71507429-d6c1-4221-8223-521e1f344be4",
   "metadata": {},
   "outputs": [
    {
     "data": {
      "text/plain": [
       "[<Metabolite argsuc_c at 0x26ec57a9f10>,\n",
       " <Metabolite suc6p_c at 0x26ec5971b80>,\n",
       " <Metabolite sucbz_c at 0x26ec5971df0>,\n",
       " <Metabolite succ_c at 0x26ec5971fa0>,\n",
       " <Metabolite succ_e at 0x26ec5971280>,\n",
       " <Metabolite succoa_c at 0x26ec5971490>,\n",
       " <Metabolite suchms_c at 0x26ec59713a0>,\n",
       " <Metabolite sucr_c at 0x26ec59883d0>,\n",
       " <Metabolite sucr_e at 0x26ec59884f0>,\n",
       " <Metabolite sucsal_c at 0x26ec59886d0>]"
      ]
     },
     "execution_count": 25,
     "metadata": {},
     "output_type": "execute_result"
    }
   ],
   "source": [
    "model.metabolites.query('suc') #finding sucrose in model - remove?"
   ]
  },
  {
   "cell_type": "code",
   "execution_count": 26,
   "id": "0765a646-06b0-46c3-add3-87d186cce5c9",
   "metadata": {},
   "outputs": [
    {
     "data": {
      "text/html": [
       "\n",
       "        <table>\n",
       "            <tr>\n",
       "                <td><strong>Metabolite identifier</strong></td><td>sucr_e</td>\n",
       "            </tr><tr>\n",
       "                <td><strong>Name</strong></td><td>Sucrose C12H22O11</td>\n",
       "            </tr><tr>\n",
       "                <td><strong>Memory address</strong></td>\n",
       "                <td>0x026ec59884f0</td>\n",
       "            </tr><tr>\n",
       "                <td><strong>Formula</strong></td><td>C12H22O11</td>\n",
       "            </tr><tr>\n",
       "                <td><strong>Compartment</strong></td><td>e</td>\n",
       "            </tr><tr>\n",
       "                <td><strong>In 2 reaction(s)</strong></td><td>\n",
       "                    SUCpts, EX_sucr_e</td>\n",
       "            </tr>\n",
       "        </table>"
      ],
      "text/plain": [
       "<Metabolite sucr_e at 0x26ec59884f0>"
      ]
     },
     "execution_count": 26,
     "metadata": {},
     "output_type": "execute_result"
    }
   ],
   "source": [
    "model.metabolites.sucr_e"
   ]
  },
  {
   "cell_type": "code",
   "execution_count": 27,
   "id": "597e4fb3-0241-4f0f-9a4f-ad8c608cc5f6",
   "metadata": {},
   "outputs": [],
   "source": [
    "model.reactions.EX_glc__D_e.lower_bound = 0"
   ]
  },
  {
   "cell_type": "code",
   "execution_count": 28,
   "id": "c9c33361-454d-45d7-85cf-abfb4a6b02bf",
   "metadata": {},
   "outputs": [],
   "source": [
    "model.reactions.EX_sucr_e.lower_bound = -1000"
   ]
  },
  {
   "cell_type": "code",
   "execution_count": 29,
   "id": "02554d5b-5916-4da3-a01c-d556a843b40e",
   "metadata": {},
   "outputs": [
    {
     "data": {
      "text/html": [
       "<strong><em>Optimal</em> solution with objective value 0.624</strong><br><div>\n",
       "<style scoped>\n",
       "    .dataframe tbody tr th:only-of-type {\n",
       "        vertical-align: middle;\n",
       "    }\n",
       "\n",
       "    .dataframe tbody tr th {\n",
       "        vertical-align: top;\n",
       "    }\n",
       "\n",
       "    .dataframe thead th {\n",
       "        text-align: right;\n",
       "    }\n",
       "</style>\n",
       "<table border=\"1\" class=\"dataframe\">\n",
       "  <thead>\n",
       "    <tr style=\"text-align: right;\">\n",
       "      <th></th>\n",
       "      <th>fluxes</th>\n",
       "      <th>reduced_costs</th>\n",
       "    </tr>\n",
       "  </thead>\n",
       "  <tbody>\n",
       "    <tr>\n",
       "      <th>EX_etha_e</th>\n",
       "      <td>0.0</td>\n",
       "      <td>-2.496739e-01</td>\n",
       "    </tr>\n",
       "    <tr>\n",
       "      <th>EX_drib_e</th>\n",
       "      <td>0.0</td>\n",
       "      <td>-1.548569e-16</td>\n",
       "    </tr>\n",
       "    <tr>\n",
       "      <th>EX_csn_e</th>\n",
       "      <td>0.0</td>\n",
       "      <td>-7.490218e-01</td>\n",
       "    </tr>\n",
       "    <tr>\n",
       "      <th>EX_5mtr_e</th>\n",
       "      <td>0.0</td>\n",
       "      <td>0.000000e+00</td>\n",
       "    </tr>\n",
       "    <tr>\n",
       "      <th>EX_dtmp_e</th>\n",
       "      <td>0.0</td>\n",
       "      <td>-4.993479e-01</td>\n",
       "    </tr>\n",
       "    <tr>\n",
       "      <th>...</th>\n",
       "      <td>...</td>\n",
       "      <td>...</td>\n",
       "    </tr>\n",
       "    <tr>\n",
       "      <th>SP_1</th>\n",
       "      <td>0.0</td>\n",
       "      <td>-1.747717e+00</td>\n",
       "    </tr>\n",
       "    <tr>\n",
       "      <th>DM_surfactin_c</th>\n",
       "      <td>0.0</td>\n",
       "      <td>0.000000e+00</td>\n",
       "    </tr>\n",
       "    <tr>\n",
       "      <th>SP_2</th>\n",
       "      <td>0.0</td>\n",
       "      <td>-1.747717e+00</td>\n",
       "    </tr>\n",
       "    <tr>\n",
       "      <th>SP_3</th>\n",
       "      <td>0.0</td>\n",
       "      <td>-1.747717e+00</td>\n",
       "    </tr>\n",
       "    <tr>\n",
       "      <th>SP_4</th>\n",
       "      <td>0.0</td>\n",
       "      <td>-1.747717e+00</td>\n",
       "    </tr>\n",
       "  </tbody>\n",
       "</table>\n",
       "<p>1255 rows × 2 columns</p>\n",
       "</div>"
      ],
      "text/plain": [
       "<Solution 0.624 at 0x26ec76f3340>"
      ]
     },
     "execution_count": 29,
     "metadata": {},
     "output_type": "execute_result"
    }
   ],
   "source": [
    "model.optimize()"
   ]
  },
  {
   "cell_type": "code",
   "execution_count": 30,
   "id": "1725f9c5-f649-40a3-aba3-62091aab6161",
   "metadata": {},
   "outputs": [
    {
     "data": {
      "text/plain": [
       "-3.832839306087132"
      ]
     },
     "execution_count": 30,
     "metadata": {},
     "output_type": "execute_result"
    }
   ],
   "source": [
    "model.reactions.EX_sucr_e.flux"
   ]
  },
  {
   "cell_type": "markdown",
   "id": "e7978539-cc53-461f-9ce1-dc08a992692d",
   "metadata": {},
   "source": [
    "Calculating the yield"
   ]
  },
  {
   "cell_type": "code",
   "execution_count": 33,
   "id": "7e6d444f-b64c-4238-82e4-1258b9714d05",
   "metadata": {},
   "outputs": [
    {
     "name": "stdout",
     "output_type": "stream",
     "text": [
      "Maximum productivity = 0.35714285714285604 mmol/gDW*h\n",
      "Maximum theoretical yield = 0.12549488309554035 mmol-surfactin/mmol-sucrose\n"
     ]
    }
   ],
   "source": [
    "model.objective = model.reactions.DM_surfactin_c\n",
    "surfactin_production = model.optimize().objective_value\n",
    "print('Maximum productivity =', surfactin_production, 'mmol/gDW*h')\n",
    "   \n",
    "maximum_yield = surfactin_production / (-1*(model.reactions.EX_sucr_e.flux))\n",
    "print('Maximum theoretical yield =', maximum_yield, 'mmol-surfactin/mmol-sucrose')"
   ]
  },
  {
   "cell_type": "markdown",
   "id": "3b5ae3c0-4a2c-4eb7-bd70-9fce343cd2c2",
   "metadata": {},
   "source": [
    "The article had 0.154 mol-surfactin/mol-sucrose after knock-in. "
   ]
  },
  {
   "cell_type": "markdown",
   "id": "67500752-a45a-43b3-b78f-bdbf56450dfe",
   "metadata": {},
   "source": [
    "Sandie starts doing stuff from here:"
   ]
  },
  {
   "cell_type": "markdown",
   "id": "3760a59b-1b6b-4c22-88b7-cd3c647ae814",
   "metadata": {},
   "source": [
    "Compute gene knockout strategies using algorithms like OptKnock, OptGene and OptCouple"
   ]
  },
  {
   "cell_type": "code",
   "execution_count": null,
   "id": "0a9b398c-cdbe-4691-b8f2-496df378b8e1",
   "metadata": {},
   "outputs": [],
   "source": []
  }
 ],
 "metadata": {
  "kernelspec": {
   "display_name": "Python 3",
   "language": "python",
   "name": "python3"
  },
  "language_info": {
   "codemirror_mode": {
    "name": "ipython",
    "version": 3
   },
   "file_extension": ".py",
   "mimetype": "text/x-python",
   "name": "python",
   "nbconvert_exporter": "python",
   "pygments_lexer": "ipython3",
   "version": "3.8.8"
  }
 },
 "nbformat": 4,
 "nbformat_minor": 5
}
