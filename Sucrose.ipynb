{
 "cells": [
  {
   "cell_type": "code",
   "execution_count": null,
   "id": "f9614bd2-675d-4474-8df2-f63e20da8646",
   "metadata": {},
   "outputs": [],
   "source": [
    "%run model.ipynb"
   ]
  },
  {
   "cell_type": "code",
   "execution_count": null,
   "id": "bcb561c3-7474-4fe9-adf9-754818aff67b",
   "metadata": {},
   "outputs": [],
   "source": [
    "model.metabolites.query('suc') #finding sucrose in model"
   ]
  },
  {
   "cell_type": "code",
   "execution_count": null,
   "id": "8efd55ac-f610-4428-b3ac-75a9467946dc",
   "metadata": {},
   "outputs": [],
   "source": [
    "model.metabolites.sucr_e"
   ]
  },
  {
   "cell_type": "code",
   "execution_count": null,
   "id": "aa0ae43c-9f16-46aa-9d8c-75ee4cd99c2d",
   "metadata": {},
   "outputs": [],
   "source": [
    "model.reactions.EX_glc__D_e.lower_bound = 0"
   ]
  },
  {
   "cell_type": "code",
   "execution_count": null,
   "id": "19f3a4a3-fc46-4a72-be9e-1af6bbaedba0",
   "metadata": {},
   "outputs": [],
   "source": [
    "model.reactions.EX_sucr_e.lower_bound = -1000"
   ]
  },
  {
   "cell_type": "code",
   "execution_count": null,
   "id": "4d820734-0834-471d-87cb-aa8a28fb8c84",
   "metadata": {},
   "outputs": [],
   "source": [
    "model.optimize()"
   ]
  },
  {
   "cell_type": "code",
   "execution_count": null,
   "id": "fcf799cb-ebc4-4924-9c03-9f4bf0796c06",
   "metadata": {},
   "outputs": [],
   "source": [
    "model.reactions.EX_sucr_e.flux"
   ]
  },
  {
   "cell_type": "code",
   "execution_count": null,
   "id": "70741964-fc99-4392-82f2-70b6b5705844",
   "metadata": {},
   "outputs": [],
   "source": [
    "model.objective = model.reactions.DM_surfactin_c\n",
    "surfactin_production = model.optimize().objective_value\n",
    "print('Maximum productivity =', surfactin_production, 'mmol/gDW*h')\n",
    "   \n",
    "maximum_yield = surfactin_production / (-1*(model.reactions.EX_sucr_e.flux))\n",
    "print('Maximum theoretical yield =', maximum_yield, 'mmol-surfactin/mmol-sucrose')"
   ]
  },
  {
   "cell_type": "markdown",
   "id": "13903c9f-da2d-4029-89a4-080038d7aff7",
   "metadata": {},
   "source": [
    "The article had 0.154 mol-surfactin/mol-sucrose after knock-in. "
   ]
  }
 ],
 "metadata": {
  "kernelspec": {
   "display_name": "Python 3 (ipykernel)",
   "language": "python",
   "name": "python3"
  },
  "language_info": {
   "codemirror_mode": {
    "name": "ipython",
    "version": 3
   },
   "file_extension": ".py",
   "mimetype": "text/x-python",
   "name": "python",
   "nbconvert_exporter": "python",
   "pygments_lexer": "ipython3",
   "version": "3.8.11"
  }
 },
 "nbformat": 4,
 "nbformat_minor": 5
}
