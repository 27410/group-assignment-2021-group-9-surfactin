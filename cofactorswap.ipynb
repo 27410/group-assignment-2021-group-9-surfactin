{
 "cells": [
  {
   "cell_type": "markdown",
   "id": "549d05e3-0bb1-46a1-b16c-2a9b1b72a976",
   "metadata": {},
   "source": [
    "Importing the model from Data folder"
   ]
  },
  {
   "cell_type": "markdown",
   "id": "6fe6c935-284e-471f-8bff-00ec7ea8a095",
   "metadata": {},
   "source": [
    "Trying the same at model report. "
   ]
  },
  {
   "cell_type": "code",
   "execution_count": 1,
   "id": "8ffacd10-8de1-4e4d-9226-fd5e87cb0951",
   "metadata": {},
   "outputs": [],
   "source": [
    "%run model_sucrose.ipynb #Getting model with sucrose as carbon source for modifications"
   ]
  },
  {
   "cell_type": "code",
   "execution_count": null,
   "id": "4850576d-9cc7-40df-a264-0d5119fd25e8",
   "metadata": {},
   "outputs": [],
   "source": [
    "from cameo.strain_design.heuristic.evolutionary_based import CofactorSwapOptimization\n",
    "from cameo.strain_design.heuristic.evolutionary.objective_functions import product_yield\n",
    "\n",
    "from cameo.strain_design.heuristic.evolutionary.optimization import CofactorSwapOptimization, NADH_NADPH\n",
    "#Pulling relevant code from cameo. "
   ]
  },
  {
   "cell_type": "code",
   "execution_count": null,
   "id": "3c4458c7-2246-4c1c-abf1-ad8470de9d24",
   "metadata": {},
   "outputs": [],
   "source": [
    "model.solver = \"glpk\" #Free software package"
   ]
  },
  {
   "cell_type": "code",
   "execution_count": null,
   "id": "bb027297-0de8-4f01-87dc-f3d7682cabda",
   "metadata": {},
   "outputs": [],
   "source": [
    "biomass = model.reactions.BIOMASS_BS_10 #Reactions leading to biomass formation. "
   ]
  },
  {
   "cell_type": "code",
   "execution_count": null,
   "id": "3e96ec32-4222-4c83-89f7-8a7b71ff885b",
   "metadata": {},
   "outputs": [],
   "source": [
    "biomass.lower_bound = 0.1 #Possible to change bounds, but does that make sense to do?"
   ]
  },
  {
   "cell_type": "code",
   "execution_count": null,
   "id": "46fbdac9-d5a7-444c-a2cb-6c6f5f20e46a",
   "metadata": {},
   "outputs": [],
   "source": [
    "demand = model.reactions.DM_surfactin_c #Definition on what product we are demanding / looking for"
   ]
  },
  {
   "cell_type": "code",
   "execution_count": null,
   "id": "cb04e445-11ff-4425-98e2-ff83a3f8e292",
   "metadata": {},
   "outputs": [],
   "source": [
    "model.objective = demand #Setting our demand as the objective of this."
   ]
  },
  {
   "cell_type": "code",
   "execution_count": null,
   "id": "1d55e9d7-2426-48ff-8e55-005e83af013f",
   "metadata": {},
   "outputs": [],
   "source": [
    "product_yield = product_yield(demand, model.reactions.EX_sucr_e) #Setting the yield of surfactin based on the surcrose used"
   ]
  },
  {
   "cell_type": "code",
   "execution_count": null,
   "id": "98b89567-6558-484b-8699-b86ea1291110",
   "metadata": {},
   "outputs": [],
   "source": [
    "#CofactorSwapOptimization? #Details of CofactorSwapOptimization - not needed "
   ]
  },
  {
   "cell_type": "code",
   "execution_count": null,
   "id": "1a002ea1-7991-4bde-9752-daf10ba1aea1",
   "metadata": {},
   "outputs": [],
   "source": [
    "swap_opt = CofactorSwapOptimization(model=model, objective_function=product_yield, plot=True, cofactor_id_swaps=(['nadp_c', 'nadph_c'], ['nad_c', 'nadh_c']))"
   ]
  },
  {
   "cell_type": "code",
   "execution_count": null,
   "id": "0b2372a7-fbc3-4eab-9e6a-6cfcd42d229c",
   "metadata": {},
   "outputs": [],
   "source": [
    "%%time\n",
    "result = swap_opt.run(max_size=5) #Running the analysis"
   ]
  },
  {
   "cell_type": "code",
   "execution_count": null,
   "id": "f40b922d-0fb5-47fa-b4df-a7fccb9d4814",
   "metadata": {},
   "outputs": [],
   "source": [
    "result #Showing the result of the analysis"
   ]
  },
  {
   "cell_type": "code",
   "execution_count": 15,
   "id": "d02fe56d-da62-406b-ba15-2889c5edfcf8",
   "metadata": {},
   "outputs": [],
   "source": [
    "#model.reactions.??? #There are no reactions available to switch co-factors in in relation to improving surfactin production. "
   ]
  },
  {
   "cell_type": "raw",
   "id": "f762fb52-87f4-424d-953d-17f8fb86fe14",
   "metadata": {},
   "source": [
    "There seems to be no targets to improve on. What a shame. "
   ]
  }
 ],
 "metadata": {
  "kernelspec": {
   "display_name": "Python 3 (ipykernel)",
   "language": "python",
   "name": "python3"
  },
  "language_info": {
   "codemirror_mode": {
    "name": "ipython",
    "version": 3
   },
   "file_extension": ".py",
   "mimetype": "text/x-python",
   "name": "python",
   "nbconvert_exporter": "python",
   "pygments_lexer": "ipython3",
   "version": "3.8.11"
  }
 },
 "nbformat": 4,
 "nbformat_minor": 5
}
