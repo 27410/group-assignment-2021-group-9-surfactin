{
 "cells": [
  {
   "cell_type": "markdown",
   "id": "47f43089-7fa4-42db-b383-6b819d71793b",
   "metadata": {},
   "source": [
    "| Reactions      | Fluxes on glucose     | Fluxes on sucrose   |\n",
    "| :------------- | :----------: | -----------: |\n",
    "| SP_1   | 0.0746 | 0.3436 |\n",
    "| SP_2   | 0.0720 | 0.3436 |\n",
    "| SP_3   | 0.0701 | 0.3436 |\n",
    "| SP_4   | 0.0705 | 0.3436|\n",
    "| DM_surfactin   | 0.0746 | 0.3436|"
   ]
  },
  {
   "cell_type": "markdown",
   "id": "2dad156b-47b6-4a22-89ab-65b762d04e7f",
   "metadata": {},
   "source": [
    "| Surfactin yield on glucose | Surfactin yield on sucrose |\n",
    "| :------------- | :----------: | \n",
    "| 0.0439 mmol-surfactin/mmol-glucose | 0.1132 mmol-surfactin/mmol-sucrose   | "
   ]
  },
  {
   "cell_type": "markdown",
   "id": "cfbfc489-fea6-44d9-be30-2da0b19af371",
   "metadata": {},
   "source": [
    "| Reactions | Initial flux | Enforced flux | Relative flux increase | Surfactin flux | Relative surfactin flux increase| Gene symbol | Gene function |\n",
    "| :---|:---:|:---:|:---:|:---:|:---:|:---:|:---|\n",
    "| GLYO1 | 0.0 | 0.617 | ~ | 1.67e-16 | 13.3 | thiO | FAD-dependent glycine oxidase |\n",
    "|GLXCBL| 2.91e-15 | 0.309 | 1.06e14 | 2.22e-16 | 18.3 | poxB | acetyl-phosphate generating pyruvate oxidase |\n",
    "|HOXPRx| -1.89e-15 | -0.309 | 1.63e14 | 2.224e-16 | 18.3 | ohaC | beta-hydroxyacid dehydrogenase (acts on 3-hydroxypropionate with NADP) |\n",
    "|GLYCK| 0.0 | 0.309 | ~ | 2.224e-16 | 18.3 | glxK | D-glycerate kinase|\n",
    "|ASP1DC| -8.33e-17 | 0.309 | 3.71e17 | 2.76e-17 | 1.16 | panD | aspartate 1-decarboxylase|\n"
   ]
  }
 ],
 "metadata": {
  "kernelspec": {
   "display_name": "Python 3 (ipykernel)",
   "language": "python",
   "name": "python3"
  },
  "language_info": {
   "codemirror_mode": {
    "name": "ipython",
    "version": 3
   },
   "file_extension": ".py",
   "mimetype": "text/x-python",
   "name": "python",
   "nbconvert_exporter": "python",
   "pygments_lexer": "ipython3",
   "version": "3.9.7"
  }
 },
 "nbformat": 4,
 "nbformat_minor": 5
}
