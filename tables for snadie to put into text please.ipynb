{
 "cells": [
  {
   "cell_type": "markdown",
   "id": "47f43089-7fa4-42db-b383-6b819d71793b",
   "metadata": {},
   "source": [
    "| Reactions      | Fluxes on glucose     | Fluxes on sucrose   |\n",
    "| :------------- | :----------: | -----------: |\n",
    "| SP_1   | 0.0746 | 0.3436 |\n",
    "| SP_2   | 0.0720 | 0.3436 |\n",
    "| SP_3   | 0.0701 | 0.3436 |\n",
    "| SP_4   | 0.0705 | 0.3436|\n",
    "| DM_surfactin   | 0.0746 | 0.3436|"
   ]
  },
  {
   "cell_type": "markdown",
   "id": "2dad156b-47b6-4a22-89ab-65b762d04e7f",
   "metadata": {},
   "source": [
    "| Surfactin yield on glucose | Surfactin yield on sucrose |\n",
    "| :------------- | :----------: | \n",
    "| 0.0439 mmol-surfactin/mmol-glucose | 0.1132 mmol-surfactin/mmol-sucrose   | "
   ]
  },
  {
   "cell_type": "code",
   "execution_count": null,
   "id": "e1b11d9c-1290-49d5-9cd1-4fd823733a48",
   "metadata": {},
   "outputs": [],
   "source": []
  }
 ],
 "metadata": {
  "kernelspec": {
   "display_name": "Python 3 (ipykernel)",
   "language": "python",
   "name": "python3"
  },
  "language_info": {
   "codemirror_mode": {
    "name": "ipython",
    "version": 3
   },
   "file_extension": ".py",
   "mimetype": "text/x-python",
   "name": "python",
   "nbconvert_exporter": "python",
   "pygments_lexer": "ipython3",
   "version": "3.8.11"
  }
 },
 "nbformat": 4,
 "nbformat_minor": 5
}
